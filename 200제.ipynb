{
 "cells": [
  {
   "cell_type": "code",
   "execution_count": 10,
   "metadata": {},
   "outputs": [
    {
     "name": "stdout",
     "output_type": "stream",
     "text": [
      "Hello World!\n"
     ]
    }
   ],
   "source": [
    "#1번\n",
    "print(\"Hello World!\")"
   ]
  },
  {
   "cell_type": "code",
   "execution_count": 11,
   "metadata": {},
   "outputs": [
    {
     "name": "stdout",
     "output_type": "stream",
     "text": [
      "Mary's cosmetics\n"
     ]
    }
   ],
   "source": [
    "#2qjs\n",
    "print(\"Mary's cosmetics\")"
   ]
  },
  {
   "cell_type": "code",
   "execution_count": 12,
   "metadata": {},
   "outputs": [
    {
     "name": "stdout",
     "output_type": "stream",
     "text": [
      "신씨가 소리질렀다. \"도둑이야\".\n"
     ]
    }
   ],
   "source": [
    "#3번\n",
    "print('신씨가 소리질렀다. \"도둑이야\".')"
   ]
  },
  {
   "cell_type": "code",
   "execution_count": 13,
   "metadata": {},
   "outputs": [
    {
     "name": "stdout",
     "output_type": "stream",
     "text": [
      "\"C:\\Windows\"\n"
     ]
    }
   ],
   "source": [
    "#4번\n",
    "print('\"C:\\Windows\"')"
   ]
  },
  {
   "cell_type": "code",
   "execution_count": 14,
   "metadata": {},
   "outputs": [
    {
     "name": "stdout",
     "output_type": "stream",
     "text": [
      "안녕하세요.\n",
      "만나서\t\t반갑습니다.\n"
     ]
    }
   ],
   "source": [
    "#5번\n",
    "print(\"안녕하세요.\\n만나서\\t\\t반갑습니다.\")"
   ]
  },
  {
   "cell_type": "code",
   "execution_count": 15,
   "metadata": {},
   "outputs": [
    {
     "name": "stdout",
     "output_type": "stream",
     "text": [
      "오늘은 일요일\n"
     ]
    }
   ],
   "source": [
    "#6번\n",
    "print (\"오늘은\", \"일요일\")"
   ]
  },
  {
   "cell_type": "code",
   "execution_count": 16,
   "metadata": {},
   "outputs": [
    {
     "name": "stdout",
     "output_type": "stream",
     "text": [
      "naver;kakao;sk;samsung\n"
     ]
    }
   ],
   "source": [
    "#7번\n",
    "print(\"naver;kakao;sk;samsung\")"
   ]
  },
  {
   "cell_type": "code",
   "execution_count": 17,
   "metadata": {},
   "outputs": [
    {
     "name": "stdout",
     "output_type": "stream",
     "text": [
      "first\n",
      "second\n"
     ]
    }
   ],
   "source": [
    "#8번\n",
    "print(\"first\");print(\"second\")"
   ]
  },
  {
   "cell_type": "code",
   "execution_count": 23,
   "metadata": {},
   "outputs": [
    {
     "name": "stdout",
     "output_type": "stream",
     "text": [
      "-56000\n"
     ]
    }
   ],
   "source": [
    "from queue import Queue\n",
    "import numpy as np\n",
    "\n",
    "K= int(input())\n",
    "\n",
    "que = Queue()\n",
    "\n",
    "seroTotal = 0\n",
    "seroMax = 0\n",
    "garoTotal = 0\n",
    "garoMax = 0\n",
    "\n",
    "# melon = [[0] * 2 for _ in range(6)]\n",
    "melon = np.zeros((6, 2), dtype=int)\n",
    "four = [0] * 4\n",
    "\n",
    "for i in range(6):\n",
    "    data = input().split()\n",
    "    compass = int(data[0])\n",
    "    length = int(data[1])\n",
    "\n",
    "    melon[i][0] = compass\n",
    "    melon[i][1] = length\n",
    "\n",
    "    if (melon[i][0] == 3 | melon[i][0] == 4):\n",
    "        seroTotal += melon[i][1]\n",
    "    if (melon[i][0] == 1 | melon[i][0] == 2):\n",
    "        garoTotal += melon[i][1]    \n",
    "    que.put(length)    \n",
    "\n",
    "seroMax = int(seroTotal / 2)\n",
    "garoMax = int(garoTotal / 2)\n",
    "\n",
    "lastIndex = 0\n",
    "\n",
    "for i in range(5):\n",
    "    if((melon[i][1] == seroMax and melon[i + 1][1] == garoMax) or (melon[i][1] == garoMax and melon[i + 1][1] == seroMax)):\n",
    "        lastIndex = i + 1\n",
    "if ((melon[5][1] == seroMax and melon[0][1] == garoMax) or (melon[5][1] == garoMax and melon[0][1] == seroMax)):\n",
    "\t\tlastIndex = 0\n",
    "if (lastIndex != 5): \n",
    "\tfor i in range(lastIndex):\n",
    "\t\tque.put(que.get());                \n",
    "for i in range(4):\n",
    "       four[i] = que.get()\n",
    "result = ((seroMax * garoMax) - (four[1] * four[2])) * K   \n",
    "print(result)    "
   ]
  }
 ],
 "metadata": {
  "kernelspec": {
   "display_name": "Python 3",
   "language": "python",
   "name": "python3"
  },
  "language_info": {
   "codemirror_mode": {
    "name": "ipython",
    "version": 3
   },
   "file_extension": ".py",
   "mimetype": "text/x-python",
   "name": "python",
   "nbconvert_exporter": "python",
   "pygments_lexer": "ipython3",
   "version": "3.10.8"
  },
  "orig_nbformat": 4
 },
 "nbformat": 4,
 "nbformat_minor": 2
}
