{
 "cells": [
  {
   "attachments": {},
   "cell_type": "markdown",
   "metadata": {},
   "source": [
    "pandas  \n",
    "인덱스와 값으로 저장한다  \n",
    "테이블 형태"
   ]
  },
  {
   "cell_type": "code",
   "execution_count": 1,
   "metadata": {},
   "outputs": [
    {
     "name": "stdout",
     "output_type": "stream",
     "text": [
      "0    1\n",
      "1    2\n",
      "2    3\n",
      "3    4\n",
      "dtype: int64\n"
     ]
    }
   ],
   "source": [
    "import pandas as pd\n",
    "\n",
    "# Series 생성\n",
    "# 리스트 사용\n",
    "data = pd.Series([1, 2, 3, 4])\n",
    "print(data)\n"
   ]
  },
  {
   "cell_type": "code",
   "execution_count": 3,
   "metadata": {},
   "outputs": [
    {
     "name": "stdout",
     "output_type": "stream",
     "text": [
      "a    1\n",
      "b    2\n",
      "c    3\n",
      "d    4\n",
      "dtype: int64\n",
      "a    1\n",
      "b    2\n",
      "c    3\n",
      "d    4\n",
      "dtype: int64\n"
     ]
    }
   ],
   "source": [
    "# 문자열 인덱스 사용\n",
    "data = pd.Series([1, 2, 3, 4], index=['a', 'b', 'c', 'd'])\n",
    "print(data)\n",
    "\n",
    "# 딕셔너리 사용\n",
    "data1 = {'a': 1, 'b': 2, 'c': 3 , 'd': 4} #키값이 인덱스로 바로 변환\n",
    "s1 = pd.Series(data1)\n",
    "print(s1)\n",
    "\n",
    "\n"
   ]
  },
  {
   "cell_type": "code",
   "execution_count": 4,
   "metadata": {},
   "outputs": [
    {
     "name": "stdout",
     "output_type": "stream",
     "text": [
      "10\n",
      "a    10\n",
      "c    30\n",
      "e    50\n",
      "dtype: int64\n",
      "a    10\n",
      "b    20\n",
      "c    30\n",
      "dtype: int64\n",
      "d    40\n",
      "e    50\n",
      "dtype: int64\n"
     ]
    }
   ],
   "source": [
    "import pandas as pd\n",
    "\n",
    "# 시리즈 생성\n",
    "data = [10, 20, 30, 40, 50]\n",
    "index = ['a', 'b', 'c', 'd', 'e']\n",
    "s = pd.Series(data, index=index)\n",
    "\n",
    "# 시리즈 인덱싱\n",
    "print(s['a'])  # 10\n",
    "print(s[['a', 'c', 'e']])  # a    10, c    30, e    50\n",
    "print(s[:3])  # a    10, b    20, c    30\n",
    "print(s[s > 30])  # d    40, e    50\n"
   ]
  },
  {
   "cell_type": "code",
   "execution_count": 5,
   "metadata": {},
   "outputs": [
    {
     "data": {
      "image/png": "[encoded data removed]",
      "text/plain": [
       "<Figure size 640x480 with 1 Axes>"
      ]
     },
     "metadata": {},
     "output_type": "display_data"
    }
   ],
   "source": [
    "import pandas as pd\n",
    "import matplotlib.pyplot as plt\n",
    "\n",
    "# 시리즈 데이터 생성\n",
    "sales = pd.Series([100, 120, 150, 160, 180], index=['Jan', 'Feb', 'Mar', 'Apr', 'May'])\n",
    "\n",
    "# 막대 그래프 그리기\n",
    "plt.bar(sales.index, sales.values)\n",
    "\n",
    "# 축과 제목 설정\n",
    "plt.xlabel('Month')\n",
    "plt.ylabel('Sales')\n",
    "plt.title('Monthly Sales')\n",
    "\n",
    "# 그래프 표시\n",
    "plt.show()\n"
   ]
  },
  {
   "cell_type": "code",
   "execution_count": 6,
   "metadata": {},
   "outputs": [
    {
     "name": "stdout",
     "output_type": "stream",
     "text": [
      "a    11.0\n",
      "b     NaN\n",
      "c    33.0\n",
      "d     NaN\n",
      "dtype: float64\n",
      "a    -9.0\n",
      "b     NaN\n",
      "c   -27.0\n",
      "d     NaN\n",
      "dtype: float64\n",
      "a    10.0\n",
      "b     NaN\n",
      "c    90.0\n",
      "d     NaN\n",
      "dtype: float64\n",
      "a    0.1\n",
      "b    NaN\n",
      "c    0.1\n",
      "d    NaN\n",
      "dtype: float64\n"
     ]
    }
   ],
   "source": [
    "import pandas as pd\n",
    "\n",
    "# 시리즈 생성\n",
    "data1 = {'a': 1, 'b': 2, 'c': 3}\n",
    "data2 = {'a': 10, 'c': 30, 'd': 40}\n",
    "s1 = pd.Series(data1)\n",
    "s2 = pd.Series(data2)\n",
    "\n",
    "# 덧셈 연산\n",
    "s = s1 + s2\n",
    "print(s)  # a    11.0, b     NaN, c    33.0, d     NaN\n",
    "           # dtype: float64\n",
    "\n",
    "# 뺄셈 연산\n",
    "s = s1 - s2\n",
    "print(s)  # a    -9.0, b     NaN, c   -27.0, d     NaN\n",
    "           # dtype: float64\n",
    "\n",
    "# 곱셈 연산\n",
    "s = s1 * s2\n",
    "print(s)  # a    10.0, b     NaN, c    90.0, d     NaN\n",
    "           # dtype: float64\n",
    "\n",
    "# 나눗셈 연산\n",
    "s = s1 / s2\n",
    "print(s)  # a    0.1 , b     NaN, c    0.1 , d     NaN\n",
    "           # dtype: float64\n",
    "           \n",
    "\n",
    "#NaN이 나오는건 같은 인덱스끼리 연산을 하기때문. data2 에는 b가 없으니 연산할게 없지\n"
   ]
  },
  {
   "cell_type": "code",
   "execution_count": 7,
   "metadata": {},
   "outputs": [
    {
     "name": "stdout",
     "output_type": "stream",
     "text": [
      "150\n",
      "30.0\n",
      "15.811388300841896\n",
      "50\n",
      "10\n"
     ]
    }
   ],
   "source": [
    "import pandas as pd\n",
    "\n",
    "# 시리즈 생성\n",
    "data = [10, 20, 30, 40, 50]\n",
    "index = ['a', 'b', 'c', 'd', 'e']\n",
    "s = pd.Series(data, index=index)\n",
    "\n",
    "# 집계 함수 예시\n",
    "print(s.sum())  # 150\n",
    "print(s.mean())  # 30.0\n",
    "print(s.std())  # 15.811388300841896\n",
    "print(s.max())  # 50\n",
    "print(s.min())  # 10\n"
   ]
  },
  {
   "cell_type": "code",
   "execution_count": 8,
   "metadata": {},
   "outputs": [
    {
     "name": "stdout",
     "output_type": "stream",
     "text": [
      "   A  B  C\n",
      "0  1  4  7\n",
      "1  2  5  8\n",
      "2  3  6  9\n",
      "   A  B  C\n",
      "0  1  4  7\n",
      "1  2  5  8\n",
      "2  3  6  9\n",
      "   A  B  C\n",
      "0  1  4  7\n",
      "1  2  5  8\n",
      "2  3  6  9\n",
      "   A  B  C\n",
      "0  1  4  7\n",
      "1  2  5  8\n",
      "2  3  6  9\n"
     ]
    },
    {
     "ename": "FileNotFoundError",
     "evalue": "[Errno 2] No such file or directory: 'data.csv'",
     "output_type": "error",
     "traceback": [
      "\u001b[1;31m---------------------------------------------------------------------------\u001b[0m",
      "\u001b[1;31mFileNotFoundError\u001b[0m                         Traceback (most recent call last)",
      "Cell \u001b[1;32mIn[8], line 28\u001b[0m\n\u001b[0;32m     25\u001b[0m \u001b[39mprint\u001b[39m(df4)\n\u001b[0;32m     27\u001b[0m \u001b[39m# 데이터프레임 생성 방법 5: 외부 데이터 파일을 이용한 데이터프레임 생성\u001b[39;00m\n\u001b[1;32m---> 28\u001b[0m df5 \u001b[39m=\u001b[39m pd\u001b[39m.\u001b[39;49mread_csv(\u001b[39m'\u001b[39;49m\u001b[39mdata.csv\u001b[39;49m\u001b[39m'\u001b[39;49m)\n\u001b[0;32m     29\u001b[0m \u001b[39mprint\u001b[39m(df5)\n",
      "File \u001b[1;32mc:\\Users\\user\\AppData\\Local\\Programs\\Thonny\\lib\\site-packages\\pandas\\io\\parsers\\readers.py:912\u001b[0m, in \u001b[0;36mread_csv\u001b[1;34m(filepath_or_buffer, sep, delimiter, header, names, index_col, usecols, dtype, engine, converters, true_values, false_values, skipinitialspace, skiprows, skipfooter, nrows, na_values, keep_default_na, na_filter, verbose, skip_blank_lines, parse_dates, infer_datetime_format, keep_date_col, date_parser, date_format, dayfirst, cache_dates, iterator, chunksize, compression, thousands, decimal, lineterminator, quotechar, quoting, doublequote, escapechar, comment, encoding, encoding_errors, dialect, on_bad_lines, delim_whitespace, low_memory, memory_map, float_precision, storage_options, dtype_backend)\u001b[0m\n\u001b[0;32m    899\u001b[0m kwds_defaults \u001b[39m=\u001b[39m _refine_defaults_read(\n\u001b[0;32m    900\u001b[0m     dialect,\n\u001b[0;32m    901\u001b[0m     delimiter,\n\u001b[1;32m   (...)\u001b[0m\n\u001b[0;32m    908\u001b[0m     dtype_backend\u001b[39m=\u001b[39mdtype_backend,\n\u001b[0;32m    909\u001b[0m )\n\u001b[0;32m    910\u001b[0m kwds\u001b[39m.\u001b[39mupdate(kwds_defaults)\n\u001b[1;32m--> 912\u001b[0m \u001b[39mreturn\u001b[39;00m _read(filepath_or_buffer, kwds)\n",
      "File \u001b[1;32mc:\\Users\\user\\AppData\\Local\\Programs\\Thonny\\lib\\site-packages\\pandas\\io\\parsers\\readers.py:577\u001b[0m, in \u001b[0;36m_read\u001b[1;34m(filepath_or_buffer, kwds)\u001b[0m\n\u001b[0;32m    574\u001b[0m _validate_names(kwds\u001b[39m.\u001b[39mget(\u001b[39m\"\u001b[39m\u001b[39mnames\u001b[39m\u001b[39m\"\u001b[39m, \u001b[39mNone\u001b[39;00m))\n\u001b[0;32m    576\u001b[0m \u001b[39m# Create the parser.\u001b[39;00m\n\u001b[1;32m--> 577\u001b[0m parser \u001b[39m=\u001b[39m TextFileReader(filepath_or_buffer, \u001b[39m*\u001b[39m\u001b[39m*\u001b[39mkwds)\n\u001b[0;32m    579\u001b[0m \u001b[39mif\u001b[39;00m chunksize \u001b[39mor\u001b[39;00m iterator:\n\u001b[0;32m    580\u001b[0m     \u001b[39mreturn\u001b[39;00m parser\n",
      "File \u001b[1;32mc:\\Users\\user\\AppData\\Local\\Programs\\Thonny\\lib\\site-packages\\pandas\\io\\parsers\\readers.py:1407\u001b[0m, in \u001b[0;36mTextFileReader.__init__\u001b[1;34m(self, f, engine, **kwds)\u001b[0m\n\u001b[0;32m   1404\u001b[0m     \u001b[39mself\u001b[39m\u001b[39m.\u001b[39moptions[\u001b[39m\"\u001b[39m\u001b[39mhas_index_names\u001b[39m\u001b[39m\"\u001b[39m] \u001b[39m=\u001b[39m kwds[\u001b[39m\"\u001b[39m\u001b[39mhas_index_names\u001b[39m\u001b[39m\"\u001b[39m]\n\u001b[0;32m   1406\u001b[0m \u001b[39mself\u001b[39m\u001b[39m.\u001b[39mhandles: IOHandles \u001b[39m|\u001b[39m \u001b[39mNone\u001b[39;00m \u001b[39m=\u001b[39m \u001b[39mNone\u001b[39;00m\n\u001b[1;32m-> 1407\u001b[0m \u001b[39mself\u001b[39m\u001b[39m.\u001b[39m_engine \u001b[39m=\u001b[39m \u001b[39mself\u001b[39;49m\u001b[39m.\u001b[39;49m_make_engine(f, \u001b[39mself\u001b[39;49m\u001b[39m.\u001b[39;49mengine)\n",
      "File \u001b[1;32mc:\\Users\\user\\AppData\\Local\\Programs\\Thonny\\lib\\site-packages\\pandas\\io\\parsers\\readers.py:1661\u001b[0m, in \u001b[0;36mTextFileReader._make_engine\u001b[1;34m(self, f, engine)\u001b[0m\n\u001b[0;32m   1659\u001b[0m     \u001b[39mif\u001b[39;00m \u001b[39m\"\u001b[39m\u001b[39mb\u001b[39m\u001b[39m\"\u001b[39m \u001b[39mnot\u001b[39;00m \u001b[39min\u001b[39;00m mode:\n\u001b[0;32m   1660\u001b[0m         mode \u001b[39m+\u001b[39m\u001b[39m=\u001b[39m \u001b[39m\"\u001b[39m\u001b[39mb\u001b[39m\u001b[39m\"\u001b[39m\n\u001b[1;32m-> 1661\u001b[0m \u001b[39mself\u001b[39m\u001b[39m.\u001b[39mhandles \u001b[39m=\u001b[39m get_handle(\n\u001b[0;32m   1662\u001b[0m     f,\n\u001b[0;32m   1663\u001b[0m     mode,\n\u001b[0;32m   1664\u001b[0m     encoding\u001b[39m=\u001b[39;49m\u001b[39mself\u001b[39;49m\u001b[39m.\u001b[39;49moptions\u001b[39m.\u001b[39;49mget(\u001b[39m\"\u001b[39;49m\u001b[39mencoding\u001b[39;49m\u001b[39m\"\u001b[39;49m, \u001b[39mNone\u001b[39;49;00m),\n\u001b[0;32m   1665\u001b[0m     compression\u001b[39m=\u001b[39;49m\u001b[39mself\u001b[39;49m\u001b[39m.\u001b[39;49moptions\u001b[39m.\u001b[39;49mget(\u001b[39m\"\u001b[39;49m\u001b[39mcompression\u001b[39;49m\u001b[39m\"\u001b[39;49m, \u001b[39mNone\u001b[39;49;00m),\n\u001b[0;32m   1666\u001b[0m     memory_map\u001b[39m=\u001b[39;49m\u001b[39mself\u001b[39;49m\u001b[39m.\u001b[39;49moptions\u001b[39m.\u001b[39;49mget(\u001b[39m\"\u001b[39;49m\u001b[39mmemory_map\u001b[39;49m\u001b[39m\"\u001b[39;49m, \u001b[39mFalse\u001b[39;49;00m),\n\u001b[0;32m   1667\u001b[0m     is_text\u001b[39m=\u001b[39;49mis_text,\n\u001b[0;32m   1668\u001b[0m     errors\u001b[39m=\u001b[39;49m\u001b[39mself\u001b[39;49m\u001b[39m.\u001b[39;49moptions\u001b[39m.\u001b[39;49mget(\u001b[39m\"\u001b[39;49m\u001b[39mencoding_errors\u001b[39;49m\u001b[39m\"\u001b[39;49m, \u001b[39m\"\u001b[39;49m\u001b[39mstrict\u001b[39;49m\u001b[39m\"\u001b[39;49m),\n\u001b[0;32m   1669\u001b[0m     storage_options\u001b[39m=\u001b[39;49m\u001b[39mself\u001b[39;49m\u001b[39m.\u001b[39;49moptions\u001b[39m.\u001b[39;49mget(\u001b[39m\"\u001b[39;49m\u001b[39mstorage_options\u001b[39;49m\u001b[39m\"\u001b[39;49m, \u001b[39mNone\u001b[39;49;00m),\n\u001b[0;32m   1670\u001b[0m )\n\u001b[0;32m   1671\u001b[0m \u001b[39massert\u001b[39;00m \u001b[39mself\u001b[39m\u001b[39m.\u001b[39mhandles \u001b[39mis\u001b[39;00m \u001b[39mnot\u001b[39;00m \u001b[39mNone\u001b[39;00m\n\u001b[0;32m   1672\u001b[0m f \u001b[39m=\u001b[39m \u001b[39mself\u001b[39m\u001b[39m.\u001b[39mhandles\u001b[39m.\u001b[39mhandle\n",
      "File \u001b[1;32mc:\\Users\\user\\AppData\\Local\\Programs\\Thonny\\lib\\site-packages\\pandas\\io\\common.py:859\u001b[0m, in \u001b[0;36mget_handle\u001b[1;34m(path_or_buf, mode, encoding, compression, memory_map, is_text, errors, storage_options)\u001b[0m\n\u001b[0;32m    854\u001b[0m \u001b[39melif\u001b[39;00m \u001b[39misinstance\u001b[39m(handle, \u001b[39mstr\u001b[39m):\n\u001b[0;32m    855\u001b[0m     \u001b[39m# Check whether the filename is to be opened in binary mode.\u001b[39;00m\n\u001b[0;32m    856\u001b[0m     \u001b[39m# Binary mode does not support 'encoding' and 'newline'.\u001b[39;00m\n\u001b[0;32m    857\u001b[0m     \u001b[39mif\u001b[39;00m ioargs\u001b[39m.\u001b[39mencoding \u001b[39mand\u001b[39;00m \u001b[39m\"\u001b[39m\u001b[39mb\u001b[39m\u001b[39m\"\u001b[39m \u001b[39mnot\u001b[39;00m \u001b[39min\u001b[39;00m ioargs\u001b[39m.\u001b[39mmode:\n\u001b[0;32m    858\u001b[0m         \u001b[39m# Encoding\u001b[39;00m\n\u001b[1;32m--> 859\u001b[0m         handle \u001b[39m=\u001b[39m \u001b[39mopen\u001b[39;49m(\n\u001b[0;32m    860\u001b[0m             handle,\n\u001b[0;32m    861\u001b[0m             ioargs\u001b[39m.\u001b[39;49mmode,\n\u001b[0;32m    862\u001b[0m             encoding\u001b[39m=\u001b[39;49mioargs\u001b[39m.\u001b[39;49mencoding,\n\u001b[0;32m    863\u001b[0m             errors\u001b[39m=\u001b[39;49merrors,\n\u001b[0;32m    864\u001b[0m             newline\u001b[39m=\u001b[39;49m\u001b[39m\"\u001b[39;49m\u001b[39m\"\u001b[39;49m,\n\u001b[0;32m    865\u001b[0m         )\n\u001b[0;32m    866\u001b[0m     \u001b[39melse\u001b[39;00m:\n\u001b[0;32m    867\u001b[0m         \u001b[39m# Binary mode\u001b[39;00m\n\u001b[0;32m    868\u001b[0m         handle \u001b[39m=\u001b[39m \u001b[39mopen\u001b[39m(handle, ioargs\u001b[39m.\u001b[39mmode)\n",
      "\u001b[1;31mFileNotFoundError\u001b[0m: [Errno 2] No such file or directory: 'data.csv'"
     ]
    }
   ],
   "source": [
    "import pandas as pd\n",
    "import numpy as np\n",
    "#이게 찐 많이쓴다.\n",
    "#엑셀같은. 표\n",
    "\n",
    "# 데이터프레임 생성 방법 1: 딕셔너리를 이용한 데이터프레임 생성\n",
    "df1 = pd.DataFrame({'A': [1, 2, 3], 'B': [4, 5, 6], 'C': [7, 8, 9]})\n",
    "print(df1)\n",
    "\n",
    "# 데이터프레임 생성 방법 2: 리스트를 이용한 데이터프레임 생성\n",
    "data = [[1, 4, 7], [2, 5, 8], [3, 6, 9]]\n",
    "df2 = pd.DataFrame(data, columns=['A', 'B', 'C'])\n",
    "print(df2)\n",
    "\n",
    "# 데이터프레임 생성 방법 3: Numpy 배열을 이용한 데이터프레임 생성\n",
    "arr = np.array([[1, 4, 7], [2, 5, 8], [3, 6, 9]])\n",
    "df3 = pd.DataFrame(arr, columns=['A', 'B', 'C'])\n",
    "print(df3)\n",
    "\n",
    "# 데이터프레임 생성 방법 4: 시리즈를 이용한 데이터프레임 생성\n",
    "s1 = pd.Series([1, 2, 3])\n",
    "s2 = pd.Series([4, 5, 6])\n",
    "s3 = pd.Series([7, 8, 9])\n",
    "df4 = pd.DataFrame({'A': s1, 'B': s2, 'C': s3})\n",
    "print(df4)\n",
    "\n",
    "# 데이터프레임 생성 방법 5: 외부 데이터 파일을 이용한 데이터프레임 생성\n",
    "df5 = pd.read_csv('data.csv')\n",
    "print(df5)\n",
    "\n",
    "\n",
    "#df1, df5를 제일 많이쓴다"
   ]
  },
  {
   "cell_type": "code",
   "execution_count": 9,
   "metadata": {},
   "outputs": [
    {
     "data": {
      "image/png": "[encoded data removed]",
      "text/plain": [
       "<Figure size 640x480 with 1 Axes>"
      ]
     },
     "metadata": {},
     "output_type": "display_data"
    }
   ],
   "source": [
    "import pandas as pd\n",
    "import matplotlib.pyplot as plt\n",
    "\n",
    "# 데이터프레임 생성\n",
    "data = {\n",
    "    'year': [2010, 2011, 2012, 2013, 2014],\n",
    "    'sales': [100, 120, 150, 160, 180],\n",
    "    'expenses': [80, 90, 100, 110, 120]\n",
    "}\n",
    "\n",
    "df = pd.DataFrame(data)\n",
    "\n",
    "# 선 그래프 그리기\n",
    "plt.plot(df['year'], df[['sales', 'expenses']])\n",
    "\n",
    "# 축과 제목 설정\n",
    "plt.xlabel('Year')\n",
    "plt.ylabel('Amount')\n",
    "plt.title('Sales vs Expenses')\n",
    "\n",
    "# 범례 추가\n",
    "plt.legend(['Sales', 'Expenses'])\n",
    "\n",
    "# 그래프 표시\n",
    "plt.show()\n",
    "\n"
   ]
  },
  {
   "cell_type": "code",
   "execution_count": 17,
   "metadata": {},
   "outputs": [
    {
     "name": "stdout",
     "output_type": "stream",
     "text": [
      "<class 'pandas.core.frame.DataFrame'>\n",
      "RangeIndex: 5 entries, 0 to 4\n",
      "Data columns (total 3 columns):\n",
      " #   Column  Non-Null Count  Dtype \n",
      "---  ------  --------------  ----- \n",
      " 0   name    5 non-null      object\n",
      " 1   age     5 non-null      int64 \n",
      " 2   city    5 non-null      object\n",
      "dtypes: int64(1), object(2)\n",
      "memory usage: 248.0+ bytes\n"
     ]
    },
    {
     "data": {
      "text/html": [
       "<div>\n",
       "<style scoped>\n",
       "    .dataframe tbody tr th:only-of-type {\n",
       "        vertical-align: middle;\n",
       "    }\n",
       "\n",
       "    .dataframe tbody tr th {\n",
       "        vertical-align: top;\n",
       "    }\n",
       "\n",
       "    .dataframe thead th {\n",
       "        text-align: right;\n",
       "    }\n",
       "</style>\n",
       "<table border=\"1\" class=\"dataframe\">\n",
       "  <thead>\n",
       "    <tr style=\"text-align: right;\">\n",
       "      <th></th>\n",
       "      <th>age</th>\n",
       "    </tr>\n",
       "  </thead>\n",
       "  <tbody>\n",
       "    <tr>\n",
       "      <th>count</th>\n",
       "      <td>5.000000</td>\n",
       "    </tr>\n",
       "    <tr>\n",
       "      <th>mean</th>\n",
       "      <td>35.000000</td>\n",
       "    </tr>\n",
       "    <tr>\n",
       "      <th>std</th>\n",
       "      <td>7.905694</td>\n",
       "    </tr>\n",
       "    <tr>\n",
       "      <th>min</th>\n",
       "      <td>25.000000</td>\n",
       "    </tr>\n",
       "    <tr>\n",
       "      <th>25%</th>\n",
       "      <td>30.000000</td>\n",
       "    </tr>\n",
       "    <tr>\n",
       "      <th>50%</th>\n",
       "      <td>35.000000</td>\n",
       "    </tr>\n",
       "    <tr>\n",
       "      <th>75%</th>\n",
       "      <td>40.000000</td>\n",
       "    </tr>\n",
       "    <tr>\n",
       "      <th>max</th>\n",
       "      <td>45.000000</td>\n",
       "    </tr>\n",
       "  </tbody>\n",
       "</table>\n",
       "</div>"
      ],
      "text/plain": [
       "             age\n",
       "count   5.000000\n",
       "mean   35.000000\n",
       "std     7.905694\n",
       "min    25.000000\n",
       "25%    30.000000\n",
       "50%    35.000000\n",
       "75%    40.000000\n",
       "max    45.000000"
      ]
     },
     "execution_count": 17,
     "metadata": {},
     "output_type": "execute_result"
    }
   ],
   "source": [
    "import pandas as pd\n",
    "import matplotlib.pyplot as plt\n",
    "\n",
    "# 데이터프레임 생성\n",
    "data = {'name': ['Alice', 'Bob', 'Charlie', 'David', 'Eva'],\n",
    "        'age': [25, 30, 35, 40, 45],\n",
    "        'city': ['New York', 'Paris', 'London', 'Berlin', 'Tokyo']}\n",
    "df = pd.DataFrame(data)\n",
    "\n",
    "#df.head(2)\n",
    "\n",
    "\n",
    "df.tail(2) #검색했을때 해당 행의 인덱스가 옆에 찍혀져 나온다 판다스는. 행이 안변한다.\n",
    "df.info() #뭘 가졌는지 볼수있다.\n",
    "\n",
    "df.describe() # 보통 이거보다 head 써서 잘 들어왔는지 확인하고 info로 확인."
   ]
  },
  {
   "cell_type": "code",
   "execution_count": 18,
   "metadata": {},
   "outputs": [
    {
     "name": "stdout",
     "output_type": "stream",
     "text": [
      "0      Alice\n",
      "1        Bob\n",
      "2    Charlie\n",
      "3      David\n",
      "4        Eva\n",
      "Name: name, dtype: object\n",
      "0    25\n",
      "1    30\n",
      "2    35\n",
      "3    40\n",
      "4    45\n",
      "Name: age, dtype: int64\n",
      "      name  age\n",
      "0    Alice   25\n",
      "1      Bob   30\n",
      "2  Charlie   35\n",
      "3    David   40\n",
      "4      Eva   45\n",
      "0      Alice\n",
      "1        Bob\n",
      "2    Charlie\n",
      "3      David\n",
      "4        Eva\n",
      "Name: name, dtype: object\n",
      "      name  age\n",
      "0    Alice   25\n",
      "1      Bob   30\n",
      "2  Charlie   35\n",
      "3    David   40\n",
      "4      Eva   45\n"
     ]
    }
   ],
   "source": [
    "import pandas as pd\n",
    "\n",
    "#특정 열을 뽑아내 쓸수있다\n",
    "\n",
    "# 데이터프레임 생성\n",
    "data = {'name': ['Alice', 'Bob', 'Charlie', 'David', 'Eva'],\n",
    "        'age': [25, 30, 35, 40, 45],\n",
    "        'city': ['New York', 'Paris', 'London', 'Berlin', 'Tokyo']}\n",
    "df = pd.DataFrame(data)\n",
    "\n",
    "# 열 선택 방법 1: 대괄호([])를 이용한 단일 열 선택\n",
    "name_col = df['name']\n",
    "print(name_col)\n",
    "\n",
    "# 열 선택 방법 2: 점(.)을 이용한 단일 열 선택\n",
    "age_col = df.age\n",
    "print(age_col)\n",
    "\n",
    "# 열 선택 방법 3: 대괄호([])를 이용한 복수 열 선택\n",
    "name_age_col = df[['name', 'age']]\n",
    "print(name_age_col)\n",
    "\n",
    "# 열 선택 방법 4: loc[]를 이용한 열 선택\n",
    "name_col = df.loc[:, 'name'] #name 열의 모든 행의원소(:)\n",
    "print(name_col)\n",
    "\n",
    "# 열 선택 방법 5: iloc[]를 이용한 열 선택\n",
    "name_age_col = df.iloc[:, [0, 1]]\n",
    "print(name_age_col)\n"
   ]
  },
  {
   "cell_type": "code",
   "execution_count": 20,
   "metadata": {},
   "outputs": [
    {
     "data": {
      "image/png": "[encoded data removed]",
      "text/plain": [
       "<Figure size 640x480 with 1 Axes>"
      ]
     },
     "metadata": {},
     "output_type": "display_data"
    }
   ],
   "source": [
    "import pandas as pd\n",
    "import matplotlib.pyplot as plt\n",
    "\n",
    "# 데이터프레임 생성\n",
    "data = {\n",
    "    'year': [2017, 2018, 2019, 2020, 2021],\n",
    "    'A_product_sales': [6, 7, 8, 9, 10],\n",
    "    'B_product_sales': [11, 12, 13, 14, 15]\n",
    "}\n",
    "\n",
    "df = pd.DataFrame(data)\n",
    "\n",
    "# 특정 열 선택하여 연산 수행 후 결과를 새로운 열로 추가\n",
    "df['total'] = df['A_product_sales'] + df['B_product_sales']\n",
    "\n",
    "# 새로 추가한 열을 이용해서 그래프 그리기\n",
    "plt.bar(df['year'], df['total'])  \n",
    "\n",
    "plt.xlabel('Year')\n",
    "plt.ylabel('Total Sales')\n",
    "plt.title('Total Sales per Year')\n",
    "\n",
    "plt.show()\n"
   ]
  },
  {
   "cell_type": "code",
   "execution_count": 21,
   "metadata": {},
   "outputs": [
    {
     "name": "stdout",
     "output_type": "stream",
     "text": [
      "단일 행 선택:\n",
      "name    Charlie\n",
      "age          35\n",
      "city     London\n",
      "Name: 2, dtype: object\n",
      "name     David\n",
      "age         40\n",
      "city    Berlin\n",
      "Name: 3, dtype: object\n",
      "\n",
      "여러 행 선택:\n",
      "      name  age    city\n",
      "1      Bob   30   Paris\n",
      "2  Charlie   35  London\n",
      "3    David   40  Berlin\n",
      "      name  age    city\n",
      "2  Charlie   35  London\n",
      "3    David   40  Berlin\n",
      "\n",
      "조건에 맞는 행 선택:\n",
      "      name  age    city\n",
      "2  Charlie   35  London\n",
      "3    David   40  Berlin\n",
      "4      Eva   45   Tokyo\n"
     ]
    }
   ],
   "source": [
    "import pandas as pd\n",
    "\n",
    "# 데이터프레임 생성\n",
    "data = {'name': ['Alice', 'Bob', 'Charlie', 'David', 'Eva'],\n",
    "        'age': [25, 30, 35, 40, 45],\n",
    "        'city': ['New York', 'Paris', 'London', 'Berlin', 'Tokyo']}\n",
    "df = pd.DataFrame(data)\n",
    "\n",
    "# 단일 행 선택\n",
    "row1 = df.loc[2]  # 행인덱스를 사용하여 선택\n",
    "row2 = df.iloc[3]  # 위치 인덱스를 사용하여 선택\n",
    "\n",
    "print(\"단일 행 선택:\")\n",
    "print(row1)\n",
    "print(row2)\n",
    "\n",
    "# 여러 행 선택\n",
    "rows1 = df.loc[1:3]  # 행인덱스 범위를 사용하여 선택\n",
    "rows2 = df.iloc[2:4]  # 위치인덱스 범위를 사용하여 선택\n",
    "\n",
    "print(\"\\n여러 행 선택:\")\n",
    "print(rows1)\n",
    "print(rows2)\n",
    "\n",
    "# 특정 조건에 맞는 행 선택\n",
    "selected_rows = df.loc[df['age'] > 30]\n",
    "\n",
    "print(\"\\n조건에 맞는 행 선택:\")\n",
    "print(selected_rows)\n"
   ]
  },
  {
   "cell_type": "code",
   "execution_count": 22,
   "metadata": {},
   "outputs": [
    {
     "name": "stdout",
     "output_type": "stream",
     "text": [
      "      name  age\n",
      "2  Charlie   35\n"
     ]
    }
   ],
   "source": [
    "import pandas as pd\n",
    "#특정 행과 열을 동시에 선택\n",
    "data = {\n",
    "    'name': ['Alice', 'Bob', 'Charlie', 'David', 'Eva'],\n",
    "    'age': [25, 30, 35, 40, 45],\n",
    "    'city': ['New York', 'Paris', 'London', 'Berlin', 'Tokyo']\n",
    "}\n",
    "\n",
    "df = pd.DataFrame(data)\n",
    "\n",
    "# 조건과 열을 동시에 사용하여 행 및 열 선택\n",
    "selected_rows_columns = df.loc[(df['age'] > 30) & (df['city'] == 'London'), ['name', 'age']]\n",
    "print(selected_rows_columns)\n"
   ]
  },
  {
   "cell_type": "code",
   "execution_count": 25,
   "metadata": {},
   "outputs": [
    {
     "data": {
      "image/png": "[encoded data removed]",
      "text/plain": [
       "<Figure size 640x480 with 1 Axes>"
      ]
     },
     "metadata": {},
     "output_type": "display_data"
    }
   ],
   "source": [
    "import pandas as pd\n",
    "\n",
    "data = {\n",
    "    'year': [2017, 2018, 2019, 2020, 2021],\n",
    "    'A_product_sales': [6, 7, 8, 9, 10],\n",
    "    'B_product_sales': [11, 12, 13, 14, 15],\n",
    "    'C_product_sales': [9, 8, 7, 6, 5]\n",
    "}\n",
    "\n",
    "df = pd.DataFrame(data)\n",
    "\n",
    "df = df.loc[df['year']>=2019, ['year', 'A_product_sales', 'B_product_sales']]\n",
    "\n",
    "plt.plot(df['year'], df['A_product_sales'], marker='o', label='A_product')\n",
    "plt.plot(df['year'], df['B_product_sales'], marker='+', label='A_product')\n",
    "\n",
    "plt.legend()\n",
    "plt.show()"
   ]
  }
 ],
 "metadata": {
  "kernelspec": {
   "display_name": "Python 3",
   "language": "python",
   "name": "python3"
  },
  "language_info": {
   "codemirror_mode": {
    "name": "ipython",
    "version": 3
   },
   "file_extension": ".py",
   "mimetype": "text/x-python",
   "name": "python",
   "nbconvert_exporter": "python",
   "pygments_lexer": "ipython3",
   "version": "3.10.9"
  },
  "orig_nbformat": 4
 },
 "nbformat": 4,
 "nbformat_minor": 2
}
