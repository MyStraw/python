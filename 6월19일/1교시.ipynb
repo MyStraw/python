{
 "cells": [
  {
   "attachments": {},
   "cell_type": "markdown",
   "metadata": {},
   "source": [
    "ppt9, 75슬라이드"
   ]
  },
  {
   "cell_type": "code",
   "execution_count": null,
   "metadata": {},
   "outputs": [],
   "source": [
    "import pandas as pd\n",
    "import numpy as np\n",
    "\n",
    "# 예제 데이터\n",
    "data = {'A': [1, np.nan, 3], 'B': [4, 5, np.nan], 'C': [7, 8, 9]}\n",
    "df = pd.DataFrame(data)\n",
    "\n",
    "# 결측치 확인\n",
    "print(df.isnull())\n",
    "# 결과:\n",
    "#        A      B      C\n",
    "# 0  False  False  False\n",
    "# 1   True  False  False\n",
    "# 2  False   True  False\n",
    "\n",
    "# 결측치 대체\n",
    "filled_df = df.fillna(0)\n",
    "print(filled_df)\n",
    "# 결과:\n",
    "#      A    B  C\n",
    "# 0  1.0  4.0  7\n",
    "# 1  0.0  5.0  8\n",
    "# 2  3.0  0.0  9\n",
    "\n",
    "# 결측치 제거\n",
    "dropped_df = df.dropna()\n",
    "print(dropped_df)\n",
    "# 결과:\n",
    "#      A    B  C\n",
    "# 0  1.0  4.0  7\n"
   ]
  },
  {
   "cell_type": "code",
   "execution_count": null,
   "metadata": {},
   "outputs": [],
   "source": [
    "import pandas as pd\n",
    "\n",
    "# 예제 데이터\n",
    "data = {'A': [1, 2, 2], 'B': [4, 5, 5], 'C': [7, 8, 8]}\n",
    "df = pd.DataFrame(data)\n",
    "\n",
    "# 중복 확인\n",
    "print(df.duplicated())\n",
    "# 결과:\n",
    "# 0    False\n",
    "# 1    False\n",
    "# 2     True\n",
    "\n",
    "# 중복 제거\n",
    "deduplicated_df = df.drop_duplicates()\n",
    "print(deduplicated_df)\n",
    "# 결과:\n",
    "#    A  B  C\n",
    "# 0  1  4  7\n",
    "# 1  2  5  8\n"
   ]
  },
  {
   "cell_type": "code",
   "execution_count": null,
   "metadata": {},
   "outputs": [],
   "source": [
    "import pandas as pd\n",
    "import matplotlib.pyplot as plt\n",
    "\n",
    "# 데이터프레임 생성\n",
    "data = {\n",
    "    'year': ['2017', '2018', '2019', '2020', '2021'],\n",
    "    'sales': ['100', '80', '150', '-50', '180'],\n",
    "    'expenses': ['80', '90', '100', '110', '120']\n",
    "}\n",
    "\n",
    "df = pd.DataFrame(data)\n",
    "\n",
    "# sales 열을 정수형으로 변환\n",
    "#df['sales'] = df['sales'].astype(int)\n",
    "\n",
    "# 그래프 그리기\n",
    "plt.plot(df['year'], df['sales'])\n",
    "\n",
    "# 축과 제목 설정\n",
    "plt.xlabel('Year')\n",
    "plt.ylabel('Sales')\n",
    "plt.title('Sales over Years')\n",
    "\n",
    "# 그래프 표시\n",
    "plt.show()\n",
    "\n",
    "\n"
   ]
  },
  {
   "cell_type": "code",
   "execution_count": null,
   "metadata": {},
   "outputs": [],
   "source": [
    "#데이터 형 변환\n",
    "#astype() :데이터의 자료형을 변환해주는 함수\n",
    "#int 또는 int64: 정수형\n",
    "#float 또는 float64: 실수형\n",
    "#bool 또는 bool_: 불리언형\n",
    "#str 또는 object: 문자열형\n",
    "#category: 범주형\n",
    "#datetime64: 날짜/시간형 이거 중요!!\n",
    "\n",
    "import pandas as pd\n",
    "\n",
    "# 데이터프레임 생성\n",
    "data = {'int_col': [1, 2, 3, 4, 5],\n",
    "        'float_col': [1.1, 2.2, 3.3, 4.4, 5.5],\n",
    "        'str_col': ['1', '2', '3', '4', '5'],\n",
    "        'bool_col': [True, False, True, False, True],\n",
    "        'category_col': ['a', 'b', 'c', 'a', 'b'],\n",
    "        'date_col': ['2022-01-01', '2022-02-01', '2022-03-01', '2022-04-01', '2022-05-01']}\n",
    "\n",
    "df = pd.DataFrame(data)\n",
    "\n",
    "# 열 데이터 형 변환\n",
    "df['int_col'] = df['int_col'].astype(float)  # 정수형 -> 실수형\n",
    "df['float_col'] = df['float_col'].astype(int)  # 실수형 -> 정수형\n",
    "df['str_col'] = df['str_col'].astype(bool)  # 문자열 -> 불리언형\n",
    "df['bool_col'] = df['bool_col'].astype(str)  # 불리언형 -> 문자열형\n",
    "df['category_col'] = df['category_col'].astype('category')  # 문자열 -> 범주형\n",
    "df['date_col'] = pd.to_datetime(df['date_col'])  # 문자열 -> 날짜/시간형\n",
    "\n",
    "# 데이터프레임 정보 출력\n",
    "print(df.dtypes)\n",
    "\n",
    "\n"
   ]
  },
  {
   "cell_type": "code",
   "execution_count": 4,
   "metadata": {},
   "outputs": [
    {
     "ename": "AttributeError",
     "evalue": "'DataFrame' object has no attribute 'append'",
     "output_type": "error",
     "traceback": [
      "\u001b[1;31m---------------------------------------------------------------------------\u001b[0m",
      "\u001b[1;31mAttributeError\u001b[0m                            Traceback (most recent call last)",
      "Cell \u001b[1;32mIn[4], line 37\u001b[0m\n\u001b[0;32m     33\u001b[0m \u001b[39m#아래 새로운 행 3개를 추가하세요.\u001b[39;00m\n\u001b[0;32m     34\u001b[0m new_rows\u001b[39m=\u001b[39m[{\u001b[39m'\u001b[39m\u001b[39m이름\u001b[39m\u001b[39m'\u001b[39m: \u001b[39m'\u001b[39m\u001b[39mAlex\u001b[39m\u001b[39m'\u001b[39m, \u001b[39m'\u001b[39m\u001b[39m나이\u001b[39m\u001b[39m'\u001b[39m: \u001b[39m22\u001b[39m, \u001b[39m'\u001b[39m\u001b[39m성별\u001b[39m\u001b[39m'\u001b[39m: \u001b[39m'\u001b[39m\u001b[39m남\u001b[39m\u001b[39m'\u001b[39m, \u001b[39m'\u001b[39m\u001b[39m키\u001b[39m\u001b[39m'\u001b[39m: \u001b[39m180\u001b[39m, \u001b[39m'\u001b[39m\u001b[39m학년\u001b[39m\u001b[39m'\u001b[39m: \u001b[39m'\u001b[39m\u001b[39m2학년\u001b[39m\u001b[39m'\u001b[39m, \u001b[39m'\u001b[39m\u001b[39m국적\u001b[39m\u001b[39m'\u001b[39m: \u001b[39m'\u001b[39m\u001b[39m미국\u001b[39m\u001b[39m'\u001b[39m}, \n\u001b[0;32m     35\u001b[0m           {\u001b[39m'\u001b[39m\u001b[39m이름\u001b[39m\u001b[39m'\u001b[39m: \u001b[39m'\u001b[39m\u001b[39mEmily\u001b[39m\u001b[39m'\u001b[39m, \u001b[39m'\u001b[39m\u001b[39m나이\u001b[39m\u001b[39m'\u001b[39m: \u001b[39m29\u001b[39m, \u001b[39m'\u001b[39m\u001b[39m성별\u001b[39m\u001b[39m'\u001b[39m: \u001b[39m'\u001b[39m\u001b[39m여\u001b[39m\u001b[39m'\u001b[39m, \u001b[39m'\u001b[39m\u001b[39m키\u001b[39m\u001b[39m'\u001b[39m: \u001b[39m165\u001b[39m, \u001b[39m'\u001b[39m\u001b[39m학년\u001b[39m\u001b[39m'\u001b[39m: \u001b[39m'\u001b[39m\u001b[39m1학년\u001b[39m\u001b[39m'\u001b[39m, \u001b[39m'\u001b[39m\u001b[39m국적\u001b[39m\u001b[39m'\u001b[39m: \u001b[39m'\u001b[39m\u001b[39m캐나다\u001b[39m\u001b[39m'\u001b[39m}, \n\u001b[0;32m     36\u001b[0m           {\u001b[39m'\u001b[39m\u001b[39m이름\u001b[39m\u001b[39m'\u001b[39m: \u001b[39m'\u001b[39m\u001b[39mDaniel\u001b[39m\u001b[39m'\u001b[39m, \u001b[39m'\u001b[39m\u001b[39m나이\u001b[39m\u001b[39m'\u001b[39m: \u001b[39m33\u001b[39m, \u001b[39m'\u001b[39m\u001b[39m성별\u001b[39m\u001b[39m'\u001b[39m: \u001b[39m'\u001b[39m\u001b[39m남\u001b[39m\u001b[39m'\u001b[39m, \u001b[39m'\u001b[39m\u001b[39m키\u001b[39m\u001b[39m'\u001b[39m: \u001b[39m175\u001b[39m, \u001b[39m'\u001b[39m\u001b[39m학년\u001b[39m\u001b[39m'\u001b[39m: \u001b[39m'\u001b[39m\u001b[39m3학년\u001b[39m\u001b[39m'\u001b[39m, \u001b[39m'\u001b[39m\u001b[39m국적\u001b[39m\u001b[39m'\u001b[39m: \u001b[39m'\u001b[39m\u001b[39m호주\u001b[39m\u001b[39m'\u001b[39m}]\n\u001b[1;32m---> 37\u001b[0m df \u001b[39m=\u001b[39m df\u001b[39m.\u001b[39;49mappend(new_rows, ignore_index\u001b[39m=\u001b[39m\u001b[39mTrue\u001b[39;00m) \u001b[39m# append 없다고 나온다\u001b[39;00m\n\u001b[0;32m     38\u001b[0m df \u001b[39m=\u001b[39m df\u001b[39m.\u001b[39msort_values(by\u001b[39m=\u001b[39m\u001b[39m'\u001b[39m\u001b[39m이름\u001b[39m\u001b[39m'\u001b[39m)\n\u001b[0;32m     39\u001b[0m \u001b[39mprint\u001b[39m(df)\n",
      "File \u001b[1;32mc:\\Users\\user\\AppData\\Local\\Programs\\Thonny\\lib\\site-packages\\pandas\\core\\generic.py:5989\u001b[0m, in \u001b[0;36mNDFrame.__getattr__\u001b[1;34m(self, name)\u001b[0m\n\u001b[0;32m   5982\u001b[0m \u001b[39mif\u001b[39;00m (\n\u001b[0;32m   5983\u001b[0m     name \u001b[39mnot\u001b[39;00m \u001b[39min\u001b[39;00m \u001b[39mself\u001b[39m\u001b[39m.\u001b[39m_internal_names_set\n\u001b[0;32m   5984\u001b[0m     \u001b[39mand\u001b[39;00m name \u001b[39mnot\u001b[39;00m \u001b[39min\u001b[39;00m \u001b[39mself\u001b[39m\u001b[39m.\u001b[39m_metadata\n\u001b[0;32m   5985\u001b[0m     \u001b[39mand\u001b[39;00m name \u001b[39mnot\u001b[39;00m \u001b[39min\u001b[39;00m \u001b[39mself\u001b[39m\u001b[39m.\u001b[39m_accessors\n\u001b[0;32m   5986\u001b[0m     \u001b[39mand\u001b[39;00m \u001b[39mself\u001b[39m\u001b[39m.\u001b[39m_info_axis\u001b[39m.\u001b[39m_can_hold_identifiers_and_holds_name(name)\n\u001b[0;32m   5987\u001b[0m ):\n\u001b[0;32m   5988\u001b[0m     \u001b[39mreturn\u001b[39;00m \u001b[39mself\u001b[39m[name]\n\u001b[1;32m-> 5989\u001b[0m \u001b[39mreturn\u001b[39;00m \u001b[39mobject\u001b[39;49m\u001b[39m.\u001b[39;49m\u001b[39m__getattribute__\u001b[39;49m(\u001b[39mself\u001b[39;49m, name)\n",
      "\u001b[1;31mAttributeError\u001b[0m: 'DataFrame' object has no attribute 'append'"
     ]
    }
   ],
   "source": [
    "import pandas as pd\n",
    "\n",
    "data = {'이름': ['John', 'Steve', 'Sarah', 'Ann', 'Mike'],\n",
    "        '나이': [25, 32, 28, 35, 41],\n",
    "        '성별': ['남', '남', '여', '여', '남'],\n",
    "        '키': [175, 180, 163, 155, 190]}\n",
    "df = pd.DataFrame(data)\n",
    "\n",
    "#'학년' 열을 추가하고, 모든 행에 '3학년'이라는 값으로 채워 넣으세요. \n",
    "df['학년'] = '3학년'\n",
    "df\n",
    "\n",
    "#'국적' 열을 추가하고, 각 행에 해당하는 사람의 국적을 채워 넣으세요.\n",
    "df['국적'] = ['미국', '영국', '일본', '한국', '중국']\n",
    "df\n",
    "\n",
    "#'성별'이 '여'인 행만 남기고 나머지 행을 삭제하세요.\n",
    "df = df[df['성별']=='여']\n",
    "df\n",
    "\n",
    "#'나이' 열을 기준으로 내림차순으로 행을 정렬하세요.\n",
    "df= df.sort_values(by='나이', ascending=False) #false니 desc로 되겄네\n",
    "df\n",
    "#처음 인덱스가 남아있다.\n",
    "#       이름\t나이\t   성별\t        키\t      학년\t 국적\n",
    "#3\tAnn\t35\t    여\t      155\t    3학년\t한국\n",
    "#2\tSarah\t28\t    여        163\t    3학년\t일본\n",
    "\n",
    "#인덱스가 2인 행을 삭제하세요.\n",
    "df= df.drop(2)\n",
    "df\n",
    "\n",
    "#아래 새로운 행 3개를 추가하세요.\n",
    "new_rows=[{'이름': 'Alex', '나이': 22, '성별': '남', '키': 180, '학년': '2학년', '국적': '미국'}, \n",
    "          {'이름': 'Emily', '나이': 29, '성별': '여', '키': 165, '학년': '1학년', '국적': '캐나다'}, \n",
    "          {'이름': 'Daniel', '나이': 33, '성별': '남', '키': 175, '학년': '3학년', '국적': '호주'}]\n",
    "df = df.append(new_rows, ignore_index=True) # append 없다고 나온다\n",
    "df = df.sort_values(by='이름')\n",
    "print(df)\n",
    "\n",
    "df['키'] = df['키']/100\n",
    "df = df.drop('성별', axis=1)\n",
    "df"
   ]
  },
  {
   "cell_type": "code",
   "execution_count": 5,
   "metadata": {},
   "outputs": [
    {
     "name": "stdout",
     "output_type": "stream",
     "text": [
      "    A   B   C   D\n",
      "0  A0  B0  C0  D0\n",
      "1  A1  B1  C1  D1\n",
      "2  A2  B2  C2  D2\n",
      "3  A3  B3  C3  D3\n",
      "4  A4  B4  C4  D4\n",
      "5  A5  B5  C5  D5\n",
      "6  A6  B6  C6  D6\n",
      "7  A7  B7  C7  D7\n"
     ]
    }
   ],
   "source": [
    "import pandas as pd\n",
    "\n",
    "df1 = pd.DataFrame({'A': ['A0', 'A1', 'A2', 'A3'],\n",
    "                    'B': ['B0', 'B1', 'B2', 'B3'],\n",
    "                    'C': ['C0', 'C1', 'C2', 'C3'],\n",
    "                    'D': ['D0', 'D1', 'D2', 'D3']})\n",
    "\n",
    "df2 = pd.DataFrame({'A': ['A4', 'A5', 'A6', 'A7'],\n",
    "                    'B': ['B4', 'B5', 'B6', 'B7'],\n",
    "                    'C': ['C4', 'C5', 'C6', 'C7'],\n",
    "                    'D': ['D4', 'D5', 'D6', 'D7']})\n",
    "\n",
    "result = pd.concat([df1, df2], axis=0, ignore_index=True)\n",
    "\n",
    "print(result)\n"
   ]
  },
  {
   "cell_type": "code",
   "execution_count": 6,
   "metadata": {},
   "outputs": [
    {
     "name": "stdout",
     "output_type": "stream",
     "text": [
      "  key   A   B   C   D\n",
      "0  K0  A0  B0  C0  D0\n",
      "1  K3  A3  B3  C3  D3\n"
     ]
    }
   ],
   "source": [
    "import pandas as pd\n",
    "\n",
    "left = pd.DataFrame({'key': ['K0', 'K1', 'K3'],\n",
    "                     'A': ['A0', 'A1', 'A3'],\n",
    "                     'B': ['B0', 'B1', 'B3']})\n",
    "\n",
    "right = pd.DataFrame({'key': ['K0', 'K2', 'K3'],\n",
    "                      'C': ['C0', 'C2', 'C3'],\n",
    "                      'D': ['D0', 'D2', 'D3']})\n",
    "\n",
    "result = pd.merge(left, right, on='key')\n",
    "\n",
    "\n",
    "print(result)\n"
   ]
  },
  {
   "cell_type": "code",
   "execution_count": 7,
   "metadata": {},
   "outputs": [
    {
     "name": "stdout",
     "output_type": "stream",
     "text": [
      "Inner Join:\n",
      "      이름  나이 성별    키   학년\n",
      "1  Steve  32  남  180  2학년\n",
      "2  Sarah  28  여  163  2학년\n"
     ]
    }
   ],
   "source": [
    "import pandas as pd\n",
    "\n",
    "# 첫 번째 데이터프레임 생성\n",
    "data1 = {'이름': ['John', 'Steve', 'Sarah'],\n",
    "         '나이': [25, 32, 28],\n",
    "         '성별': ['남', '남', '여']}\n",
    "df1 = pd.DataFrame(data1)\n",
    "\n",
    "# 두 번째 데이터프레임 생성\n",
    "data2 = {'이름': ['Steve', 'Sarah', 'Mike'],\n",
    "         '키': [180, 163, 190],\n",
    "         '학년': ['2학년', '2학년', '3학년']}\n",
    "df2 = pd.DataFrame(data2)\n",
    "\n",
    "# 조인 작업 수행\n",
    "# how='inner': 내부 조인\n",
    "inner_join = df1.join(df2.set_index('이름'), on='이름', how='inner')\n",
    "print(\"Inner Join:\")\n",
    "print(inner_join)\n"
   ]
  },
  {
   "cell_type": "code",
   "execution_count": 8,
   "metadata": {},
   "outputs": [
    {
     "name": "stdout",
     "output_type": "stream",
     "text": [
      "       mean  sum\n",
      "학과              \n",
      "경영학과   90.0  180\n",
      "전산학과   80.0   80\n",
      "전자공학과  82.5  165\n"
     ]
    }
   ],
   "source": [
    "import pandas as pd\n",
    "\n",
    "# 예시 데이터프레임 생성\n",
    "data = {'학과': ['전산학과', '전자공학과', '전자공학과', '경영학과', '경영학과'],\n",
    "        '성적': [80, 90, 75, 85, 95],\n",
    "        '인원': [50, 40, 35, 60, 55]}\n",
    "df = pd.DataFrame(data)\n",
    "\n",
    "# '학과' 열을 기준으로 그룹화한 후 '성적' 열에 대해 평균과 합계 계산\n",
    "grouped = df.groupby('학과')  # '학과' 열을 기준으로 그룹화\n",
    "\n",
    "summary_stats = grouped['성적'].agg(['mean', 'sum'])  # 그룹별 '성적' 열의 평균과 합계 계산\n",
    "print(summary_stats)\n"
   ]
  },
  {
   "cell_type": "code",
   "execution_count": 27,
   "metadata": {},
   "outputs": [
    {
     "data": {
      "image/png": "[encoded data removed]",
      "text/plain": [
       "<Figure size 640x480 with 1 Axes>"
      ]
     },
     "metadata": {},
     "output_type": "display_data"
    }
   ],
   "source": [
    "import pandas as pd\n",
    "import matplotlib.pyplot as plt\n",
    "import numpy as np\n",
    "\n",
    "data = {'Name': ['John', 'Mike', 'Sarah', 'Adam', 'Emily', 'Daniel', 'Olivia', 'Liam', 'Sophia', 'Ethan',\n",
    "                 'Emma', 'Jacob', 'Ava', 'Mia', 'Noah', 'Charlotte', 'Harper', 'William', 'Benjamin', 'Elijah',\n",
    "                 'Amelia', 'James', 'Oliver', 'Lucas', 'Mason', 'Logan', 'Alexander', 'Evelyn', 'Grace', 'Victoria'],\n",
    "        'Age': np.random.randint(20, 40, 30),\n",
    "        'Gender': ['Male', 'Male', 'Female', 'Male', 'Female', 'Male', 'Female', 'Male', 'Female', 'Male',\n",
    "                   'Female', 'Male', 'Female', 'Female', 'Male', 'Female', 'Female', 'Male', 'Male', 'Male',\n",
    "                   'Female', 'Male', 'Male', 'Male', 'Male', 'Male', 'Male', 'Female', 'Female', 'Female'],\n",
    "        'City': ['New York', 'Paris', 'London', 'Sydney', 'Tokyo', 'Berlin', 'Rome', 'Madrid', 'Seoul', 'Beijing',\n",
    "                 'Moscow', 'Vienna', 'Athens', 'Cairo', 'Lisbon', 'Dublin', 'Amsterdam', 'Stockholm', 'Oslo', 'Helsinki',\n",
    "                 'Copenhagen', 'Budapest', 'Prague', 'Warsaw', 'Vienna', 'Brussels', 'Luxembourg', 'Zurich', 'Geneva', 'Dubai']}\n",
    "df = pd.DataFrame(data)\n",
    "\n",
    "df['initial']= df['Name'].str[0]\n",
    "# df['Name'].str.slice(0,1)\n",
    "# df['Name'].str[0] #이렇게 해줘도 원하는 문자열 뽑아내\n",
    "\n",
    "mean_age_by_initial = df.groupby('initial')['Age'].mean()\n",
    "mean_age_by_initial\n",
    "\n",
    "overall_mean_age = df['Age'].mean()\n",
    "\n",
    "plt.bar(mean_age_by_initial.index, mean_age_by_initial.values)\n",
    "plt.axhline(overall_mean_age, color=\"r\", linestyle='--', label = 'overall_mean_age') #axis horizntal line\n",
    "plt.xlabel('initial')\n",
    "plt.ylabel('Mean Age')\n",
    "plt.legend()\n",
    "plt.show()"
   ]
  },
  {
   "cell_type": "code",
   "execution_count": 28,
   "metadata": {},
   "outputs": [
    {
     "name": "stdout",
     "output_type": "stream",
     "text": [
      "              C   D      \n",
      "          count sum  mean\n",
      "A   B                    \n",
      "bar one       1  20  20.0\n",
      "    three     1  40  40.0\n",
      "    two       1  60  60.0\n",
      "foo one       2  80  40.0\n",
      "    three     1  80  80.0\n",
      "    two       2  80  40.0\n"
     ]
    }
   ],
   "source": [
    "import pandas as pd\n",
    "\n",
    "df = pd.DataFrame({\n",
    "    'A': ['foo', 'bar', 'foo', 'bar', 'foo', 'bar', 'foo', 'foo'],\n",
    "    'B': ['one', 'one', 'two', 'three', 'two', 'two', 'one', 'three'],\n",
    "    'C': [1, 2, 3, 4, 5, 6, 7, 8],\n",
    "    'D': [10, 20, 30, 40, 50, 60, 70, 80]\n",
    "})\n",
    "\n",
    "result = df.groupby(['A', 'B']).agg({'C': 'count', 'D': ['sum', 'mean']})\n",
    "print(result)\n"
   ]
  },
  {
   "cell_type": "code",
   "execution_count": 29,
   "metadata": {},
   "outputs": [
    {
     "name": "stdout",
     "output_type": "stream",
     "text": [
      "Time    Afternoon  Morning\n",
      "Region                    \n",
      "East          150      100\n",
      "North         350      300\n",
      "South         450      400\n",
      "West          250      200\n"
     ]
    }
   ],
   "source": [
    "import pandas as pd\n",
    "\n",
    "# 매출 데이터 생성\n",
    "data = {'Region': ['East', 'East', 'West', 'West', 'North', 'North', 'South', 'South'], \n",
    "        'Time': ['Morning', 'Afternoon', 'Morning', 'Afternoon', 'Morning', 'Afternoon', 'Morning', 'Afternoon'],\n",
    "        'Sales': [100, 150, 200, 250, 300, 350, 400, 450]}\n",
    "df = pd.DataFrame(data)\n",
    "\n",
    "# 피벗테이블 생성\n",
    "result = df.pivot_table(index='Region', columns='Time', values='Sales', aggfunc='sum')\n",
    "\n",
    "print(result)\n"
   ]
  },
  {
   "cell_type": "code",
   "execution_count": 31,
   "metadata": {},
   "outputs": [
    {
     "name": "stdout",
     "output_type": "stream",
     "text": [
      "    age age_categories\n",
      "0    22       (20, 40]\n",
      "1    44       (40, 60]\n",
      "2    65       (60, 80]\n",
      "3    86      (80, 100]\n",
      "4    27       (20, 40]\n",
      "5    19        (0, 20]\n",
      "6    51       (40, 60]\n",
      "7    92      (80, 100]\n",
      "8    33       (20, 40]\n",
      "9    35       (20, 40]\n",
      "10   38       (20, 40]\n",
      "11   42       (40, 60]\n",
      "12   14        (0, 20]\n",
      "13   50       (40, 60]\n",
      "14   78       (60, 80]\n",
      "                age\n",
      "age_categories     \n",
      "(0, 20]           2\n",
      "(20, 40]          5\n",
      "(40, 60]          4\n",
      "(60, 80]          2\n",
      "(80, 100]         2\n"
     ]
    }
   ],
   "source": [
    "import pandas as pd\n",
    "\n",
    "# 나이 데이터 생성\n",
    "ages = pd.DataFrame({'age': [22, 44, 65, 86, 27, 19, 51, 92, 33, 35, 38, 42, 14, 50, 78]})\n",
    "\n",
    "# 연령대 구간 지정\n",
    "bins = [0, 20, 40, 60, 80, 100]\n",
    "\n",
    "# 연령대 카테고리 생성\n",
    "age_categories = pd.cut(ages['age'], bins)\n",
    "\n",
    "# 데이터프레임에 새로운 카테고리 열 추가\n",
    "ages['age_categories'] = age_categories\n",
    "\n",
    "# 결과 확인\n",
    "print(ages)\n",
    "\n",
    "result = pd.pivot_table(ages, index='age_categories', aggfunc='count')\n",
    "\n",
    "print(result)\n",
    "\n"
   ]
  },
  {
   "cell_type": "code",
   "execution_count": 38,
   "metadata": {},
   "outputs": [
    {
     "data": {
      "image/png": "[encoded data removed]",
      "text/plain": [
       "<Figure size 640x480 with 1 Axes>"
      ]
     },
     "metadata": {},
     "output_type": "display_data"
    }
   ],
   "source": [
    "import pandas as pd\n",
    "import numpy as np\n",
    "import matplotlib.pyplot as plt\n",
    "\n",
    "# 예시 데이터프레임 생성\n",
    "data = {'Grade': np.random.randint(1, 4, size=30),\n",
    "        'Score': np.random.randint(50, 100, size=30),\n",
    "        'Subject': np.random.choice(['Math', 'English', 'Korean'], size=30)}\n",
    "df = pd.DataFrame(data)\n",
    "\n",
    "# 과목별 평균 성적 계산\n",
    "pivot_table = df.pivot_table(index='Grade', columns='Subject', values='Score', aggfunc='mean')\n",
    "\n",
    "# 선 그래프 그리기\n",
    "pivot_table.plot(kind='line', marker='o')\n",
    "plt.title('Average Score by Subject and Grade')\n",
    "plt.xlabel('Grade')\n",
    "plt.ylabel('Average Score')\n",
    "plt.legend(title='Subject')\n",
    "plt.xticks(pivot_table.index)\n",
    "plt.show()\n",
    "\n"
   ]
  },
  {
   "cell_type": "code",
   "execution_count": 39,
   "metadata": {},
   "outputs": [
    {
     "data": {
      "image/png": "[encoded data removed]",
      "text/plain": [
       "<Figure size 640x480 with 1 Axes>"
      ]
     },
     "metadata": {},
     "output_type": "display_data"
    }
   ],
   "source": [
    "import pandas as pd\n",
    "import numpy as np\n",
    "import matplotlib.pyplot as plt\n",
    "\n",
    "# 예시 데이터프레임 생성\n",
    "data = {'Grade': np.random.randint(1, 4, size=30),\n",
    "        'Score': np.random.randint(50, 100, size=30),\n",
    "        'Subject': np.random.choice(['Math', 'English', 'Korean'], size=30)}\n",
    "df = pd.DataFrame(data)\n",
    "\n",
    "# 과목별 평균 성적 계산\n",
    "pivot_table = df.pivot_table(index='Grade', columns='Subject', values='Score', aggfunc='mean')\n",
    "\n",
    "# 막대 그래프 그리기\n",
    "pivot_table.plot(kind='bar')\n",
    "plt.title('Average Score by Subject and Grade')\n",
    "plt.xlabel('Grade')\n",
    "plt.ylabel('Average Score')\n",
    "plt.legend(title='Subject')\n",
    "plt.xticks(rotation=0)\n",
    "plt.show()\n",
    "\n"
   ]
  }
 ],
 "metadata": {
  "kernelspec": {
   "display_name": "Python 3",
   "language": "python",
   "name": "python3"
  },
  "language_info": {
   "codemirror_mode": {
    "name": "ipython",
    "version": 3
   },
   "file_extension": ".py",
   "mimetype": "text/x-python",
   "name": "python",
   "nbconvert_exporter": "python",
   "pygments_lexer": "ipython3",
   "version": "3.10.9"
  },
  "orig_nbformat": 4
 },
 "nbformat": 4,
 "nbformat_minor": 2
}
