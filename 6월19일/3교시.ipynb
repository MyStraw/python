{
 "cells": [
  {
   "cell_type": "code",
   "execution_count": 1,
   "metadata": {},
   "outputs": [
    {
     "name": "stdout",
     "output_type": "stream",
     "text": [
      "        date  value\n",
      "0 2021-08-15    100\n",
      "1 2021-08-16    200\n",
      "2 2021-08-17    150\n"
     ]
    }
   ],
   "source": [
    "import pandas as pd\n",
    "\n",
    "data = {'date': ['2021-08-15', '2021-08-16', '2021-08-17'],\n",
    "        'value': [100, 200, 150]}\n",
    "df = pd.DataFrame(data)\n",
    "\n",
    "df['date'] = pd.to_datetime(df['date'])\n",
    "print(df)\n",
    "\n"
   ]
  },
  {
   "cell_type": "code",
   "execution_count": 5,
   "metadata": {},
   "outputs": [
    {
     "name": "stdout",
     "output_type": "stream",
     "text": [
      "                     PM10  PM2.5\n",
      "location date                   \n",
      "대구       2022-01-01  60.0   30.0\n",
      "         2022-01-02  65.0   35.0\n",
      "부산       2022-01-01  45.0   22.0\n",
      "         2022-01-02  55.0   28.0\n",
      "서울       2022-01-01  50.0   25.0\n",
      "         2022-01-02  40.0   20.0\n"
     ]
    }
   ],
   "source": [
    "import pandas as pd\n",
    "\n",
    "data = {'date': ['2022-01-01', '2022-01-02', '2022-01-01', '2022-01-02', '2022-01-01', '2022-01-02'],\n",
    "        'location': ['서울', '서울', '부산', '부산', '대구', '대구'],\n",
    "        'PM10': [50, 40, 45, 55, 60, 65],\n",
    "        'PM2.5': [25, 20, 22, 28, 30, 35]}\n",
    "df = pd.DataFrame(data)\n",
    "df['date'] = pd.to_datetime(df['date'])\n",
    "\n",
    "df_monthly = df.groupby('location').resample('D', on='date').mean(numeric_only=True) #수치값들만 평균취한다\n",
    "print(df_monthly)\n",
    "\n",
    "\n"
   ]
  },
  {
   "cell_type": "code",
   "execution_count": 6,
   "metadata": {},
   "outputs": [
    {
     "name": "stdout",
     "output_type": "stream",
     "text": [
      "                     PM10  PM2.5\n",
      "location date                   \n",
      "부산       2022-01-31  50.0   27.5\n",
      "         2022-02-28  55.0   31.5\n",
      "         2022-03-31   NaN    NaN\n",
      "         2022-04-30   NaN    NaN\n",
      "         2022-05-31   NaN    NaN\n",
      "         2022-06-30   NaN    NaN\n",
      "         2022-07-31   NaN    NaN\n",
      "         2022-08-31   NaN    NaN\n",
      "         2022-09-30   NaN    NaN\n",
      "         2022-10-31   NaN    NaN\n",
      "         2022-11-30   NaN    NaN\n",
      "         2022-12-31   NaN    NaN\n",
      "         2023-01-31  72.5   41.0\n",
      "         2023-02-28  85.0   47.5\n",
      "서울       2022-01-31  45.0   22.5\n",
      "         2022-02-28  50.0   25.0\n",
      "         2022-03-31   NaN    NaN\n",
      "         2022-04-30   NaN    NaN\n",
      "         2022-05-31   NaN    NaN\n",
      "         2022-06-30   NaN    NaN\n",
      "         2022-07-31   NaN    NaN\n",
      "         2022-08-31   NaN    NaN\n",
      "         2022-09-30   NaN    NaN\n",
      "         2022-10-31   NaN    NaN\n",
      "         2022-11-30   NaN    NaN\n",
      "         2022-12-31   NaN    NaN\n",
      "         2023-01-31  62.5   32.5\n",
      "         2023-02-28  75.0   42.5\n"
     ]
    }
   ],
   "source": [
    "import pandas as pd\n",
    "\n",
    "data = {'date': ['2022-01-01', '2022-01-02', '2022-02-01', '2022-02-02', '2023-01-01', '2023-01-02', '2023-02-01', '2023-02-02', '2022-01-01', '2022-01-02', '2022-02-01', '2022-02-02', '2023-01-01', '2023-01-02', '2023-02-01', '2023-02-02'],\n",
    "        'location': ['서울', '서울', '서울', '서울', '서울', '서울', '서울', '서울', '부산', '부산', '부산', '부산', '부산', '부산', '부산', '부산'],\n",
    "        'PM10': [50, 40, 45, 55, 60, 65, 70, 80, 55, 45, 50, 60, 70, 75, 80, 90],\n",
    "        'PM2.5': [25, 20, 22, 28, 30, 35, 40, 45, 30, 25, 28, 35, 40, 42, 45, 50]}\n",
    "\n",
    "df = pd.DataFrame(data)\n",
    "df['date'] = pd.to_datetime(df['date'])\n",
    "\n",
    "df_monthly = df.groupby('location').resample('M', on='date').mean(numeric_only=True) #수치값들만 평균취한다\n",
    "print(df_monthly)"
   ]
  },
  {
   "cell_type": "code",
   "execution_count": 13,
   "metadata": {},
   "outputs": [
    {
     "name": "stdout",
     "output_type": "stream",
     "text": [
      "<class 'pandas.core.frame.DataFrame'>\n",
      "Index: 18105 entries, 0 to 18249\n",
      "Data columns (total 4 columns):\n",
      " #   Column        Non-Null Count  Dtype  \n",
      "---  ------        --------------  -----  \n",
      " 0   측정일시          18105 non-null  int64  \n",
      " 1   측정소명          18105 non-null  object \n",
      " 2   미세먼지농도(㎍/㎥)   18105 non-null  float64\n",
      " 3   초미세먼지농도(㎍/㎥)  18105 non-null  float64\n",
      "dtypes: float64(2), int64(1), object(1)\n",
      "memory usage: 707.2+ KB\n",
      "         측정일시    측정소명  미세먼지농도(㎍/㎥)  초미세먼지농도(㎍/㎥)\n",
      "0  2022-01-01     강남구         25.0          12.0\n",
      "1  2022-01-01     홍릉로         27.0          16.0\n",
      "2  2022-01-01      행주         27.0          16.0\n",
      "3  2022-01-01      항동         27.0          14.0\n",
      "4  2022-01-01    한강대로         34.0          14.0\n",
      "5  2022-01-01    청계천로         27.0          16.0\n",
      "6  2022-01-01    천호대로         38.0          17.0\n",
      "7  2022-01-01     중랑구         25.0          12.0\n",
      "8  2022-01-01      중구         28.0          17.0\n",
      "9  2022-01-01     종로구         27.0          15.0\n",
      "10 2022-01-01      종로         34.0          14.0\n",
      "11 2022-01-01     정릉로         32.0          15.0\n",
      "12 2022-01-01  자연사박물관         26.0          14.0\n",
      "13 2022-01-01     은평구         22.0          14.0\n",
      "14 2022-01-01     용산구         28.0          14.0\n",
      "15 2022-01-01   올림픽공원         24.0          14.0\n",
      "16 2022-01-01    영등포로         25.0          13.0\n",
      "17 2022-01-01    영등포구         26.0          14.0\n",
      "18 2022-01-01     양천구         27.0          16.0\n",
      "19 2022-01-01     신촌로         27.0          13.0\n"
     ]
    }
   ],
   "source": [
    "import pandas as pd\n",
    "\n",
    "# 데이터 파일 경로\n",
    "data_path = '일별평균대기오염도_2022.csv'\n",
    "\n",
    "# CSV 파일 읽기\n",
    "df = pd.read_csv(data_path, encoding=\"cp949\")\n",
    "\n",
    "# 필요한 필드 추출\n",
    "df = df[['측정일시', '측정소명', '미세먼지농도(㎍/㎥)', '초미세먼지농도(㎍/㎥)']]\n",
    "\n",
    "# 결측치 처리\n",
    "df = df.dropna()\n",
    "\n",
    "df.info() #데이터 타입 확인. 인트인지~ 측정일시가 int니까 날짜로 타입변환\n",
    "df.head() #어떤 데이터 형태로 들어가있는지 윗부분만 확인\n",
    "\n",
    "# 측정일시 컬럼의 데이터 타입을 datetime으로 변경\n",
    "df['측정일시'] = pd.to_datetime(df['측정일시'])\n",
    "df.head()\n",
    "#그냥 넣으니까 엉망이다. 아래 markdown 부분 봐봐. 자동으로 인식하는건 %Y-%m-%d 이런식.\n",
    "#즉 2023-10-23 이런 형태를 인식하고있네.\n",
    "#20231023 으로 붙어있다 -> %Y%m%d 이렇게 붙어있는 형태네\n",
    "#2023년 10월 23일 형태로 되어있으면\n",
    "#format = '%Y년 %m월 %d일' 이렇게 되어있다고 알려주면 된다.\n",
    "#23일 2023년 10월 이렇게 적혀있으면\n",
    "#format = '%d일 %Y년 %d월' 이렇게.\n",
    "\n",
    "df['측정일시'] = pd.to_datetime(df['측정일시'], format='%Y%m%d')\n",
    "df.head()\n",
    "print(df.head(20))\n"
   ]
  },
  {
   "attachments": {},
   "cell_type": "markdown",
   "metadata": {},
   "source": [
    "to_datetime에서 자동으로 인식하는 날짜 형식  \n",
    "%Y-%m-%d %H:%M:%S.%f  \n",
    "%Y-%m-%d %H:%M:%S  \n",
    "%Y-%m-%d %H:%M  \n",
    "%Y-%m-%d  \n",
    "%m/%d/%Y %H:%M:%S  \n",
    "%m/%d/%Y %H:%M  \n",
    "%m/%d/%Y  \n",
    "%m/%d/%y %H:%M:%S  \n",
    "%m/%d/%y %H:%M  \n",
    "%m/%d/%y  \n",
    "\n"
   ]
  },
  {
   "cell_type": "code",
   "execution_count": 20,
   "metadata": {},
   "outputs": [
    {
     "data": {
      "text/html": [
       "<div>\n",
       "<style scoped>\n",
       "    .dataframe tbody tr th:only-of-type {\n",
       "        vertical-align: middle;\n",
       "    }\n",
       "\n",
       "    .dataframe tbody tr th {\n",
       "        vertical-align: top;\n",
       "    }\n",
       "\n",
       "    .dataframe thead th {\n",
       "        text-align: right;\n",
       "    }\n",
       "</style>\n",
       "<table border=\"1\" class=\"dataframe\">\n",
       "  <thead>\n",
       "    <tr style=\"text-align: right;\">\n",
       "      <th></th>\n",
       "      <th>미세먼지농도(㎍/㎥)</th>\n",
       "      <th>초미세먼지농도(㎍/㎥)</th>\n",
       "    </tr>\n",
       "    <tr>\n",
       "      <th>측정일시</th>\n",
       "      <th></th>\n",
       "      <th></th>\n",
       "    </tr>\n",
       "  </thead>\n",
       "  <tbody>\n",
       "    <tr>\n",
       "      <th>2022-03-31</th>\n",
       "      <td>42.385360</td>\n",
       "      <td>25.144820</td>\n",
       "    </tr>\n",
       "    <tr>\n",
       "      <th>2022-06-30</th>\n",
       "      <td>35.116453</td>\n",
       "      <td>17.068152</td>\n",
       "    </tr>\n",
       "    <tr>\n",
       "      <th>2022-09-30</th>\n",
       "      <td>22.969743</td>\n",
       "      <td>12.535190</td>\n",
       "    </tr>\n",
       "    <tr>\n",
       "      <th>2022-12-31</th>\n",
       "      <td>34.761926</td>\n",
       "      <td>18.280088</td>\n",
       "    </tr>\n",
       "  </tbody>\n",
       "</table>\n",
       "</div>"
      ],
      "text/plain": [
       "            미세먼지농도(㎍/㎥)  초미세먼지농도(㎍/㎥)\n",
       "측정일시                                 \n",
       "2022-03-31    42.385360     25.144820\n",
       "2022-06-30    35.116453     17.068152\n",
       "2022-09-30    22.969743     12.535190\n",
       "2022-12-31    34.761926     18.280088"
      ]
     },
     "execution_count": 20,
     "metadata": {},
     "output_type": "execute_result"
    }
   ],
   "source": [
    "# 연도별 미세먼지와 초미세먼지 농도 평균 계산\n",
    "df_monthly = df.resample('M', on='측정일시').mean(numeric_only=True)\n",
    "df_monthly\n",
    "\n",
    "df_monthly = df.resample('Q', on='측정일시').mean(numeric_only=True)\n",
    "df_monthly"
   ]
  },
  {
   "cell_type": "code",
   "execution_count": 18,
   "metadata": {},
   "outputs": [
    {
     "data": {
      "image/png": "[encoded data removed]",
      "text/plain": [
       "<Figure size 640x480 with 1 Axes>"
      ]
     },
     "metadata": {},
     "output_type": "display_data"
    }
   ],
   "source": [
    "import matplotlib.pyplot as plt\n",
    "\n",
    "\n",
    "# 그래프 그리기\n",
    "plt.plot(df_monthly.index.month, df_monthly['미세먼지농도(㎍/㎥)'], label='PM10')\n",
    "plt.plot(df_monthly.index.month, df_monthly['초미세먼지농도(㎍/㎥)'], label='PM2.5')\n",
    "plt.legend()\n",
    "plt.xlabel('Month')\n",
    "plt.ylabel('Concentration')\n",
    "plt.title('2022 Air Pollution Trend')\n",
    "plt.show()\n"
   ]
  }
 ],
 "metadata": {
  "kernelspec": {
   "display_name": "Python 3",
   "language": "python",
   "name": "python3"
  },
  "language_info": {
   "codemirror_mode": {
    "name": "ipython",
    "version": 3
   },
   "file_extension": ".py",
   "mimetype": "text/x-python",
   "name": "python",
   "nbconvert_exporter": "python",
   "pygments_lexer": "ipython3",
   "version": "3.10.9"
  },
  "orig_nbformat": 4
 },
 "nbformat": 4,
 "nbformat_minor": 2
}
