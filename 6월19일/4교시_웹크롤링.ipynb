{
 "cells": [
  {
   "attachments": {},
   "cell_type": "markdown",
   "metadata": {},
   "source": [
    "C:\\Users\\user\\AppData\\Local\\Programs\\Thonny\\Scripts>pip install bs4 requests  \n",
    "설치  \n"
   ]
  },
  {
   "cell_type": "code",
   "execution_count": 6,
   "metadata": {},
   "outputs": [
    {
     "name": "stdout",
     "output_type": "stream",
     "text": [
      "[<h4 class=\"article-title\">\n",
      "<a href=\"/arti/society/society_general/1096587.html\">154만원에 낙찰된 20억 ‘거제 거북선’, 결국 철거되나</a> </h4>, <h4 class=\"article-title\">\n",
      "<a href=\"/arti/society/health/1096586.html\">서울백병원 문 닫으면? 중구보건소 “도심 응급의료 공백 우려”</a> </h4>, <h4 class=\"article-title\">\n",
      "<a href=\"/arti/society/schooling/1096585.html\">[속보] 이규민 평가원장 “6월 모의평가 책임지고 사임”</a> </h4>, <h4 class=\"article-title\">\n",
      "<a href=\"/arti/politics/assembly/1096584.html\">사교육 부르는 ‘킬러 문항’ 죽이고 ‘사교육 핵심’ 자사고는 살린다</a> </h4>, <h4 class=\"article-title\">\n",
      "<a href=\"/arti/society/schooling/1096583.html\">평범한 우리도, 세상을 바꿀 수 있다</a> </h4>, <h4 class=\"article-title\">\n",
      "<a href=\"/arti/society/schooling/1096582.html\">인간중심 간호 전문인재 양성…‘국시 100% 합격’</a> </h4>, <h4 class=\"article-title\">\n",
      "<a href=\"/arti/society/society_general/1096581.html\">뜨겁다 뜨거워…폭염에도 삶은 계속되고, 방법은 다 있다</a> </h4>, <h4 class=\"article-title\">\n",
      "<a href=\"/arti/society/schooling/1096579.html\">낮에 모인 ‘육퇴’ 동지들 “엄마가 행복해야 아이도 행복하다”</a> </h4>, <h4 class=\"article-title\">\n",
      "<a href=\"/arti/society/schooling/1096577.html\">“오래된 물건 자랑하랬더니, 엄마아빠 쓰던 연필깎이 갖고 와”</a> </h4>, <h4 class=\"article-title\">\n",
      "<a href=\"/arti/culture/culture_general/1096576.html\">‘오징어 게임 2’ 캐스팅 영상에 여성 0…넷플릭스에 물어보니</a> </h4>, <h4 class=\"article-title\">\n",
      "<a href=\"/arti/politics/bluehouse/1096575.html\">‘킬러 문항→사교육비→저출산’ 윤 대통령의 문제의식 배경</a> </h4>, <h4 class=\"article-title\">\n",
      "<a href=\"/arti/society/schooling/1096574.html\">대안학교 가려면 지금부터 ‘발품’…2박3일 면접 보는 곳도</a> </h4>, <h4 class=\"article-title\">\n",
      "<a href=\"/arti/opinion/column/1096573.html\">경기부양 욕심이 키운 ‘카드대란’ 연착륙에 성공하다</a> </h4>, <h4 class=\"article-title\">\n",
      "<a href=\"/arti/international/america/1096572.html\">14살 스페이스X 신입사원 “채용 때 나이 편견 버리길 희망”</a> </h4>, <h4 class=\"article-title\">\n",
      "<a href=\"/arti/society/labor/1096571.html\">파업 유발시킨 ‘회사 불법’ 방치한 대법 판결…노란봉투법이 답이다</a> </h4>]\n",
      "154만원에 낙찰된 20억 ‘거제 거북선’, 결국 철거되나\n",
      "서울백병원 문 닫으면? 중구보건소 “도심 응급의료 공백 우려”\n",
      "[속보] 이규민 평가원장 “6월 모의평가 책임지고 사임”\n",
      "사교육 부르는 ‘킬러 문항’ 죽이고 ‘사교육 핵심’ 자사고는 살린다\n",
      "평범한 우리도, 세상을 바꿀 수 있다\n",
      "인간중심 간호 전문인재 양성…‘국시 100% 합격’\n",
      "뜨겁다 뜨거워…폭염에도 삶은 계속되고, 방법은 다 있다\n",
      "낮에 모인 ‘육퇴’ 동지들 “엄마가 행복해야 아이도 행복하다”\n",
      "“오래된 물건 자랑하랬더니, 엄마아빠 쓰던 연필깎이 갖고 와”\n",
      "‘오징어 게임 2’ 캐스팅 영상에 여성 0…넷플릭스에 물어보니\n",
      "‘킬러 문항→사교육비→저출산’ 윤 대통령의 문제의식 배경\n",
      "대안학교 가려면 지금부터 ‘발품’…2박3일 면접 보는 곳도\n",
      "경기부양 욕심이 키운 ‘카드대란’ 연착륙에 성공하다\n",
      "14살 스페이스X 신입사원 “채용 때 나이 편견 버리길 희망”\n",
      "파업 유발시킨 ‘회사 불법’ 방치한 대법 판결…노란봉투법이 답이다\n"
     ]
    }
   ],
   "source": [
    "import requests\n",
    "from bs4 import BeautifulSoup\n",
    "\n",
    "url = \"https://www.hani.co.kr/arti/list.html?sec=news&subsec=politics\"\n",
    "response = requests.get(url)\n",
    "\n",
    "soup = BeautifulSoup(response.text, \"html.parser\") #text가 url이기 때문에 어디가 어딘지 parser가 분석\n",
    "#여기까진 거의 고정\n",
    "#아래부터 찾는걸 조건으로. 태그 뭘 가져올건지\n",
    "\n",
    "titles = soup.find_all(\"h4\", class_=\"article-title\") #h4가 head 태그(html 생각해봐), #h4중에서도 article-title인 애들 뽑아와\n",
    "\n",
    "print(titles) #이걸로 봐봐 보고 밑에꺼 주석풀고 해\n",
    "\n",
    "#각 태그들이 배열로 들어갔어. \n",
    "for title in titles: #하나하나씩 갖고나와. 확장for문. \n",
    "    print(title.text.strip()) #h4태그안의 text. 뽑아와서 strip는 왼쪽 오른쪽 공백 없애. 기사만.\n"
   ]
  },
  {
   "cell_type": "code",
   "execution_count": 7,
   "metadata": {},
   "outputs": [
    {
     "name": "stdout",
     "output_type": "stream",
     "text": [
      "<div class=\"menu\">\n",
      "<ul>\n",
      "<li><a href=\"/home\">Home</a></li>\n",
      "<li><a href=\"/about\">About</a></li>\n",
      "<li><a href=\"/contact\">Contact</a></li>\n",
      "</ul>\n",
      "</div>\n",
      "/home\n",
      "/about\n",
      "/contact\n"
     ]
    }
   ],
   "source": [
    "from bs4 import BeautifulSoup\n",
    "\n",
    "html = '''\n",
    "<html>\n",
    "<body>\n",
    "<div class=\"menu\">\n",
    "    <ul>\n",
    "        <li><a href=\"/home\">Home</a></li>\n",
    "        <li><a href=\"/about\">About</a></li>\n",
    "        <li><a href=\"/contact\">Contact</a></li>\n",
    "    </ul>\n",
    "</div>\n",
    "<div class=\"content\">\n",
    "    <h1>Hello, World!</h1>\n",
    "    <p>This is an example of using Beautifulsoup.</p>\n",
    "</div>\n",
    "</body>\n",
    "</html>\n",
    "'''\n",
    "\n",
    "soup = BeautifulSoup(html, 'html.parser')\n",
    "\n",
    "# find() 메서드 사용 예시\n",
    "div_menu = soup.find('div', {'class': 'menu'})\n",
    "print(div_menu)\n",
    "\n",
    "# find_all() 메서드 사용 예시\n",
    "links = soup.find_all('a')\n",
    "for link in links:\n",
    "    print(link.get('href'))\n"
   ]
  },
  {
   "cell_type": "code",
   "execution_count": 8,
   "metadata": {},
   "outputs": [
    {
     "name": "stdout",
     "output_type": "stream",
     "text": [
      "1위: 스파이더맨: 어크로스 더 유니버스 예매율(8.9)\n",
      "2위: 귀공자 예매율(26.2%)\n",
      "3위: 엘리멘탈 예매율(8.7)\n",
      "4위: 범죄도시3 예매율(20.8%)\n",
      "5위: 플래시 예매율(8.8)\n",
      "6위: 명탐정코난: 하이바라 아이 이야기 ~흑철의 미스터리 트레인 예매율(16.1%)\n",
      "7위: 파이어하트 예매율(6.7)\n",
      "8위: 수라 예매율(13.2%)\n",
      "9위: 트랜스포머: 비스트의 서막 예매율(8.0)\n",
      "10위: 비의도적 연애담 스페셜 예매율(6.8%)\n",
      "11위: 인디아나 존스: 운명의 다이얼 예매율(10.0)\n",
      "12위: 가디언즈 오브 갤럭시: Volume 3 예매율(3.8%)\n",
      "13위: 인드림 예매율(10.0)\n",
      "14위: 너의 눈을 들여다보면 예매율(1.2%)\n",
      "15위: 어디로 가고 싶으신가요 예매율(10.0)\n",
      "16위: 마마무: 마이콘 더 무비 예매율(1.1%)\n",
      "17위: 1986 그 여름, 그리고 고등어통조림 예매율(7.3)\n",
      "18위: 남은 인생 10년 예매율(1.0%)\n",
      "19위: 엔니오: 더 마에스트로 예매율(10.0)\n",
      "20위: 굿바이 예매율(0.9%)\n"
     ]
    }
   ],
   "source": [
    "import requests\n",
    "from bs4 import BeautifulSoup\n",
    "\n",
    "url = 'https://movie.daum.net/ranking/reservation'\n",
    "response = requests.get(url)\n",
    "\n",
    "soup = BeautifulSoup(response.text, 'html.parser')\n",
    "\n",
    "rank_list = soup.select('div.thumb_cont > strong > a') #div에 스트롱이 감싸고 있는 a\n",
    "rank_rate = soup.select('span.txt_append > span > span')\n",
    "\n",
    "for rank, title in enumerate(rank_list, 1):\n",
    "    print(f'{rank}위: {title.text} 예매율({rank_rate[rank-1].text})')\n",
    "\n"
   ]
  },
  {
   "cell_type": "code",
   "execution_count": 15,
   "metadata": {},
   "outputs": [
    {
     "name": "stdout",
     "output_type": "stream",
     "text": [
      "1\n",
      "2\n",
      "3\n",
      "4\n",
      "5\n",
      "6\n",
      "7\n",
      "8\n",
      "9\n",
      "10\n",
      "11\n",
      "12\n",
      "13\n",
      "14\n",
      "15\n",
      "16\n",
      "17\n",
      "18\n",
      "19\n",
      "20\n"
     ]
    }
   ],
   "source": [
    "#노션 ppt9,10 봐봐. 크롤링 실습\n",
    "import requests\n",
    "from bs4 import BeautifulSoup\n",
    "\n",
    "url = 'https://movie.daum.net/ranking/reservation'\n",
    "response = requests.get(url)\n",
    "\n",
    "soup = BeautifulSoup(response.text, 'html.parser')\n",
    "\n",
    "ol = soup.select_one('.list_movieranking')\n",
    "\n",
    "li_list=ol.find_all('li')\n",
    "li_list[1]#0,1,2 다른영화들도 찍어보면서 정보 잘 가져 와지는지 보고 이제 반복문 돌리면 되겠네\n",
    "\n",
    "for li in li_list:\n",
    "    rank = li.select_one('.rank_num').text ##이것만 하고 프린트 랭크 하면 랭크만 출력\n",
    "    name = li.select_one('.link_txt')\n",
    "    print(rank) #랭크들만 출력이 되네\n"
   ]
  }
 ],
 "metadata": {
  "kernelspec": {
   "display_name": "Python 3",
   "language": "python",
   "name": "python3"
  },
  "language_info": {
   "codemirror_mode": {
    "name": "ipython",
    "version": 3
   },
   "file_extension": ".py",
   "mimetype": "text/x-python",
   "name": "python",
   "nbconvert_exporter": "python",
   "pygments_lexer": "ipython3",
   "version": "3.10.9"
  },
  "orig_nbformat": 4
 },
 "nbformat": 4,
 "nbformat_minor": 2
}
