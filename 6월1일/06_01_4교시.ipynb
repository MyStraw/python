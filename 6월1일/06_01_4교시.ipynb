{
 "cells": [
  {
   "attachments": {},
   "cell_type": "markdown",
   "metadata": {},
   "source": [
    "#성적 계산기\"를 작성하세요\n",
    "# 사용자로부터 국어, 영어, 수학 세 과목의 성적을 입력받아, 각 과목의 평균 점수와 총 평균 점수를 계산한 후, 학점을 출력하는 프로그램을 작성하세요.\n",
    "# 평균 점수는 소수점 둘째자리까지 출력합니다.\n",
    "# 총 평균 점수는 국어: 40%, 영어: 40%, 수학: 20%로 가중치를 부여하여 계산합니다.\n",
    "# 총 평균 점수가 90점 이상인 경우 \"A\", 80점 이상인 경우 \"B\", 70점 이상인 경우 \"C\", 60점 이상인 경우 \"D\", 60점 미만인 경우 \"F\"를 출력합니다."
   ]
  },
  {
   "cell_type": "code",
   "execution_count": 2,
   "metadata": {},
   "outputs": [
    {
     "name": "stdout",
     "output_type": "stream",
     "text": [
      "학점A\n",
      "\n",
      "[성적결과]\n",
      "국어:90, 영어:90, 수학:90\n",
      "평균점수:90.00\n",
      "학점:A\n"
     ]
    }
   ],
   "source": [
    "국어 = int(input(\"국어점수 입력하셈\"))\n",
    "영어 = int(input(\"영어점수 입력하셈\"))\n",
    "수학 = int(input(\"수학점수 입력하셈\"))\n",
    "\n",
    "평균 = (국어+영어+수학)/3\n",
    "\n",
    "총평균 = 국어*0.4 + 영어 * 0.4 + 수학*0.2\n",
    "\n",
    "grade = [\"A\",\"B\",\"C\",\"D\",\"F\"]\n",
    "\n",
    "if 총평균 >= 90:\n",
    "    print(f\"학점{grade[0]}\")    \n",
    "    학점 = 'A'\n",
    "elif 총평균 >= 80 :\n",
    "    print(f\"학점{grade[1]}\")\n",
    "    학점 = 'B'\n",
    "elif 총평균 >= 70 :\n",
    "    print(f\"학점{grade[2]}\")\n",
    "    학점 = 'C'\n",
    "elif 총평균 >= 60 :\n",
    "    print(f\"학점{grade[3]}\")  \n",
    "    학점 = 'D'    \n",
    "else:\n",
    "    print(f\"학점{grade[4]}\")   \n",
    "    학점 = 'F' \n",
    "    \n",
    "결과 = f\"\\n[성적결과]\\n국어:{국어}, 영어:{영어}, 수학:{수학}\\n평균점수:{총평균:.2f}\\n학점:{학점}\"\n",
    "print(결과)"
   ]
  },
  {
   "attachments": {},
   "cell_type": "markdown",
   "metadata": {},
   "source": [
    "중첩 if문\n",
    "사용자로부터 cm 단위의 길이를 입력 받는다. 입력 값이 음수이면 \"잘못 입력하였습니다\"라는 \n",
    "메시지를 출력하고 양수이면 길이를 인치로 변환하여 출력하는 프로그램을 작성하라. 1인치 = 2.54cm"
   ]
  },
  {
   "cell_type": "code",
   "execution_count": 5,
   "metadata": {},
   "outputs": [
    {
     "name": "stdout",
     "output_type": "stream",
     "text": [
      "39.37인치\n"
     ]
    }
   ],
   "source": [
    "cm = int(input(\"cm 입력하셈\"))\n",
    "\n",
    "if cm<0:\n",
    "    print(\"잘못입력하였습니다\")\n",
    "elif cm>0:\n",
    "    print(f\"{cm/2.54:.2f}인치\")    "
   ]
  },
  {
   "attachments": {},
   "cell_type": "markdown",
   "metadata": {},
   "source": [
    "사용자로부터 이수한 학점을 입력 받는다. 학점이 40학점 미만이면 \"1학년입니다\"를 출력하고, \n",
    "40이상 80미만이면 \"2학년입니다\"를 출력한다. 학점이 80이상이면 \"졸업반입니다\"를 출력하는 프로그램을 작성하라."
   ]
  },
  {
   "cell_type": "code",
   "execution_count": 6,
   "metadata": {},
   "outputs": [
    {
     "name": "stdout",
     "output_type": "stream",
     "text": [
      "2학년입니다\n"
     ]
    }
   ],
   "source": [
    "grade = int(input(\"학점 몇?\"))\n",
    "\n",
    "if grade<40:\n",
    "    print(\"1학년입니다\")\n",
    "elif grade >=40 and grade<80 :\n",
    "    print(\"2학년입니다\")\n",
    "elif grade >=80:\n",
    "    print(\"졸업반입니다\")\n"
   ]
  },
  {
   "attachments": {},
   "cell_type": "markdown",
   "metadata": {},
   "source": [
    "사용자로부터 현재 시간을 나타내는 1~12의 숫자를 입력 받는다. 또 \"am\" 혹은 \"pm\"을 입력 받고 경과 시간을 나타내는 값을 입력 받는다. \n",
    "이로부터 최종 시간이 몇 시인지 출력하는 프로그램을 작성하라\n",
    "\n",
    "Enter hour: 8\n",
    "am (1) or pm (2)? 1\n",
    "How many hours ahead? 5\n",
    "New hour: 1 pm"
   ]
  },
  {
   "cell_type": "code",
   "execution_count": 23,
   "metadata": {},
   "outputs": [
    {
     "ename": "KeyboardInterrupt",
     "evalue": "Interrupted by user",
     "output_type": "error",
     "traceback": [
      "\u001b[1;31m---------------------------------------------------------------------------\u001b[0m",
      "\u001b[1;31mKeyboardInterrupt\u001b[0m                         Traceback (most recent call last)",
      "Cell \u001b[1;32mIn[23], line 1\u001b[0m\n\u001b[1;32m----> 1\u001b[0m now \u001b[39m=\u001b[39m \u001b[39mint\u001b[39m(\u001b[39minput\u001b[39;49m(\u001b[39m\"\u001b[39;49m\u001b[39m현재 몇신교?\u001b[39;49m\u001b[39m\"\u001b[39;49m))\n\u001b[0;32m      2\u001b[0m ampm \u001b[39m=\u001b[39m \u001b[39mint\u001b[39m(\u001b[39minput\u001b[39m(\u001b[39m\"\u001b[39m\u001b[39mam(1) or pm(2)?\u001b[39m\u001b[39m\"\u001b[39m))\n\u001b[0;32m      3\u001b[0m away \u001b[39m=\u001b[39m \u001b[39mint\u001b[39m(\u001b[39minput\u001b[39m(\u001b[39m\"\u001b[39m\u001b[39m시간 얼마나 지났는교?\u001b[39m\u001b[39m\"\u001b[39m))\n",
      "File \u001b[1;32mc:\\Users\\user\\AppData\\Local\\Programs\\Thonny\\lib\\site-packages\\ipykernel\\kernelbase.py:1191\u001b[0m, in \u001b[0;36mKernel.raw_input\u001b[1;34m(self, prompt)\u001b[0m\n\u001b[0;32m   1189\u001b[0m     msg \u001b[39m=\u001b[39m \u001b[39m\"\u001b[39m\u001b[39mraw_input was called, but this frontend does not support input requests.\u001b[39m\u001b[39m\"\u001b[39m\n\u001b[0;32m   1190\u001b[0m     \u001b[39mraise\u001b[39;00m StdinNotImplementedError(msg)\n\u001b[1;32m-> 1191\u001b[0m \u001b[39mreturn\u001b[39;00m \u001b[39mself\u001b[39;49m\u001b[39m.\u001b[39;49m_input_request(\n\u001b[0;32m   1192\u001b[0m     \u001b[39mstr\u001b[39;49m(prompt),\n\u001b[0;32m   1193\u001b[0m     \u001b[39mself\u001b[39;49m\u001b[39m.\u001b[39;49m_parent_ident[\u001b[39m\"\u001b[39;49m\u001b[39mshell\u001b[39;49m\u001b[39m\"\u001b[39;49m],\n\u001b[0;32m   1194\u001b[0m     \u001b[39mself\u001b[39;49m\u001b[39m.\u001b[39;49mget_parent(\u001b[39m\"\u001b[39;49m\u001b[39mshell\u001b[39;49m\u001b[39m\"\u001b[39;49m),\n\u001b[0;32m   1195\u001b[0m     password\u001b[39m=\u001b[39;49m\u001b[39mFalse\u001b[39;49;00m,\n\u001b[0;32m   1196\u001b[0m )\n",
      "File \u001b[1;32mc:\\Users\\user\\AppData\\Local\\Programs\\Thonny\\lib\\site-packages\\ipykernel\\kernelbase.py:1234\u001b[0m, in \u001b[0;36mKernel._input_request\u001b[1;34m(self, prompt, ident, parent, password)\u001b[0m\n\u001b[0;32m   1231\u001b[0m \u001b[39mexcept\u001b[39;00m \u001b[39mKeyboardInterrupt\u001b[39;00m:\n\u001b[0;32m   1232\u001b[0m     \u001b[39m# re-raise KeyboardInterrupt, to truncate traceback\u001b[39;00m\n\u001b[0;32m   1233\u001b[0m     msg \u001b[39m=\u001b[39m \u001b[39m\"\u001b[39m\u001b[39mInterrupted by user\u001b[39m\u001b[39m\"\u001b[39m\n\u001b[1;32m-> 1234\u001b[0m     \u001b[39mraise\u001b[39;00m \u001b[39mKeyboardInterrupt\u001b[39;00m(msg) \u001b[39mfrom\u001b[39;00m \u001b[39mNone\u001b[39;00m\n\u001b[0;32m   1235\u001b[0m \u001b[39mexcept\u001b[39;00m \u001b[39mException\u001b[39;00m:\n\u001b[0;32m   1236\u001b[0m     \u001b[39mself\u001b[39m\u001b[39m.\u001b[39mlog\u001b[39m.\u001b[39mwarning(\u001b[39m\"\u001b[39m\u001b[39mInvalid Message:\u001b[39m\u001b[39m\"\u001b[39m, exc_info\u001b[39m=\u001b[39m\u001b[39mTrue\u001b[39;00m)\n",
      "\u001b[1;31mKeyboardInterrupt\u001b[0m: Interrupted by user"
     ]
    }
   ],
   "source": [
    "now = int(input(\"현재 몇신교?\"))\n",
    "ampm = int(input(\"am(1) or pm(2)?\"))\n",
    "away = int(input(\"시간 얼마나 지났는교?\"))\n",
    "\n",
    "time = now + away\n",
    "new = time%12\n",
    "if new ==0:\n",
    "    new = 12\n",
    "\n",
    "\n",
    "if time>=12 & now!=12:\n",
    "    if ampm==2:\n",
    "        ampm==1\n",
    "        print(f\"{new}am\")\n",
    "    elif ampm==1:\n",
    "        ampm==2\n",
    "        print(f\"{new}pm\")\n",
    "elif time>=12 & now==12:\n",
    "    if ampm==2:        \n",
    "        print(f\"{new}pm\")\n",
    "    elif ampm==1:       \n",
    "        print(f\"{new}am\")    \n",
    "  \n",
    "if time<12:    \n",
    "    if ampm==1:\n",
    "        print(f\"{new}am\")\n",
    "    elif ampm==2:\n",
    "        print(f\"{new}pm\")    "
   ]
  },
  {
   "cell_type": "code",
   "execution_count": null,
   "metadata": {},
   "outputs": [],
   "source": [
    "time = int(input(\"현재시간: \"))\n",
    "apm = input(\"am or pm\")\n",
    "over_time = int(input(\"추가시간 : \"))\n",
    "\n",
    "new_time=(time+over_time)%12\n",
    "\n",
    "if new_time == 0:\n",
    "    new_time=12\n",
    "    \n",
    "\n",
    "if(time+over_time)//12%2 == 1:\n",
    "    if apm == \"am\":\n",
    "        apm=\"pm\"\n",
    "    else:\n",
    "        apm=\"am\"\n",
    "    \n",
    "    \n",
    "print(f\"최종시간: {new_time} {apm}\")    \n"
   ]
  }
 ],
 "metadata": {
  "kernelspec": {
   "display_name": "Python 3",
   "language": "python",
   "name": "python3"
  },
  "language_info": {
   "codemirror_mode": {
    "name": "ipython",
    "version": 3
   },
   "file_extension": ".py",
   "mimetype": "text/x-python",
   "name": "python",
   "nbconvert_exporter": "python",
   "pygments_lexer": "ipython3",
   "version": "3.10.9"
  },
  "orig_nbformat": 4
 },
 "nbformat": 4,
 "nbformat_minor": 2
}
