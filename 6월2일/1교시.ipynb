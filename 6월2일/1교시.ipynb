{
 "cells": [
  {
   "attachments": {},
   "cell_type": "markdown",
   "metadata": {},
   "source": [
    "반복문 while"
   ]
  },
  {
   "cell_type": "code",
   "execution_count": 1,
   "metadata": {},
   "outputs": [
    {
     "name": "stdout",
     "output_type": "stream",
     "text": [
      "입력한 수의 2진수 표현:  10000\n"
     ]
    }
   ],
   "source": [
    "num = int(input(\"10진수를 입력하세요: \"))\n",
    "binary = \"\"\n",
    "\n",
    "while num > 0:\n",
    "    remainder = num % 2\n",
    "    binary = str(remainder) + binary\n",
    "    num = num // 2\n",
    "\n",
    "print(\"입력한 수의 2진수 표현: \", binary)\n"
   ]
  },
  {
   "cell_type": "code",
   "execution_count": 2,
   "metadata": {},
   "outputs": [
    {
     "name": "stdout",
     "output_type": "stream",
     "text": [
      "입력한 값들의 합:  19\n"
     ]
    }
   ],
   "source": [
    "sum = 0\n",
    "while True:\n",
    "    num = int(input(\"숫자를 입력하세요: \"))\n",
    "    if num == 0:\n",
    "        break\n",
    "    sum += num\n",
    "print(\"입력한 값들의 합: \", sum)"
   ]
  },
  {
   "cell_type": "code",
   "execution_count": 3,
   "metadata": {},
   "outputs": [
    {
     "name": "stdout",
     "output_type": "stream",
     "text": [
      "apple\n",
      "banana\n",
      "cherry\n"
     ]
    }
   ],
   "source": [
    "fruits = [\"apple\", \"banana\", \"cherry\"]\n",
    "\n",
    "for fruit in fruits:\n",
    "    print(fruit)\n"
   ]
  },
  {
   "cell_type": "code",
   "execution_count": 4,
   "metadata": {},
   "outputs": [
    {
     "name": "stdout",
     "output_type": "stream",
     "text": [
      "15\n"
     ]
    }
   ],
   "source": [
    "numbers = [1, 2, 3, 4, 5]\n",
    "sum = 0\n",
    "for num in numbers:\n",
    "    sum += num\n",
    "print(sum)"
   ]
  },
  {
   "cell_type": "code",
   "execution_count": 6,
   "metadata": {},
   "outputs": [
    {
     "name": "stdout",
     "output_type": "stream",
     "text": [
      "red\n",
      "green\n",
      "blue\n"
     ]
    }
   ],
   "source": [
    "colors = (\"red\", \"green\", \"blue\")\n",
    "\n",
    "for color in colors:\n",
    "    print(color)\n"
   ]
  },
  {
   "cell_type": "code",
   "execution_count": 5,
   "metadata": {},
   "outputs": [
    {
     "name": "stdout",
     "output_type": "stream",
     "text": [
      "P\n",
      "y\n",
      "t\n",
      "h\n",
      "o\n",
      "n\n"
     ]
    }
   ],
   "source": [
    "text = \"Python\"\n",
    "\n",
    "for char in text:\n",
    "    print(char)\n"
   ]
  },
  {
   "cell_type": "code",
   "execution_count": 7,
   "metadata": {},
   "outputs": [
    {
     "name": "stdout",
     "output_type": "stream",
     "text": [
      "1\n",
      "2\n",
      "3\n",
      "4\n",
      "5\n",
      "6\n",
      "7\n",
      "8\n",
      "9\n",
      "10\n"
     ]
    }
   ],
   "source": [
    "#1부터 10까지 숫자 출력\n",
    "for i in range(1, 11):\n",
    "    print(i)\n"
   ]
  },
  {
   "cell_type": "code",
   "execution_count": 8,
   "metadata": {},
   "outputs": [
    {
     "name": "stdout",
     "output_type": "stream",
     "text": [
      "2\n",
      "4\n",
      "6\n",
      "8\n",
      "10\n"
     ]
    }
   ],
   "source": [
    "#1부터 10까지의 숫자 중 짝수만 출력하기\n",
    "\n",
    "\n",
    "for i in range(2, 11, 2):\n",
    "    print(i)\n"
   ]
  },
  {
   "cell_type": "code",
   "execution_count": null,
   "metadata": {},
   "outputs": [],
   "source": [
    "#10부터 1까지 거꾸로 출력하기\n",
    "\n",
    "for i in range(10, 0, -1):\n",
    "    print(i)\n"
   ]
  },
  {
   "attachments": {},
   "cell_type": "markdown",
   "metadata": {},
   "source": [
    "정수 시퀀스를 생성하는 Python의 내장 함수\n",
    "일반적으로 for 루프에서 사용하여 특정 횟수만큼 반복하는 데 사용\n",
    "\n",
    "range(start, stop, step)\n",
    "\n",
    "매개변수\n",
    "start: 정수 시퀀스의 시작 값을 나타내는 매개변수. 생략하면 0으로 간주됩니다.\n",
    "stop: 정수 시퀀스의 끝 값을 나타내는 매개변수. 이 값은 생성되는 시퀀스에 포함되지 않습니다.\n",
    "step: 정수 시퀀스의 간격을 나타내는 매개변수. 생략하면 기본값 1이 사용됩니다.\n",
    "\n",
    "range() 함수는 range 객체를 반환하며, 이 객체는 필요한 경우 list() 또는 tuple() 함수를 사용하여 명시적으로 리스트 또는 튜플로 변환될 수 있습니다.\n"
   ]
  },
  {
   "cell_type": "code",
   "execution_count": 12,
   "metadata": {},
   "outputs": [
    {
     "data": {
      "text/plain": [
       "range"
      ]
     },
     "execution_count": 12,
     "metadata": {},
     "output_type": "execute_result"
    }
   ],
   "source": [
    "type(range(1,10)) #타입 뭔지 찍어보기"
   ]
  },
  {
   "cell_type": "code",
   "execution_count": 13,
   "metadata": {},
   "outputs": [
    {
     "data": {
      "text/plain": [
       "list"
      ]
     },
     "execution_count": 13,
     "metadata": {},
     "output_type": "execute_result"
    }
   ],
   "source": [
    "type([1,2,3,4])  #타입 뭔지 찍어보기"
   ]
  },
  {
   "cell_type": "code",
   "execution_count": 11,
   "metadata": {},
   "outputs": [
    {
     "data": {
      "text/plain": [
       "[1, 2, 3, 4, 5, 6, 7, 8, 9]"
      ]
     },
     "execution_count": 11,
     "metadata": {},
     "output_type": "execute_result"
    }
   ],
   "source": [
    "list(range(1,10)) #리스트 만들기"
   ]
  },
  {
   "cell_type": "code",
   "execution_count": 15,
   "metadata": {},
   "outputs": [
    {
     "name": "stdout",
     "output_type": "stream",
     "text": [
      "0\n",
      "1\n",
      "2\n",
      "3\n",
      "4\n",
      "-------------------\n",
      "2\n",
      "4\n",
      "6\n",
      "8\n",
      "-------------------\n",
      "10\n",
      "9\n",
      "8\n",
      "7\n",
      "6\n",
      "5\n",
      "4\n",
      "3\n",
      "2\n",
      "1\n"
     ]
    }
   ],
   "source": [
    "# 0에서 4까지의 정수 시퀀스 생성\n",
    "for i in range(5):\n",
    "    print(i)\n",
    "\n",
    "print(\"-------------------\")\n",
    "# 2에서 8까지 2씩 증가하는 정수 시퀀스 생성\n",
    "for i in range(2, 9, 2):\n",
    "    print(i)\n",
    "print(\"-------------------\")\n",
    "# 10에서 1까지 1씩 감소하는 정수 시퀀스 생성\n",
    "for i in range(10, 0, -1):\n",
    "    print(i)\n"
   ]
  },
  {
   "cell_type": "code",
   "execution_count": 16,
   "metadata": {},
   "outputs": [
    {
     "name": "stdout",
     "output_type": "stream",
     "text": [
      "*\n",
      "**\n",
      "***\n",
      "****\n",
      "*****\n",
      "****\n",
      "***\n",
      "**\n",
      "*\n"
     ]
    }
   ],
   "source": [
    "for i in range(1, 6):\n",
    "    for j in range(1, i+1):\n",
    "        print(\"*\", end=\"\") #\n",
    "    print()\n",
    "\n",
    "for i in range(4, 0, -1):\n",
    "    for j in range(1, i+1):\n",
    "        print(\"*\", end=\"\")\n",
    "    print()\n"
   ]
  },
  {
   "cell_type": "code",
   "execution_count": 17,
   "metadata": {},
   "outputs": [
    {
     "name": "stdout",
     "output_type": "stream",
     "text": [
      "hello~~~\n"
     ]
    }
   ],
   "source": [
    "print(\"hello~~~\")"
   ]
  },
  {
   "cell_type": "code",
   "execution_count": null,
   "metadata": {},
   "outputs": [],
   "source": [
    "print(\"hello~~~\",end=\"\\n\") #이게 기본값이다. 위랑 동일"
   ]
  },
  {
   "cell_type": "code",
   "execution_count": null,
   "metadata": {},
   "outputs": [],
   "source": [
    "print(\"hello~~~\", end=\"\") #이러면 개행을 없애준거. 이러면 아래로 안띄우고 옆으로 출력"
   ]
  },
  {
   "cell_type": "code",
   "execution_count": 18,
   "metadata": {},
   "outputs": [
    {
     "name": "stdout",
     "output_type": "stream",
     "text": [
      "hello~~~hello~~~"
     ]
    }
   ],
   "source": [
    "print(\"hello~~~\", end=\"\")\n",
    "print(\"hello~~~\", end=\"\")"
   ]
  },
  {
   "cell_type": "code",
   "execution_count": null,
   "metadata": {},
   "outputs": [],
   "source": [
    "n = int(input(\"정수 입력하시오\"))\n",
    "nature = list(range(1,n))\n",
    "\n",
    "sum=0\n",
    "\n",
    "for i in nature: #확장 for 문 처럼 이용\n",
    "    if i%3 == 0 or i%5 == 0:\n",
    "        \n"
   ]
  },
  {
   "cell_type": "code",
   "execution_count": 20,
   "metadata": {},
   "outputs": [
    {
     "name": "stdout",
     "output_type": "stream",
     "text": [
      "1부터 10까지의 자연수 중에서 3과 5의 배수의 합:33\n"
     ]
    }
   ],
   "source": [
    "#교수님버전\n",
    "\n",
    "n=int(input(\"[3의 배수와 5의 배수의 합 구하기]\\n 양의 정수 n을 입력하세요.\"))\n",
    "\n",
    "sum=0\n",
    "\n",
    "for i in range(i,n+1):\n",
    "    if i%3 == 0 or i % 5 == 0:\n",
    "        sum+=i\n",
    "output = f\"1부터 {n}까지의 자연수 중에서 3과 5의 배수의 합:{sum}\"\n",
    "print(output)"
   ]
  },
  {
   "attachments": {},
   "cell_type": "markdown",
   "metadata": {},
   "source": [
    "최댓값과 최솟값 찾기\n",
    "사용자로부터 5개의 정수형 숫자를 입력받아, 입력받은 숫자들 중에서 최댓값과 최솟값을 찾고, 이를 출력하는 프로그램을 작성하세요.\n",
    "입력받은 숫자는 1 이상 100 이하의 자연수입니다.\n",
    "입력받은 숫자 중 중복된 숫자가 있을 수 있습니다."
   ]
  },
  {
   "cell_type": "code",
   "execution_count": 31,
   "metadata": {},
   "outputs": [
    {
     "name": "stdout",
     "output_type": "stream",
     "text": [
      "최대값 :5, 최소값 :1\n"
     ]
    }
   ],
   "source": [
    "max_num = 0\n",
    "min_num = 100\n",
    "\n",
    "i = 1\n",
    "while i <=5:\n",
    "    num = int(input(\"5개의 정수형 숫자 입력\"))\n",
    "    i+=1\n",
    "    \n",
    "    if num>max_num:\n",
    "        max_num = num\n",
    "        \n",
    "    if num<min_num:\n",
    "        min_num = num\n",
    "\n",
    "output = f\"최대값 :{max_num}, 최소값 :{min_num}\"        \n",
    "print(output)\n",
    "    \n",
    "    "
   ]
  },
  {
   "cell_type": "code",
   "execution_count": 29,
   "metadata": {},
   "outputs": [
    {
     "name": "stdout",
     "output_type": "stream",
     "text": [
      "최대값 :5, 최소값 :1\n"
     ]
    }
   ],
   "source": [
    "#교수님버전\n",
    "max_num = 0\n",
    "min_num = 100\n",
    "\n",
    "for i in range(5):\n",
    "    num = int(input(f\"{i+1}번째 숫자를 입력하세요\"))\n",
    "    \n",
    "    if num>max_num:\n",
    "        max_num = num\n",
    "        \n",
    "    if num<min_num:\n",
    "        min_num = num\n",
    "\n",
    "output = f\"최대값 :{max_num}, 최소값 :{min_num}\"        \n",
    "print(output)"
   ]
  },
  {
   "attachments": {},
   "cell_type": "markdown",
   "metadata": {},
   "source": [
    "숫자의 합이 100보다 작을 때까지 입력받기\n",
    "\n",
    "사용자로부터 정수형 숫자를 입력받아, 입력받은 숫자들의 합이 100보다 작을 때까지 숫자를 계속 입력받고, 입력받은 숫자들의 합을 출력하는 프로그램을 작성하세요.\n",
    "입력받은 숫자는 1 이상 100 이하의 자연수입니다.\n"
   ]
  },
  {
   "cell_type": "code",
   "execution_count": 34,
   "metadata": {},
   "outputs": [
    {
     "name": "stdout",
     "output_type": "stream",
     "text": [
      "입력받은 숫자들의 합: 132\n"
     ]
    }
   ],
   "source": [
    "sum = 0\n",
    "\n",
    "while sum<100:\n",
    "    num = int(input(\"숫자합이 100보다 작을때까지 입력받기\"))\n",
    "    sum +=num\n",
    "    \n",
    "output = f\"입력받은 숫자들의 합: {sum}\"        \n",
    "print(output)\n",
    "    \n",
    "\n"
   ]
  },
  {
   "attachments": {},
   "cell_type": "markdown",
   "metadata": {},
   "source": [
    "피보나치 수열의 n번째 항을 출력하는 프로그램\n",
    "피보나치 수열은 다음과 같이 정의됩니다: 첫 번째 항과 두 번째 항은 각각 1입니다. 세 번째 항부터는 바로 앞 두 항의 합입니다. 즉, 1, 1, 2, 3, 5, 8, 13, ... 과 같은 수열입니다.\n",
    "예를 들어, 사용자가 7을 입력했을 경우 다음과 같이 출력되어야 합니다."
   ]
  },
  {
   "cell_type": "code",
   "execution_count": 45,
   "metadata": {},
   "outputs": [
    {
     "name": "stdout",
     "output_type": "stream",
     "text": [
      "피보나치 수열의 7번째 항은 13 입니댜\n"
     ]
    }
   ],
   "source": [
    "#피보나치수열 n번째 항 구하기\n",
    "n=int(input(\"피보나치 n번째 항 출력\"))\n",
    "\n",
    "first = 1\n",
    "second = 1\n",
    "third = 0\n",
    "\n",
    "\n",
    "for i in range(1,n+1):   #n으로 하면 n-1까지 돈다.\n",
    "    \n",
    "    first = second    \n",
    "    second = third       \n",
    "    third = first + second \n",
    "    \n",
    "\n",
    "print(f\"피보나치 수열의 {n}번째 항은 {third} 입니댜\")    \n",
    "        \n"
   ]
  },
  {
   "cell_type": "code",
   "execution_count": 46,
   "metadata": {},
   "outputs": [
    {
     "name": "stdout",
     "output_type": "stream",
     "text": [
      "피보나치 수열의 7번째 항은 13입니다\n"
     ]
    }
   ],
   "source": [
    "#교수님버전\n",
    "n = int(input(\"[피보나치 수열]\\n\\n 몇 번째 항을 출력할까요? (1 이상의 양의 정수)\"))\n",
    "\n",
    "if n == 1 or n==2:\n",
    "    result = 1\n",
    "else:\n",
    "    a, b = 1,1\n",
    "    i = 3\n",
    "    while i<=n:\n",
    "        result = a + b\n",
    "        a = b\n",
    "        b = result\n",
    "        i += 1\n",
    "\n",
    "output=f\"피보나치 수열의 {n}번째 항은 {result}입니다\"\n",
    "print(output)"
   ]
  }
 ],
 "metadata": {
  "kernelspec": {
   "display_name": "Python 3",
   "language": "python",
   "name": "python3"
  },
  "language_info": {
   "codemirror_mode": {
    "name": "ipython",
    "version": 3
   },
   "file_extension": ".py",
   "mimetype": "text/x-python",
   "name": "python",
   "nbconvert_exporter": "python",
   "pygments_lexer": "ipython3",
   "version": "3.10.9"
  },
  "orig_nbformat": 4
 },
 "nbformat": 4,
 "nbformat_minor": 2
}
