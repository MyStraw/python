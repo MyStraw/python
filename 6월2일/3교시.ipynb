{
 "cells": [
  {
   "attachments": {},
   "cell_type": "markdown",
   "metadata": {},
   "source": [
    "# 제어문예제"
   ]
  },
  {
   "cell_type": "code",
   "execution_count": 10,
   "metadata": {},
   "outputs": [
    {
     "name": "stdout",
     "output_type": "stream",
     "text": [
      "ㅋㅋㅋㅋ 이것도 못맞추냐\n",
      "ㅋㅋㅋㅋ 이것도 못맞추냐\n",
      "ㅋㅋㅋㅋ 이것도 못맞추냐\n",
      "ㅋㅋㅋㅋ 이것도 못맞추냐\n",
      "오~\n",
      "난수는 5였습니다\n"
     ]
    }
   ],
   "source": [
    "#숫자 맞추기 게임 프로그램\n",
    "#1~100 사이의 난수를 만들고 사용자가 1~100 사이의 수를 입력하여 맞추는 프로그램. 5회까지 맞추지 못하면 종료\n",
    "\n",
    "import random\n",
    "\n",
    "rnd = random.randint(1,10)\n",
    "\n",
    "\n",
    "for i in range(0,5):\n",
    "    n = int(input(\"수 입력해보셈\"))\n",
    "    \n",
    "    if n==rnd:\n",
    "        print(\"오~\")\n",
    "        break\n",
    "    else:\n",
    "        print(\"ㅋㅋㅋㅋ 이것도 못맞추냐\")\n",
    "        \n",
    "print(f\"난수는 {rnd}였습니다\")"
   ]
  },
  {
   "cell_type": "code",
   "execution_count": null,
   "metadata": {},
   "outputs": [],
   "source": [
    "# 교수님\n",
    "\n",
    "import random\n",
    "secret_num = random.randint(1,100)\n",
    "num_guess = 0\n",
    "guess = 0\n",
    "\n",
    "while guess!=secret_num and num_guess<=4:\n",
    "    guess = int(input(\"수를 입력하세요.(1~100)\"))\n",
    "    num_guess +=1\n",
    "    if guess<secret_num:\n",
    "        print(f\"더큽니다. {5-num_guess}회 남았습니다.\")\n",
    "        \n",
    "    elif guess>secret_num:    "
   ]
  },
  {
   "attachments": {},
   "cell_type": "markdown",
   "metadata": {},
   "source": [
    "# 연습문제\n",
    "다음과 같은 게임 프로그램을 작성하라.\n",
    "플레이어가 처음에 $50을 가지고 있다. 동전을 한 번 던져서 앞면(1) 또는 뒷면(2)이 나온다. 맞추면 $9을 따고 틀리면 $10을 잃는다. 플레이어가 돈을 모두 잃거나 $100이 되면 게임이 종료된다.\n",
    "동전을 던져서 나오는 수는 다음 문장을 이용하라"
   ]
  },
  {
   "cell_type": "code",
   "execution_count": 42,
   "metadata": {},
   "outputs": [
    {
     "name": "stdout",
     "output_type": "stream",
     "text": [
      "내 지금 얼마 갖고있노 40\n",
      "내 지금 얼마 갖고있노 30\n",
      "내 지금 얼마 갖고있노 39\n",
      "내 지금 얼마 갖고있노 29\n",
      "내 지금 얼마 갖고있노 38\n",
      "내 지금 얼마 갖고있노 47\n",
      "내 지금 얼마 갖고있노 37\n",
      "내 지금 얼마 갖고있노 46\n",
      "내 지금 얼마 갖고있노 36\n",
      "내 지금 얼마 갖고있노 45\n",
      "내 지금 얼마 갖고있노 54\n",
      "내 지금 얼마 갖고있노 44\n",
      "내 지금 얼마 갖고있노 53\n",
      "내 지금 얼마 갖고있노 62\n",
      "내 지금 얼마 갖고있노 71\n",
      "내 지금 얼마 갖고있노 80\n",
      "내 지금 얼마 갖고있노 70\n",
      "내 지금 얼마 갖고있노 79\n",
      "내 지금 얼마 갖고있노 69\n",
      "내 지금 얼마 갖고있노 78\n",
      "내 지금 얼마 갖고있노 87\n",
      "내 지금 얼마 갖고있노 96\n",
      "내 지금 얼마 갖고있노 86\n",
      "내 지금 얼마 갖고있노 95\n",
      "내 지금 얼마 갖고있노 104\n",
      "내 지금 얼마 갖고있노 113\n",
      "내 지금 얼마 갖고있노 103\n",
      "내 지금 얼마 갖고있노 93\n",
      "내 지금 얼마 갖고있노 83\n",
      "내 지금 얼마 갖고있노 92\n",
      "내 지금 얼마 갖고있노 101\n",
      "내 지금 얼마 갖고있노 91\n",
      "내 지금 얼마 갖고있노 81\n",
      "내 지금 얼마 갖고있노 90\n",
      "내 지금 얼마 갖고있노 99\n",
      "내 지금 얼마 갖고있노 89\n",
      "내 지금 얼마 갖고있노 79\n",
      "내 지금 얼마 갖고있노 69\n",
      "내 지금 얼마 갖고있노 59\n",
      "내 지금 얼마 갖고있노 49\n",
      "내 지금 얼마 갖고있노 58\n",
      "내 지금 얼마 갖고있노 67\n",
      "내 지금 얼마 갖고있노 57\n",
      "내 지금 얼마 갖고있노 66\n",
      "내 지금 얼마 갖고있노 75\n",
      "내 지금 얼마 갖고있노 84\n",
      "내 지금 얼마 갖고있노 74\n",
      "내 지금 얼마 갖고있노 83\n",
      "내 지금 얼마 갖고있노 92\n",
      "내 지금 얼마 갖고있노 101\n",
      "내 지금 얼마 갖고있노 110\n",
      "내 지금 얼마 갖고있노 119\n",
      "내 지금 얼마 갖고있노 109\n",
      "내 지금 얼마 갖고있노 118\n",
      "내 지금 얼마 갖고있노 108\n",
      "내 지금 얼마 갖고있노 117\n",
      "내 지금 얼마 갖고있노 107\n",
      "내 지금 얼마 갖고있노 97\n",
      "내 지금 얼마 갖고있노 87\n",
      "내 지금 얼마 갖고있노 96\n",
      "내 지금 얼마 갖고있노 105\n",
      "내 지금 얼마 갖고있노 114\n",
      "내 지금 얼마 갖고있노 104\n",
      "내 지금 얼마 갖고있노 113\n",
      "내 지금 얼마 갖고있노 122\n",
      "내 지금 얼마 갖고있노 131\n",
      "내 지금 얼마 갖고있노 121\n",
      "내 지금 얼마 갖고있노 130\n",
      "내 지금 얼마 갖고있노 139\n",
      "내 지금 얼마 갖고있노 148\n",
      "내 지금 얼마 갖고있노 138\n",
      "내 지금 얼마 갖고있노 128\n",
      "내 지금 얼마 갖고있노 118\n",
      "내 지금 얼마 갖고있노 108\n",
      "내 지금 얼마 갖고있노 117\n",
      "내 지금 얼마 갖고있노 107\n",
      "내 지금 얼마 갖고있노 116\n",
      "내 지금 얼마 갖고있노 125\n",
      "내 지금 얼마 갖고있노 134\n",
      "내 지금 얼마 갖고있노 143\n",
      "내 지금 얼마 갖고있노 152\n",
      "내 지금 얼마 갖고있노 161\n",
      "내 지금 얼마 갖고있노 170\n",
      "내 지금 얼마 갖고있노 179\n",
      "내 지금 얼마 갖고있노 188\n",
      "내 지금 얼마 갖고있노 197\n",
      "내 지금 얼마 갖고있노 187\n",
      "내 지금 얼마 갖고있노 196\n",
      "내 지금 얼마 갖고있노 205\n",
      "내 지금 얼마 갖고있노 195\n",
      "내 지금 얼마 갖고있노 185\n",
      "내 지금 얼마 갖고있노 175\n",
      "내 지금 얼마 갖고있노 184\n",
      "내 지금 얼마 갖고있노 174\n",
      "내 지금 얼마 갖고있노 164\n",
      "내 지금 얼마 갖고있노 154\n",
      "내 지금 얼마 갖고있노 144\n",
      "내 지금 얼마 갖고있노 153\n",
      "내 지금 얼마 갖고있노 143\n",
      "내 지금 얼마 갖고있노 152\n",
      "내 지금 얼마 갖고있노 142\n",
      "내 지금 얼마 갖고있노 132\n",
      "내 지금 얼마 갖고있노 122\n",
      "내 지금 얼마 갖고있노 112\n",
      "내 지금 얼마 갖고있노 102\n",
      "내 지금 얼마 갖고있노 92\n",
      "내 지금 얼마 갖고있노 101\n",
      "내 지금 얼마 갖고있노 110\n",
      "내 지금 얼마 갖고있노 100\n",
      "오~ 도박탈출\n"
     ]
    }
   ],
   "source": [
    "from random import randint\n",
    "\n",
    "#1 또는 2를 임의로 발생\n",
    "player_have = 50\n",
    "\n",
    "\n",
    "\n",
    "\n",
    "\n",
    "while True:\n",
    "    coin = randint(1,2)\n",
    "    guess = int(input(\"앞면 혹은 뒷면 골라봐\"))\n",
    "\n",
    "    if coin == guess:\n",
    "        player_have = player_have + 9 \n",
    "        \n",
    "        \n",
    "    elif coin != guess:\n",
    "        player_have = player_have - 10    \n",
    "    print(f\"내 지금 얼마 갖고있노 {player_have}\") #오~ 밖으로 빼기\n",
    "         \n",
    "    if player_have == 100:\n",
    "        print(\"오~ 도박탈출\")\n",
    "        break\n",
    "    \n",
    "    elif player_have <=0:\n",
    "        print(\"파산\")\n",
    "        break            "
   ]
  },
  {
   "attachments": {},
   "cell_type": "markdown",
   "metadata": {},
   "source": [
    "# 최대공약수\n",
    "두 수의 최대 공약수는 두 수를 나누어 떨어지는 가장 큰 수이다. 예를 들어 (16, 24)의 최대 공약수는 8이다. 두 수를 입력 받아 다음 알고리즘에 의해 최대 공약수를 구하는 프로그램을 작성하라.\n",
    "\n",
    "큰 수를 작은 수로 나눈 나머지를 구하라\n",
    "\n",
    "큰 수를 작은 수로 대체하고 작은 수는 나머지로 대체하라\n",
    "\n",
    "작은 수가 0이 될 때까지 이 과정을 반목하라. 마지막 큰 수가 최대 공약수이다.\n"
   ]
  },
  {
   "cell_type": "code",
   "execution_count": 47,
   "metadata": {},
   "outputs": [
    {
     "name": "stdout",
     "output_type": "stream",
     "text": [
      "최대공약수 8\n"
     ]
    }
   ],
   "source": [
    "num1 = int(input(\"수 입력하셈\"))\n",
    "num2 = int(input(\"수 입력하셈\"))\n",
    "remainder = 0\n",
    "\n",
    "\n",
    "if num1>num2:\n",
    "    while num2 !=0:\n",
    "        remainder = num1%num2\n",
    "        num1=num2\n",
    "        num2=remainder\n",
    "        if num2 == 0:            \n",
    "            print(f\"최대공약수 {num1}\")\n",
    "elif num1<num2:\n",
    "    while num1 !=0:\n",
    "        remainder = num2%num1\n",
    "        num2=num1\n",
    "        num1=remainder        \n",
    "        \n",
    "    print(f\"최대공약수 {num2}\")"
   ]
  },
  {
   "cell_type": "code",
   "execution_count": 58,
   "metadata": {},
   "outputs": [
    {
     "name": "stdout",
     "output_type": "stream",
     "text": [
      "1, 2, 3, 4, 6, 12\n"
     ]
    }
   ],
   "source": [
    "#1번문제\n",
    "\n",
    "num = int(input(\"정수입력하셈\"))\n",
    "\n",
    "for i in range(1, num):\n",
    "    if num%i == 0:\n",
    "        print(i,end=\", \")        \n",
    "print(num)"
   ]
  },
  {
   "cell_type": "code",
   "execution_count": 59,
   "metadata": {},
   "outputs": [
    {
     "name": "stdout",
     "output_type": "stream",
     "text": [
      "1 2 3 4 6 12 "
     ]
    }
   ],
   "source": [
    "num = int(input(\"정수입력하셈\"))\n",
    "\n",
    "for i in range(1, num+1):\n",
    "    if num%i == 0:\n",
    "        print(i,end=\" \")        \n"
   ]
  },
  {
   "cell_type": "code",
   "execution_count": 62,
   "metadata": {},
   "outputs": [
    {
     "name": "stdout",
     "output_type": "stream",
     "text": [
      "D\n",
      "C\n",
      "점수에 음수가 어딨냐~\n"
     ]
    }
   ],
   "source": [
    "grade = (\"A\", \"B\", \"C\", \"D\", \"F\")\n",
    "\n",
    "#[] 리스트 수정가능.\n",
    "#{} dictionary\n",
    "#() 튜플?? 수정 불가능.\n",
    "\n",
    "\n",
    "while True:\n",
    "    point = int(input(\"니 점수 입력하셈\"))\n",
    "    if point > 90:\n",
    "        print(grade[0])\n",
    "    elif point > 80:\n",
    "        print(grade[1])\n",
    "    elif point > 60:\n",
    "        print(grade[2])    \n",
    "    elif point > 40:\n",
    "        print(grade[3])\n",
    "    elif point <= 39 and point >= 0:\n",
    "        print(grade[4])        \n",
    "    elif point < 0:\n",
    "        print(\"점수에 음수가 어딨냐~\")\n",
    "        break    "
   ]
  },
  {
   "cell_type": "code",
   "execution_count": 64,
   "metadata": {},
   "outputs": [
    {
     "name": "stdout",
     "output_type": "stream",
     "text": [
      "2\n",
      "3\n",
      "4\n",
      "4\n",
      "5\n",
      "6\n",
      "6\n",
      "6\n",
      "7\n",
      "8\n",
      "8\n",
      "8\n",
      "9\n",
      "9\n",
      "10\n",
      "10\n",
      "10\n",
      "11\n",
      "12\n",
      "12\n",
      "12\n",
      "12\n",
      "12\n"
     ]
    }
   ],
   "source": [
    "from random import randint \n",
    "\n",
    "nature = int(input(\"자연수를 입력하세요\"))\n",
    "\n",
    "for i in range(2, nature+1):\n",
    "    for j in range(2, nature+1):\n",
    "        if i%j == 0:\n",
    "            print(i)\n",
    "        \n",
    "        \n",
    "    "
   ]
  }
 ],
 "metadata": {
  "kernelspec": {
   "display_name": "Python 3",
   "language": "python",
   "name": "python3"
  },
  "language_info": {
   "codemirror_mode": {
    "name": "ipython",
    "version": 3
   },
   "file_extension": ".py",
   "mimetype": "text/x-python",
   "name": "python",
   "nbconvert_exporter": "python",
   "pygments_lexer": "ipython3",
   "version": "3.10.9"
  },
  "orig_nbformat": 4
 },
 "nbformat": 4,
 "nbformat_minor": 2
}
