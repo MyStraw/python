{
 "cells": [
  {
   "cell_type": "code",
   "execution_count": null,
   "metadata": {},
   "outputs": [],
   "source": [
    "# 문자열 인덱싱 예제 1\n",
    "s = \"Hello, World!\"\n",
    "print(s[0])   # 'H'\n",
    "print(s[1])   # 'e'\n",
    "print(s[-1])  # '!'\n"
   ]
  },
  {
   "cell_type": "code",
   "execution_count": null,
   "metadata": {},
   "outputs": [],
   "source": [
    "# 문자열 인덱싱 예제 2\n",
    "s = \"Python is a fun programming language!\"\n",
    "print(s[7])  # 'i'\n",
    "print(s[11]) # 'f'\n",
    "print(s[-12]) # 'n'\n"
   ]
  },
  {
   "cell_type": "code",
   "execution_count": null,
   "metadata": {},
   "outputs": [],
   "source": [
    "# 문자열 인덱싱 예제 3\n",
    "s = \"ABCDEFG\"\n",
    "print(s[1:4]) # 'BCD'\n",
    "print(s[:3])  # 'ABC'\n",
    "print(s[3:])  # 'DEFG'\n"
   ]
  },
  {
   "attachments": {},
   "cell_type": "markdown",
   "metadata": {},
   "source": [
    "# 문자열 슬라이싱\n",
    "문자열 슬라이싱(slicing)은 문자열의 일부를 추출하는 기능을 제공합니다. 문자열의 시작 인덱스부터 끝 인덱스-1 까지의 부분 문자열을 추출할 수 있습니다.\n",
    "\n",
    "슬라이싱의 기본 문법은 다음과 같습니다:\n",
    "\n",
    "string[start:end:step]\n",
    "\n",
    "start는 시작 인덱스이며, end는 끝 인덱스입니다. step은 선택적이며, 추출하고자 하는 문자 사이의 간격을 나타냅니다. start, end, step은 모두 정수입니다. 만약 생략한다면, start는 0, end는 문자열의 길이, step은 1로 간주됩니다.\n"
   ]
  },
  {
   "cell_type": "code",
   "execution_count": 3,
   "metadata": {},
   "outputs": [
    {
     "name": "stdout",
     "output_type": "stream",
     "text": [
      "world\n",
      "hello\n",
      "hlowrd\n",
      "dlrow olleh\n"
     ]
    }
   ],
   "source": [
    "# String[start :  end : step]\n",
    "\n",
    "\n",
    "string = \"hello world\"\n",
    "substring = string[6: ]\n",
    "print(substring)  # \"world\"\n",
    "\n",
    "\n",
    "string = \"hello world\"\n",
    "substring = string[:5]\n",
    "print(substring)  # \"hello\"\n",
    "\n",
    "\n",
    "string = \"hello world\"\n",
    "substring = string[::2]\n",
    "print(substring)  # \"hlowrd\"\n",
    "\n",
    "\n",
    "string = \"hello world\"\n",
    "substring = string[::-1]\n",
    "print(substring)  # \"!dlrow ,olleH\""
   ]
  },
  {
   "cell_type": "code",
   "execution_count": 4,
   "metadata": {},
   "outputs": [
    {
     "name": "stdout",
     "output_type": "stream",
     "text": [
      "True\n",
      "False\n",
      "True\n",
      "True\n",
      "True\n",
      "True\n",
      "True\n",
      "True\n",
      "True\n",
      "True\n",
      "True\n",
      "True\n"
     ]
    }
   ],
   "source": [
    "# 문자열 구성 파악 메소드 예시\n",
    "print(\"hello123\".isalnum())  # True \n",
    "#isalnum(): 문자열이 알파벳과 숫자로만 이루어졌는지 여부를 반환합니다.\n",
    "\n",
    "\n",
    "print(\"123\".isalpha())  # False\n",
    "#isalpha(): 문자열이 알파벳으로만 이루어졌는지 여부를 반환합니다.\n",
    "\n",
    "print(\"123\".isdecimal())  # True\n",
    "#isdecimal(): 문자열이 10진수 숫자로만 이루어졌는지 여부를 반환합니다.\n",
    "\n",
    "print(\"123\".isdigit())  # True\n",
    "#isdigit(): 문자열이 숫자로만 이루어졌는지 여부를 반환합니다.\n",
    "\n",
    "\n",
    "\n",
    "print(\"hello\".isidentifier())  # True\n",
    "#isidentifier(): 문자열이 파이썬 식별자로 사용 가능한지 여부를 반환합니다.\n",
    "\n",
    "print(\"hello\".islower())  # True\n",
    "#islower(): 문자열이 소문자로만 이루어졌는지 여부를 반환합니다.\n",
    "\n",
    "\n",
    "print(\"123\".isnumeric())  # True\n",
    "#isnumeric(): 문자열이 숫자로만 이루어졌는지 여부를 반환합니다.\n",
    "\n",
    "\n",
    "print(\"Hello, World!\".isprintable())  # True\n",
    "#문자열이 출력 가능한지 여부를 반환합니다\n",
    "\n",
    "print(\"   \".isspace())  # True\n",
    "#문자열이 공백 문자로만 이루어졌는지 여부를 반환합니다.\n",
    "\n",
    "\n",
    "print(\"\\t\".isspace())  # True\n",
    "#문자열이 공백 문자로만 이루어졌는지 여부를 반환합니다.\n",
    "\n",
    "print(\"Hello, World!\".istitle())  # True\n",
    "#문자열이 제목 케이스로 이루어졌는지 여부를 반환합니다\n",
    "\n",
    "print(\"HELLO\".isupper())  # True\n",
    "#문자열이 대문자로만 이루어졌는지 여부를 반환합니다.\n"
   ]
  },
  {
   "cell_type": "code",
   "execution_count": null,
   "metadata": {},
   "outputs": [],
   "source": [
    "# 문자열 대소문자 변환 함수 예시\n",
    "print(\"hello, world!\".upper())  # \"HELLO, WORLD!\"\n",
    "#upper(): 문자열의 모든 알파벳을 대문자로 변환한 새로운 문자열을 반환합니다.\n",
    "\n",
    "\n",
    "print(\"HeLLo, wOrLd!\".lower())  # \"hello, world!\"\n",
    "#lower(): 문자열의 모든 알파벳을 소문자로 변환한 새로운 문자열을 반환합니다.\n",
    "\n",
    "print(\"hello, world!\".capitalize())  # \"Hello, world!\"\n",
    "#capitalize(): 문자열의 첫 문자를 대문자로, 나머지 문자를 소문자로 변환한 새로운 문자열을 반환합니다.\n",
    "\n",
    "print(\"hello, world!\".title())  # \"Hello, World!\"\n",
    "#title(): 문자열에서 단어의 첫 문자를 대문자로, 나머지 문자를 소문자로 변환한 새로운 문자열을 반환합니다.\n",
    "\n",
    "print(\"Hello, World!\".swapcase())  # \"hELLO, wORLD!\"\n",
    "#swapcase(): 문자열에서 대문자는 소문자로, 소문자는 대문자로 변환한 새로운 문자열을 반환합니다.\n"
   ]
  },
  {
   "cell_type": "code",
   "execution_count": null,
   "metadata": {},
   "outputs": [],
   "source": [
    "# 문자열 찾기 함수 예시\n",
    "s = \"hello, world!\"\n",
    "\n",
    "print(s.find(\"o\"))  # 4\n",
    "print(s.rfind(\"o\"))  # 8\n",
    "print(s.index(\"o\"))  # 4\n",
    "print(s.rindex(\"o\"))  # 8\n",
    "print(s.count(\"o\"))  # 2\n"
   ]
  },
  {
   "attachments": {},
   "cell_type": "markdown",
   "metadata": {},
   "source": [
    "# 연습문제\n",
    "- 사용자가 입력한 문자열에 대해 다음 물음에 답하라\n",
    "\n",
    "문자열의 문자수를 출력하라  \n",
    "문자열을 10번 반복한 문자열을 출력하라  \n",
    "문자열의 첫 번째 문자를 출력하라   \n",
    "문자열에서 처음 3문자를 출력하라  \n",
    "문자열에서 마지막 3문자를 출력하라   \n",
    "문자열의 문자를 거꾸로 출력하라  \n",
    "문자열에 7번째 문자가 있으면 출력하고 없으면 '문자가 없습니다'라는 메시지를 출력하라  \n",
    "문자열에서 첫 번째 문자와 마지막 문자를 제거한 문자열을 출력하라  \n",
    "문자를 모두 대문자로 변경하여 출력하라  \n",
    "문자를 모두 소문자로 변경하여 출력하라  \n",
    "문자열에서 'a'를 'e'로 대체하여 출력하라  "
   ]
  },
  {
   "cell_type": "code",
   "execution_count": 13,
   "metadata": {},
   "outputs": [
    {
     "name": "stdout",
     "output_type": "stream",
     "text": [
      "7\n",
      "fuckyoufuckyoufuckyoufuckyoufuckyoufuckyoufuckyoufuckyoufuckyoufuckyou\n",
      "f\n",
      "fuc\n",
      "uoykcuf\n",
      "u\n"
     ]
    }
   ],
   "source": [
    "moonja = str(input(\"문자열 입력해봐\"))\n",
    "\n",
    "#문자열의 문자수를 출력하라\n",
    "print(len(moonja))\n",
    "\n",
    "#문자열을 10번 반복한 문자열을 출력하라\n",
    "print(moonja*10)\n",
    "\n",
    "#문자열의 첫 번째 문자를 출력하라\n",
    "print(moonja[0])\n",
    "\n",
    "#문자열에서 처음 3문자를 출력하라  \n",
    "print(moonja[0:3])\n",
    "\n",
    "# 문자열에서 마지막 3문자를 출력하라   \n",
    "print(moonja[::-1])\n",
    "\n",
    "# 문자열의 문자를 거꾸로 출력하라  \n",
    "if len(moonja)>=7:\n",
    "    print(moonja[6])\n",
    "else:\n",
    "    print(\"문자가 없습니다.\")    \n",
    "\n",
    "# 문자열에 7번째 문자가 있으면 출력하고 없으면 '문자가 없습니다'라는 메시지를 출력하라  \n",
    "# 문자열에서 첫 번째 문자와 마지막 문자를 제거한 문자열을 출력하라  \n",
    "# 문자를 모두 대문자로 변경하여 출력하라  \n",
    "# 문자를 모두 소문자로 변경하여 출력하라  \n",
    "# 문자열에서 'a'를 'e'로 대체하여 출력하라"
   ]
  }
 ],
 "metadata": {
  "kernelspec": {
   "display_name": "Python 3",
   "language": "python",
   "name": "python3"
  },
  "language_info": {
   "codemirror_mode": {
    "name": "ipython",
    "version": 3
   },
   "file_extension": ".py",
   "mimetype": "text/x-python",
   "name": "python",
   "nbconvert_exporter": "python",
   "pygments_lexer": "ipython3",
   "version": "3.10.9"
  },
  "orig_nbformat": 4
 },
 "nbformat": 4,
 "nbformat_minor": 2
}
