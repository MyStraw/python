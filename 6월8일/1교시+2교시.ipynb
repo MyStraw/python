{
 "cells": [
  {
   "cell_type": "code",
   "execution_count": 1,
   "metadata": {},
   "outputs": [],
   "source": [
    "# 함수\n",
    "\n",
    "def add_numbers(a, b):\n",
    "    result = a + b\n",
    "    return result\n"
   ]
  },
  {
   "cell_type": "code",
   "execution_count": 2,
   "metadata": {},
   "outputs": [
    {
     "name": "stdout",
     "output_type": "stream",
     "text": [
      "**\n",
      "**\n",
      "**\n"
     ]
    }
   ],
   "source": [
    "def print_box(n,m):\n",
    "    for i in range(m):\n",
    "        for j in range(n):\n",
    "            print('*', end=\"\")\n",
    "        print()\n",
    "\n",
    "print_box(2,3)    "
   ]
  },
  {
   "cell_type": "code",
   "execution_count": 3,
   "metadata": {},
   "outputs": [
    {
     "data": {
      "text/plain": [
       "12"
      ]
     },
     "execution_count": 3,
     "metadata": {},
     "output_type": "execute_result"
    }
   ],
   "source": [
    "def digit_sum(n):\n",
    "    sum = 0\n",
    "    for digit in str(n):\n",
    "        sum += int(digit)\n",
    "    return sum\n",
    "\n",
    "digit_sum(345)"
   ]
  },
  {
   "cell_type": "code",
   "execution_count": 8,
   "metadata": {},
   "outputs": [
    {
     "data": {
      "text/plain": [
       "2"
      ]
     },
     "execution_count": 8,
     "metadata": {},
     "output_type": "execute_result"
    }
   ],
   "source": [
    "import math\n",
    "def str_comp(str1, str2):    \n",
    "    length = min(len(str1), len(str2))\n",
    "    for i in range(length):\n",
    "        if str1[i] != str2[i]:\n",
    "            if i !=0:\n",
    "                return i\n",
    "    return -1\n",
    "\n",
    "str_comp('abcf', 'abbd')"
   ]
  },
  {
   "cell_type": "code",
   "execution_count": 9,
   "metadata": {},
   "outputs": [
    {
     "data": {
      "text/plain": [
       "[2, 4, 7]"
      ]
     },
     "execution_count": 9,
     "metadata": {},
     "output_type": "execute_result"
    }
   ],
   "source": [
    "def find_char(s, c):\n",
    "    res = []\n",
    "    for i in range(len(s)):\n",
    "        if s[i]==c:\n",
    "            res.append(i)\n",
    "    return res\n",
    "\n",
    "find_char('aabcbcdb', 'b')        "
   ]
  },
  {
   "cell_type": "code",
   "execution_count": 11,
   "metadata": {},
   "outputs": [
    {
     "data": {
      "text/plain": [
       "5050"
      ]
     },
     "execution_count": 11,
     "metadata": {},
     "output_type": "execute_result"
    }
   ],
   "source": [
    "def sum_n(n):\n",
    "    if n==1:\n",
    "        return 1\n",
    "    else:\n",
    "        return n+sum_n(n-1)\n",
    "sum_n(100)    "
   ]
  },
  {
   "attachments": {},
   "cell_type": "markdown",
   "metadata": {},
   "source": [
    "내부함수// 6월 8일 시작"
   ]
  },
  {
   "cell_type": "code",
   "execution_count": 14,
   "metadata": {},
   "outputs": [],
   "source": [
    "def sum_numbers(*args):\n",
    "    result = 0\n",
    "    for arg in args:\n",
    "        result += arg\n",
    "    return result\n",
    "\n",
    "# 가변 인자를 사용하여 함수 호출\n",
    "result1 = sum_numbers(1, 2, 3, 4, 5)   # 15\n",
    "result2 = sum_numbers(1, 2, 3)         # 6\n",
    "result3 = sum_numbers(1, 2)            # 3"
   ]
  },
  {
   "cell_type": "code",
   "execution_count": 12,
   "metadata": {},
   "outputs": [
    {
     "name": "stdout",
     "output_type": "stream",
     "text": [
      "name: Alice\n",
      "age: 25\n",
      "country: USA\n"
     ]
    }
   ],
   "source": [
    "def print_info(**kwargs):\n",
    "    for key, value in kwargs.items():\n",
    "        print(f\"{key}: {value}\")\n",
    "\n",
    "# 가변 키워드 인자를 사용하여 함수 호출\n",
    "print_info(name='Alice', age=25, country='USA')\n",
    "# 출력 결과: \n",
    "# name: Alice\n",
    "# age: 25\n",
    "# country: USA"
   ]
  },
  {
   "cell_type": "code",
   "execution_count": 15,
   "metadata": {},
   "outputs": [
    {
     "name": "stdout",
     "output_type": "stream",
     "text": [
      "Hello, Alice!\n",
      "None\n"
     ]
    }
   ],
   "source": [
    "def print_greeting(name):\n",
    "    print(f\"Hello, {name}!\")\n",
    "\n",
    "# 함수 호출\n",
    "result = print_greeting(\"Alice\")   # 출력 결과: Hello, Alice!\n",
    "print(result)                      # 출력 결과: None\n"
   ]
  },
  {
   "cell_type": "code",
   "execution_count": 16,
   "metadata": {},
   "outputs": [
    {
     "name": "stdout",
     "output_type": "stream",
     "text": [
      "x in inner: inner\n",
      "x in outer: outer\n",
      "x in global: global\n"
     ]
    }
   ],
   "source": [
    "x = 'global'\n",
    "\n",
    "def outer():\n",
    "    x = 'outer'\n",
    "    \n",
    "    def inner():\n",
    "        x = 'inner'\n",
    "        print('x in inner:', x)\n",
    "    \n",
    "    inner()\n",
    "    print('x in outer:', x)\n",
    "\n",
    "outer()\n",
    "print('x in global:', x)\n"
   ]
  },
  {
   "cell_type": "code",
   "execution_count": 21,
   "metadata": {},
   "outputs": [
    {
     "name": "stdout",
     "output_type": "stream",
     "text": [
      "Alice 24\n",
      "Bob 32\n",
      "Charlie 28\n"
     ]
    }
   ],
   "source": [
    "names = ['Alice', 'Bob', 'Charlie']\n",
    "ages = [24, 32, 28]\n",
    "\n",
    "zip(names, ages)\n",
    "list(zip(names, ages))\n",
    "dict(list(zip(names, ages)))\n",
    "repr(dict(list(zip(names, ages))))\n",
    "eval(repr(dict(list(zip(names, ages)))))\n",
    "\n",
    "for name, age in zip(names, ages):\n",
    "    print(name, age)\n"
   ]
  },
  {
   "cell_type": "code",
   "execution_count": 29,
   "metadata": {},
   "outputs": [
    {
     "data": {
      "text/plain": [
       "{'Alice': 24, 'Bob': 32, 'Charlie': 28}"
      ]
     },
     "execution_count": 29,
     "metadata": {},
     "output_type": "execute_result"
    }
   ],
   "source": [
    "names = ['Alice', 'Bob', 'Charlie']\n",
    "ages = [24, 32, 28]\n",
    "\n",
    "zip(names, ages)\n",
    "list(zip(names, ages))\n",
    "dict(list(zip(names, ages)))\n",
    "repr(dict(list(zip(names, ages))))\n",
    "eval(repr(dict(list(zip(names, ages)))))"
   ]
  },
  {
   "attachments": {},
   "cell_type": "markdown",
   "metadata": {},
   "source": [
    "enumerate() 내장 함수를 이용하여 사용자가 입력한 문자열에서 'a' 문자의 위치를 모두 찾아 출력하는 프로그램을 작성하라.   \n",
    "'a'가 없으면 \"a가 없습니다'라는 메시지를 출력하라.\u000b\n"
   ]
  },
  {
   "cell_type": "code",
   "execution_count": 30,
   "metadata": {},
   "outputs": [
    {
     "name": "stdout",
     "output_type": "stream",
     "text": [
      "1\n",
      "3\n",
      "5\n"
     ]
    }
   ],
   "source": [
    "msg = input(\"메세지를 입력하셈\")\n",
    "flag = 0\n",
    "\n",
    "for i, ch in enumerate(msg): #시퀀스 자료형을 인자로 받아, 인덱스와 값을 튜플 형태로 변환하는 이터레이터(함수호출시 그다음 값을 반환)를 반환.\n",
    "    if ch == \"a\":\n",
    "        print(i)\n",
    "        flag = 1\n",
    "\n",
    "if flag == 0:\n",
    "    print(\"a가 없네\")"
   ]
  },
  {
   "cell_type": "code",
   "execution_count": null,
   "metadata": {},
   "outputs": [],
   "source": []
  },
  {
   "attachments": {},
   "cell_type": "markdown",
   "metadata": {},
   "source": [
    "두 수의 합(sum), 차(sub), 곱(mul), 나누기(div)를 수행하는 함수를 각각 정의하라.   \n",
    "딕셔너리를 이용하여 사용자가 '1'을 입력하면 sum()을 호출하고, '2'를 입력하면 sub(), '3'을 입력하면 mul(), '4'를 입력하면   \n",
    "div() 함수를 호출하여 두 수의 연산을 수행하는 프로그램을 작성하라.\n"
   ]
  },
  {
   "cell_type": "code",
   "execution_count": null,
   "metadata": {},
   "outputs": [],
   "source": []
  },
  {
   "cell_type": "code",
   "execution_count": 32,
   "metadata": {},
   "outputs": [
    {
     "name": "stdout",
     "output_type": "stream",
     "text": [
      "6\n"
     ]
    }
   ],
   "source": [
    "def sum(a, b):\n",
    "    return a+b\n",
    "def sub(a, b):\n",
    "    return a-b\n",
    "def mul(a, b):\n",
    "    return a*b\n",
    "def div(a, b):\n",
    "    return a/b\n",
    "\n",
    "table = {\"1\" : sum, \"2\" : sub, \"3\" : mul, \"4\" : div}\n",
    "op = input(\"하고싶은 연산을 입력하셈(1(+),2(-),3(*),4(/))\")\n",
    "func = table[op]\n",
    "print(func(2,3))"
   ]
  },
  {
   "attachments": {},
   "cell_type": "markdown",
   "metadata": {},
   "source": [
    "다음과 같이 구성되는 문자열을 구분 문자(&, =)로 분리하여 딕셔너리로 반환하는 함수 작성  \n",
    "예: 문자열 'led=on&motor=off&switch=off'이고 구분 문자가 '&', '='일 때 {'led':'on', 'motor':'off', 'switch':off'} 반환.  \n",
    "Hint: dict([['a','b'], ['c', 'd']])  {'a': 'b', 'c': 'd'}  \n"
   ]
  },
  {
   "cell_type": "code",
   "execution_count": null,
   "metadata": {},
   "outputs": [],
   "source": []
  },
  {
   "cell_type": "code",
   "execution_count": 35,
   "metadata": {},
   "outputs": [
    {
     "name": "stdout",
     "output_type": "stream",
     "text": [
      "[['led', 'on'], ['motor', 'off'], ['switch', 'off']]\n",
      "{'led': 'on', 'motor': 'off', 'switch': 'off'}\n"
     ]
    }
   ],
   "source": [
    "def query_parse(txt):\n",
    "    items = txt.split(\"&\")\n",
    "    print(items)\n",
    "    temp = []\n",
    "    for item in items:\n",
    "        temp.append(item.split(\"=\"))\n",
    "    \n",
    "    print(temp)    \n",
    "    \n",
    "    # for i in range(len(temp)):\n",
    "    #     if len(temp[i]) == 1:\n",
    "    #         temp[i].append('')\n",
    "            \n",
    "    return dict(temp)\n",
    "    \n",
    "\n",
    "text ='led=on&motor=off&switch=off'\n",
    "print(query_parse(text))"
   ]
  }
 ],
 "metadata": {
  "kernelspec": {
   "display_name": "Python 3",
   "language": "python",
   "name": "python3"
  },
  "language_info": {
   "codemirror_mode": {
    "name": "ipython",
    "version": 3
   },
   "file_extension": ".py",
   "mimetype": "text/x-python",
   "name": "python",
   "nbconvert_exporter": "python",
   "pygments_lexer": "ipython3",
   "version": "3.10.9"
  },
  "orig_nbformat": 4
 },
 "nbformat": 4,
 "nbformat_minor": 2
}
