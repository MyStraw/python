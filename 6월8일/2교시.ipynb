{
 "cells": [
  {
   "attachments": {},
   "cell_type": "markdown",
   "metadata": {},
   "source": [
    "클래스 = 아이폰 설계도  \n",
    "\n",
    "인스턴스 = 개인 아이폰    \n",
    "\n",
    "인스턴스 변수 = 개인 데이터   \n",
    "\n",
    "인스턴스 메서드 = 전화 걸기, 음악 틀기  \n",
    "\n",
    "클래스 변수 =  앱스토어(공통, 앱)  "
   ]
  }
 ],
 "metadata": {
  "language_info": {
   "name": "python"
  },
  "orig_nbformat": 4
 },
 "nbformat": 4,
 "nbformat_minor": 2
}
