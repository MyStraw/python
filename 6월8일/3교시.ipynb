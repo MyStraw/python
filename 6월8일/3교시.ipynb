{
 "cells": [
  {
   "cell_type": "code",
   "execution_count": 1,
   "metadata": {},
   "outputs": [
    {
     "name": "stdout",
     "output_type": "stream",
     "text": [
      "12\n",
      "14\n"
     ]
    }
   ],
   "source": [
    "class Rectangle:\n",
    "    def __init__(self, width, height):\n",
    "        self.width = width\n",
    "        self.height = height\n",
    "\n",
    "    def area(self):\n",
    "        return self.width * self.height\n",
    "\n",
    "    def perimeter(self):\n",
    "        return 2 * (self.width + self.height)\n",
    "\n",
    "# 인스턴스 생성\n",
    "rectangle1 = Rectangle(3, 4)\n",
    "\n",
    "# 인스턴스 메서드 호출\n",
    "print(rectangle1.area()) # 출력 결과: 12\n",
    "print(rectangle1.perimeter()) # 출력 결과: 14\n"
   ]
  },
  {
   "cell_type": "code",
   "execution_count": 2,
   "metadata": {},
   "outputs": [
    {
     "name": "stdout",
     "output_type": "stream",
     "text": [
      "0\n",
      "3\n",
      "2\n"
     ]
    }
   ],
   "source": [
    "class Bicycle:\n",
    "    # 생성자 메서드\n",
    "    def __init__(self, gear, speed):\n",
    "        self.gear = gear\n",
    "        self.speed = speed\n",
    "\n",
    "    # 인스턴스 메서드\n",
    "    def speed_up(self, increment):\n",
    "        self.speed += increment\n",
    "\n",
    "    def apply_brake(self, decrement):\n",
    "        self.speed -= decrement\n",
    "        \n",
    "# Bicycle 클래스를 이용하여 객체 생성\n",
    "my_bike = Bicycle(6, 0)\n",
    "print(my_bike.speed) # 출력 결과: 0\n",
    "\n",
    "# 인스턴스 메서드 호출\n",
    "my_bike.speed_up(3)\n",
    "print(my_bike.speed) # 출력 결과: 3\n",
    "\n",
    "my_bike.apply_brake(1)\n",
    "print(my_bike.speed) # 출력 결과: 2\n"
   ]
  },
  {
   "cell_type": "code",
   "execution_count": 3,
   "metadata": {},
   "outputs": [
    {
     "name": "stdout",
     "output_type": "stream",
     "text": [
      "5\n",
      "6\n"
     ]
    }
   ],
   "source": [
    "class Calculator:\n",
    "    # 클래스 변수\n",
    "    operator = '+'\n",
    "\n",
    "    # 클래스 메서드\n",
    "    @classmethod\n",
    "    def set_operator(cls, new_operator):\n",
    "        cls.operator = new_operator\n",
    "\n",
    "    # 인스턴스 메서드. 생성자 없어도 동작하네? object 클래스의 생성자 자동호출. 초기화 해줄거 없으면 굳이 해줄필요 x.\n",
    "    def calculate(self, num1, num2):\n",
    "        if Calculator.operator == '+':\n",
    "            return num1 + num2\n",
    "        elif Calculator.operator == '-':\n",
    "            return num1 - num2\n",
    "        elif Calculator.operator == '*':\n",
    "            return num1 * num2\n",
    "        elif Calculator.operator == '/':\n",
    "            return num1 / num2\n",
    "        \n",
    "# Calculator 클래스를 이용하여 객체 생성\n",
    "my_calculator = Calculator()\n",
    "print(my_calculator.calculate(2, 3)) # 출력 결과: 5\n",
    "\n",
    "# 클래스 메서드 호출\n",
    "Calculator.set_operator('*')\n",
    "print(my_calculator.calculate(2, 3)) # 출력 결과: 6\n"
   ]
  },
  {
   "cell_type": "code",
   "execution_count": 5,
   "metadata": {},
   "outputs": [
    {
     "data": {
      "text/plain": [
       "1272279"
      ]
     },
     "execution_count": 5,
     "metadata": {},
     "output_type": "execute_result"
    }
   ],
   "source": [
    "class Deposit:\n",
    "\n",
    "    def __init__(self, init, inter, n):\n",
    "        self.initial = init\n",
    "        self.interest = inter\n",
    "        self.n = n\n",
    "\n",
    "    def profit(self):\n",
    "        return int(self.initial * (1+self.interest)**self.n)\n",
    "\n",
    "\n",
    "deposit = Deposit(1000000, 0.035, 7)\n",
    "deposit.profit()"
   ]
  },
  {
   "cell_type": "code",
   "execution_count": null,
   "metadata": {},
   "outputs": [],
   "source": []
  },
  {
   "cell_type": "code",
   "execution_count": 9,
   "metadata": {},
   "outputs": [
    {
     "name": "stdout",
     "output_type": "stream",
     "text": [
      "Name : Kim age : 35\n",
      "Name : Lee age : 35\n",
      "My School is  High school\n"
     ]
    }
   ],
   "source": [
    "class People :\n",
    "    def __init__(self, age=0, name=None):\n",
    "        self.__age = age\n",
    "        self.__name = name\n",
    "\n",
    "    def introMe(self):\n",
    "        print(\"Name :\", self.__name, \"age :\", str(self.__age))\n",
    "        \n",
    "    def get_age(self):\n",
    "        return self.__age\n",
    "    def set_age(self, age):\n",
    "        if age>0:\n",
    "            self.__age = age\n",
    "        else:\n",
    "            print(\"잘못된 나이입니다\")    \n",
    "    \n",
    "    def get_name(self):\n",
    "        return self.__name\n",
    "    def set_name(self, name):        \n",
    "            self.__name = name\n",
    "                  \n",
    "        \n",
    "        \n",
    "\n",
    "class Teacher(People) :\n",
    "    def __init__(self, age=0, name=None, school=None) :\n",
    "        super().__init__(age, name)\n",
    "        self.school = school\n",
    "\n",
    "    def showSchool(self):\n",
    "        print(\"My School is \", self.school)\n",
    "        \n",
    "t=Teacher(35, \"Kim\", \"High school\")\n",
    "t.introMe()\n",
    "t.set_name(\"Lee\")\n",
    "t.introMe()\n",
    "t.showSchool()\n",
    "        \n",
    "\n",
    "# 생성자 = 초기화. 객체 초기값. 초기값을 여러개 이것저것 맘대로 주고싶으면 생성자 입맛에 맞는걸로 줘.\n",
    "# 생성자는 객체의 초기값을 한번만, 실행시 최초로 제일처음 한번만 실행되기 때문에\n",
    "# 실행되는 중간지점에 뭘 바꿀라면 게터세터로 바꿔주자\n"
   ]
  },
  {
   "cell_type": "code",
   "execution_count": 10,
   "metadata": {},
   "outputs": [
    {
     "name": "stdout",
     "output_type": "stream",
     "text": [
      "동양\n",
      "65\n",
      "2019\n"
     ]
    }
   ],
   "source": [
    "class Person:\n",
    "    def __init__(self, name, age): \n",
    "        self.name = name \n",
    "        self.age = age \n",
    "\n",
    "    def getName(self): \n",
    "        #print(self.name) \n",
    "        return self.name\n",
    "    \n",
    "    def getAge(self): \n",
    "        #print(self.age) \n",
    "        return self.age\n",
    "class Employee(Person):\n",
    "    def __init__(self, name, age, employeeID):\n",
    "        super().__init__(name,age)\n",
    "        self.employeeID=employeeID\n",
    "    \n",
    "    def getID(self):    \n",
    "        return self.employeeID\n",
    "\n",
    "e=Employee(\"동양\", 65, 2019)\n",
    "print(e.getName())\n",
    "print(e.getAge())\n",
    "print(e.getID())"
   ]
  },
  {
   "cell_type": "code",
   "execution_count": 12,
   "metadata": {},
   "outputs": [
    {
     "name": "stdout",
     "output_type": "stream",
     "text": [
      "Bob attacks with a normal attack.\n",
      "Conan attacks with a mighty swing.\n",
      "Conan smashes the ground with a powerful blow.\n",
      "Merlin casts a magic missile.\n",
      "Merlin teleports to a nearby location.\n"
     ]
    }
   ],
   "source": [
    "class Character:\n",
    "    def __init__(self, name, level, health):\n",
    "        self.name = name\n",
    "        self.level = level\n",
    "        self.health = health\n",
    "    \n",
    "    def attack(self):\n",
    "        print(f\"{self.name} attacks with a normal attack.\")\n",
    "\n",
    "class Warrior(Character):\n",
    "    def __init__(self, name, level, health, strength):\n",
    "        super().__init__(name, level, health)\n",
    "        self.strength = strength\n",
    "    \n",
    "    def attack(self):\n",
    "        print(f\"{self.name} attacks with a mighty swing.\")\n",
    "    \n",
    "    def smash(self):\n",
    "        print(f\"{self.name} smashes the ground with a powerful blow.\")\n",
    "\n",
    "class Mage(Character):\n",
    "    def __init__(self, name, level, health, magic):\n",
    "        super().__init__(name, level, health)\n",
    "        self.magic = magic\n",
    "    \n",
    "    def attack(self):\n",
    "        print(f\"{self.name} casts a magic missile.\")\n",
    "    \n",
    "    def teleport(self):\n",
    "        print(f\"{self.name} teleports to a nearby location.\")\n",
    "\n",
    "\n",
    "c = Character(\"Bob\", 10, 100)\n",
    "c.attack()  # Bob attacks with a normal attack.\n",
    "\n",
    "w = Warrior(\"Conan\", 20, 200, 15)\n",
    "w.attack()  # Conan attacks with a mighty swing.\n",
    "w.smash()   # Conan smashes the ground with a powerful blow.\n",
    "\n",
    "m = Mage(\"Merlin\", 15, 150, 30)\n",
    "m.attack()  # Merlin casts a magic missile.\n",
    "m.teleport()  # Merlin teleports to a nearby location.\n"
   ]
  },
  {
   "attachments": {},
   "cell_type": "markdown",
   "metadata": {},
   "source": [
    "클래스 분리않고, 게임"
   ]
  },
  {
   "cell_type": "code",
   "execution_count": 13,
   "metadata": {},
   "outputs": [
    {
     "name": "stdout",
     "output_type": "stream",
     "text": [
      "Alice의 체력: 120\n",
      "Goblin의 체력: 60\n",
      "Alice이 Goblin을 공격하여 15의 데미지를 입혔습니다.\n",
      "Goblin이 Alice을 공격하여 8의 데미지를 입혔습니다.\n",
      "Alice의 체력: 112\n",
      "Goblin의 체력: 45\n",
      "Alice이 Goblin을 공격하여 15의 데미지를 입혔습니다.\n",
      "Goblin이 Alice을 공격하여 8의 데미지를 입혔습니다.\n",
      "Alice의 체력: 104\n",
      "Goblin의 체력: 30\n",
      "Alice이 Goblin을 공격하여 15의 데미지를 입혔습니다.\n",
      "Goblin이 Alice을 공격하여 8의 데미지를 입혔습니다.\n",
      "Alice의 체력: 96\n",
      "Goblin의 체력: 15\n",
      "Alice이 Goblin을 공격하여 15의 데미지를 입혔습니다.\n",
      "Goblin을 물리쳤습니다.\n"
     ]
    }
   ],
   "source": [
    "class Game:\n",
    "    def __init__(self, player_name, player_hp, player_attack, monster_name, monster_hp, monster_attack):\n",
    "        self.player_name = player_name\n",
    "        self.player_hp = player_hp\n",
    "        self.player_attack = player_attack\n",
    "        self.monster_name = monster_name\n",
    "        self.monster_hp = monster_hp\n",
    "        self.monster_attack = monster_attack\n",
    "\n",
    "    def fight(self):\n",
    "        while self.player_hp > 0 and self.monster_hp > 0:\n",
    "            print(f\"{self.player_name}의 체력: {self.player_hp}\")\n",
    "            print(f\"{self.monster_name}의 체력: {self.monster_hp}\")\n",
    "            self.monster_hp -= self.player_attack\n",
    "            print(f\"{self.player_name}이 {self.monster_name}을 공격하여 {self.player_attack}의 데미지를 입혔습니다.\")\n",
    "            if self.monster_hp <= 0:\n",
    "                print(f\"{self.monster_name}을 물리쳤습니다.\")\n",
    "                break\n",
    "            self.player_hp -= self.monster_attack\n",
    "            print(f\"{self.monster_name}이 {self.player_name}을 공격하여 {self.monster_attack}의 데미지를 입혔습니다.\")\n",
    "            if self.player_hp <= 0:\n",
    "                print(f\"{self.player_name}이 죽었습니다.\")\n",
    "                break\n",
    "game = Game(\"Alice\",120,15, \"Goblin\", 60, 8)\n",
    "game.fight()\n"
   ]
  },
  {
   "attachments": {},
   "cell_type": "markdown",
   "metadata": {},
   "source": [
    "클래스 분리"
   ]
  },
  {
   "cell_type": "code",
   "execution_count": 14,
   "metadata": {},
   "outputs": [
    {
     "name": "stdout",
     "output_type": "stream",
     "text": [
      "Alice이(가) Goblin을(를) 공격했습니다.\n",
      "Goblin의 체력이 40 남았습니다.\n",
      "Goblin이(가) Alice을(를) 공격했습니다.\n",
      "Alice의 체력이 95 남았습니다.\n",
      "Alice이(가) Goblin을(를) 공격했습니다.\n",
      "Goblin의 체력이 30 남았습니다.\n",
      "Goblin이(가) Alice을(를) 공격했습니다.\n",
      "Alice의 체력이 90 남았습니다.\n",
      "Alice이(가) Goblin을(를) 공격했습니다.\n",
      "Goblin의 체력이 20 남았습니다.\n",
      "Goblin이(가) Alice을(를) 공격했습니다.\n",
      "Alice의 체력이 85 남았습니다.\n",
      "Alice이(가) Goblin을(를) 공격했습니다.\n",
      "Goblin의 체력이 10 남았습니다.\n",
      "Goblin이(가) Alice을(를) 공격했습니다.\n",
      "Alice의 체력이 80 남았습니다.\n",
      "Alice이(가) Goblin을(를) 공격했습니다.\n",
      "Goblin이(가) 죽었습니다.\n"
     ]
    }
   ],
   "source": [
    "class Player:\n",
    "    def __init__(self, name, hp, attack):\n",
    "        self.name = name\n",
    "        self.hp = hp\n",
    "        self.attack = attack\n",
    "\n",
    "    def attack_monster(self, monster):\n",
    "        print(f\"{self.name}이(가) {monster.name}을(를) 공격했습니다.\")\n",
    "        damage = self.attack\n",
    "        monster.defend(damage)\n",
    "\n",
    "    def defend(self, damage):\n",
    "        self.hp -= damage\n",
    "        if self.hp <= 0:\n",
    "            print(f\"{self.name}이(가) 죽었습니다.\")\n",
    "        else:\n",
    "            print(f\"{self.name}의 체력이 {self.hp} 남았습니다.\")\n",
    "\n",
    "class Monster:\n",
    "    def __init__(self, name, hp, attack):\n",
    "        self.name = name\n",
    "        self.hp = hp\n",
    "        self.attack = attack\n",
    "\n",
    "    def attack_player(self, player):\n",
    "        print(f\"{self.name}이(가) {player.name}을(를) 공격했습니다.\")\n",
    "        damage = self.attack\n",
    "        player.defend(damage)\n",
    "\n",
    "    def defend(self, damage):\n",
    "        self.hp -= damage\n",
    "        if self.hp <= 0:\n",
    "            print(f\"{self.name}이(가) 죽었습니다.\")\n",
    "        else:\n",
    "            print(f\"{self.name}의 체력이 {self.hp} 남았습니다.\")\n",
    "\n",
    "class Game:\n",
    "    def __init__(self):\n",
    "        self.player = None\n",
    "        self.monster = None\n",
    "\n",
    "    def create_player(self, name, hp, attack):\n",
    "        self.player = Player(name, hp, attack)\n",
    "\n",
    "    def create_monster(self, name, hp, attack):\n",
    "        self.monster = Monster(name, hp, attack)\n",
    "\n",
    "    def fight(self):\n",
    "        while self.player.hp > 0 and self.monster.hp > 0:\n",
    "            self.player.attack_monster(self.monster)\n",
    "            if self.monster.hp <= 0:\n",
    "                break\n",
    "            self.monster.attack_player(self.player)\n",
    "            if self.player.hp <= 0:\n",
    "                break\n",
    "\n",
    "game = Game()\n",
    "game.create_player(\"Alice\", 100, 10)\n",
    "game.create_monster(\"Goblin\", 50, 5)\n",
    "game.fight()\n"
   ]
  },
  {
   "cell_type": "code",
   "execution_count": 15,
   "metadata": {},
   "outputs": [
    {
     "name": "stdout",
     "output_type": "stream",
     "text": [
      "멍멍!\n",
      "야옹!\n"
     ]
    }
   ],
   "source": [
    "class 동물:\n",
    "    def 소리내기(self):\n",
    "        print(\"동물이 소리를 냅니다.\")\n",
    "\n",
    "class 개(동물):\n",
    "    def 소리내기(self):\n",
    "        print(\"멍멍!\")\n",
    "\n",
    "class 고양이(동물):\n",
    "    def 소리내기(self):\n",
    "        print(\"야옹!\")\n",
    "\n",
    "def 동물소리내기(동물_인스턴스):\n",
    "    동물_인스턴스.소리내기()\n",
    "\n",
    "개_인스턴스 = 개()\n",
    "고양이_인스턴스 = 고양이()\n",
    "\n",
    "동물소리내기(개_인스턴스)   # 결과: 멍멍!\n",
    "동물소리내기(고양이_인스턴스) # 결과: 야옹!\n"
   ]
  },
  {
   "cell_type": "code",
   "execution_count": 39,
   "metadata": {},
   "outputs": [
    {
     "name": "stdout",
     "output_type": "stream",
     "text": [
      "홍길동 학생추가\n",
      "김철수 학생추가\n",
      "이영희 학생추가\n",
      "20230002번의 김철수학생이 삭제되었습니다.\n",
      "학번 20230001는 홍길동학생입니다.\n",
      "<모든 학생 정보>\n",
      "이름:홍길동, 학번:20230001, 학년:2, 전공:컴퓨터공학, 평점:90.5\n",
      "이름:홍길동, 학번:20230001, 학년:2, 전공:컴퓨터공학, 평점:90.5\n",
      "이름:이영희, 학번:20230003, 학년:1, 전공:수학, 평점:92.8\n",
      "이름:이영희, 학번:20230003, 학년:1, 전공:수학, 평점:92.8\n"
     ]
    }
   ],
   "source": [
    "class Student:\n",
    "    def __init__(self, name, student_id, year, major, avg_score): #각 학생별 초기값 설정\n",
    "        self.name = name\n",
    "        self.student_id = student_id\n",
    "        self.year = year\n",
    "        self.major = major\n",
    "        self.avg_score = avg_score\n",
    "        \n",
    "    def getInfo(self): #학생의 정보를 문자열로 만들어 반환\n",
    "        return f\"이름:{self.name}, 학번:{self.student_id}, 학년:{self.year}, 전공:{self.major}, 평점:{self.avg_score}\"\n",
    "    \n",
    "class StudentManager:\n",
    "    def __init__(self):\n",
    "        self.student_list = []        \n",
    "    \n",
    "    def add_student(self, student): #매개변수로 입력되는 Student 인스턴스를 student_list에 추가\n",
    "        print(f\"{student.name} 학생추가\")\n",
    "        self.student_list.append(student)        \n",
    "    \n",
    "    def remove_student(self, student_id): #순차 탐색으로 student_list의 Student 인스턴스의 학번을 조회해서 학생을 찾고, 찾아지면 student_list에서 삭제\n",
    "        for student in self.student_list:\n",
    "            if student.student_id == student_id:\n",
    "                self.student_list.remove(student)\n",
    "                print(f\"{student_id}번의 {student.name}학생이 삭제되었습니다.\")\n",
    "                return\n",
    "        print(f\"{student_id}학번을 가진 학생이 존재하지 안습니다.\") \n",
    "        \n",
    "    def find_student(self, student_id): #순차 탐색으로 student_list에서 같은 학번의 Student 인스턴스를 찾기\n",
    "        for student in self.student_list:\n",
    "            if student.student_id == student_id:\n",
    "                print(f\"학번 {student_id}는 {student.name}학생입니다.\")\n",
    "                return\n",
    "        print(f\"{student_id}학번을 가진 학생이 존재하지 안습니다.\") \n",
    "    \n",
    "    def show_all_student(self): #Student_list내의 Student 인스턴스들의 get_Info를 통해 받아온 학생정보를 출력\n",
    "        print(\"<모든 학생 정보>\")\n",
    "        st = Student\n",
    "        for student in self.student_list:    \n",
    "            print(st.getInfo(student))\n",
    "            print(student.getInfo())\n",
    "\n",
    "student_manager = StudentManager()\n",
    "student1 = Student(\"홍길동\", \"20230001\", 2, \"컴퓨터공학\", 90.5)\n",
    "student2 = Student(\"김철수\", \"20230002\", 3, \"전자공학\", 85.2)\n",
    "student3 = Student(\"이영희\", \"20230003\", 1, \"수학\", 92.8)\n",
    "\n",
    "student_manager.add_student(student1)\n",
    "student_manager.add_student(student2)\n",
    "student_manager.add_student(student3)\n",
    "\n",
    "student_manager.remove_student(\"20230002\")\n",
    "\n",
    "student_manager.find_student(\"20230001\")\n",
    "\n",
    "student_manager.show_all_student()\n",
    "    \n",
    "    "
   ]
  }
 ],
 "metadata": {
  "kernelspec": {
   "display_name": "Python 3",
   "language": "python",
   "name": "python3"
  },
  "language_info": {
   "codemirror_mode": {
    "name": "ipython",
    "version": 3
   },
   "file_extension": ".py",
   "mimetype": "text/x-python",
   "name": "python",
   "nbconvert_exporter": "python",
   "pygments_lexer": "ipython3",
   "version": "3.10.9"
  },
  "orig_nbformat": 4
 },
 "nbformat": 4,
 "nbformat_minor": 2
}
