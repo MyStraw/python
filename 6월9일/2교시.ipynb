{
 "cells": [
  {
   "cell_type": "code",
   "execution_count": 6,
   "metadata": {},
   "outputs": [
    {
     "name": "stdout",
     "output_type": "stream",
     "text": [
      "This is an example file.\n",
      "We will use it to demonstrate file reading in Python.\n",
      "This is an example file.\n",
      "\n",
      "['We will use it to demonstrate file reading in Python.']\n"
     ]
    }
   ],
   "source": [
    "file = open(\"example.txt\", \"r\")\n",
    "\n",
    "# 파일 내용 전체를 읽습니다.\n",
    "content = file.read()\n",
    "print(content)\n",
    "\n",
    "file.seek(0) #파일 포인터를 처음으로 돌린다.\n",
    "\n",
    "# 파일에서 한 줄을 읽습니다.\n",
    "line = file.readline()\n",
    "print(line)\n",
    "\n",
    "# 파일 전체를 읽고 각 줄을 리스트로 반환합니다.\n",
    "lines = file.readlines()\n",
    "print(lines)\n",
    "\n",
    "file.close()  # 파일을 닫습니다.\n"
   ]
  },
  {
   "cell_type": "code",
   "execution_count": 9,
   "metadata": {},
   "outputs": [],
   "source": [
    "file = open(\"example.txt\", \"w\")\n",
    "\n",
    "# 파일에 문자열을 씁니다. //기존꺼 지우고 싹다 다시 넣네\n",
    "file.write(\"Hello, world!\\n\") \n",
    "file.write(\"This is an example file.\\n\")\n",
    "\n",
    "# 파일에 문자열의 리스트를 씁니다.\n",
    "lines = [\"We will use it to demonstrate file writing in Python.\\n\",\n",
    "         \"We can write multiple lines at once.\\n\"]\n",
    "file.writelines(lines)\n",
    "\n",
    "file.close()  # 파일을 닫습니다.\n"
   ]
  },
  {
   "cell_type": "code",
   "execution_count": 12,
   "metadata": {},
   "outputs": [],
   "source": [
    "with open(\"example.txt\", \"w\") as file:\n",
    "\n",
    "# 파일에 문자열을 씁니다. //기존꺼 지우고 싹다 다시 넣네\n",
    "    file.write(\"Hello, world!\\n\") \n",
    "    file.write(\"This is an example file.\\n\")\n",
    "\n",
    "# 파일에 문자열의 리스트를 씁니다.\n",
    "    lines = [\"We will use it to demonstrate file writing in Python.\\n\",\n",
    "         \"We can write multiple lines at once.\\n\"]\n",
    "    file.writelines(lines)\n",
    "\n",
    "\n",
    "\n",
    "#with 구문으로 파일 열고 바로 닫기"
   ]
  },
  {
   "cell_type": "code",
   "execution_count": 13,
   "metadata": {},
   "outputs": [
    {
     "name": "stdout",
     "output_type": "stream",
     "text": [
      "읽기 모드 예시:\n",
      "Hello, world!\n",
      "This is an example file.\n",
      "We will use it to demonstrate file writing in Python.\n",
      "We can write multiple lines at once.\n",
      "\n",
      "쓰기 모드 예시:\n",
      "파일이 생성되었습니다.\n",
      "추가 모드 예시:\n",
      "파일이 열렸고 내용이 추가되었습니다.\n",
      "배타적 생성 모드 예시:\n",
      "새로운 파일이 생성되었습니다.\n",
      "이진 모드 예시:\n",
      "바이너리 파일이 생성되었습니다.\n",
      "읽기와 쓰기를 지원하는 모드 예시:\n",
      "파일 내용:\n",
      "This is an example.\n",
      "We are writing to a file.\n",
      "We are appending to a file.\n",
      "\n"
     ]
    }
   ],
   "source": [
    "#모드에 따른 파일 열기. 이 모드를 쓰면 이 행위만 가능\n",
    "\n",
    "# 읽기 모드로 파일을 엽니다.\n",
    "file = open(\"example.txt\", \"r\") #r이 읽기\n",
    "content = file.read()\n",
    "print(\"읽기 모드 예시:\")\n",
    "print(content)\n",
    "file.close()\n",
    "\n",
    "# 쓰기 모드로 파일을 엽니다.\n",
    "file = open(\"example.txt\", \"w\") #w 이 쓰기\n",
    "file.write(\"This is an example.\\n\")\n",
    "file.write(\"We are writing to a file.\\n\")\n",
    "print(\"쓰기 모드 예시:\")\n",
    "print(\"파일이 생성되었습니다.\")\n",
    "file.close()\n",
    "\n",
    "# 추가 모드로 파일을 엽니다.\n",
    "file = open(\"example.txt\", \"a\")\n",
    "file.write(\"We are appending to a file.\\n\")\n",
    "print(\"추가 모드 예시:\")\n",
    "print(\"파일이 열렸고 내용이 추가되었습니다.\")\n",
    "file.close()\n",
    "\n",
    "\n",
    "\n",
    "# 배타적 생성 모드로 파일을 엽니다. 새로운 파일을 생성. 이미 존재하면 오류\n",
    "file = open(\"example2.txt\", \"x\")\n",
    "file.write(\"This is a new file.\\n\")\n",
    "print(\"배타적 생성 모드 예시:\")\n",
    "print(\"새로운 파일이 생성되었습니다.\")\n",
    "file.close()\n",
    "\n",
    "# 이진 모드로 파일을 엽니다.\n",
    "file = open(\"example.bin\", \"wb\")\n",
    "file.write(b\"This is binary data.\")\n",
    "print(\"이진 모드 예시:\")\n",
    "print(\"바이너리 파일이 생성되었습니다.\")\n",
    "file.close()\n",
    "\n",
    "# 읽기와 쓰기를 지원하는 모드로 파일을 엽니다.\n",
    "file = open(\"example.txt\", \"r+\")\n",
    "content = file.read()\n",
    "print(\"읽기와 쓰기를 지원하는 모드 예시:\")\n",
    "print(\"파일 내용:\")\n",
    "print(content)\n",
    "file.write(\"\\nWe are writing to the file again.\")\n",
    "file.close()\n",
    "\n"
   ]
  },
  {
   "cell_type": "code",
   "execution_count": null,
   "metadata": {},
   "outputs": [],
   "source": [
    "#다양한 파일 읽기 함수\n",
    "\n",
    "with open(\"example.txt\", \"r\") as file:\n",
    "    # 파일 내용 전체를 읽습니다.\n",
    "    content = file.read()\n",
    "    print(\"read() 함수 예시:\")\n",
    "    print(content)\n",
    "\n",
    "    # 파일에서 한 줄을 읽습니다.\n",
    "    file.seek(0)  # 파일 포인터를 처음으로 돌립니다.\n",
    "    line = file.readline()\n",
    "    print(\"\\nreadline() 함수 예시:\")\n",
    "    print(line)\n",
    "\n",
    "    # 파일 전체를 읽고 각 줄을 리스트로 반환합니다.\n",
    "    file.seek(0)  # 파일 포인터를 처음으로 돌립니다.\n",
    "    lines = file.readlines()\n",
    "    print(\"\\nreadlines() 함수 예시:\")\n",
    "    print(lines)\n"
   ]
  },
  {
   "attachments": {},
   "cell_type": "markdown",
   "metadata": {},
   "source": [
    "# 정규표현식\n",
    "\n",
    "- 문자열 찾을때  \n",
    "\n",
    "a도 찾고싶고  \n",
    "aa도 찾고싶고  \n",
    "aaa도 찾고싶을때  \n",
    "\n",
    "이걸 쉽게 표현해주는게 정규표현식\n",
    "\n",
    "a{1,3} 이렇게 표현.  \n",
    "\n",
    "- a가 1개 이상인 문자를 찾고싶을때  \n",
    "\n",
    "a+ 이렇게 표현  \n",
    "\n",
    "a  \n",
    "aa  \n",
    "aaa  \n",
    "aaaa  \n",
    "이걸 저 하나로 끝  \n",
    "\n",
    "리터럴과 메타로 구성되어있다  \n",
    "a가 리터럴, +가 메타  "
   ]
  }
 ],
 "metadata": {
  "kernelspec": {
   "display_name": "Python 3",
   "language": "python",
   "name": "python3"
  },
  "language_info": {
   "codemirror_mode": {
    "name": "ipython",
    "version": 3
   },
   "file_extension": ".py",
   "mimetype": "text/x-python",
   "name": "python",
   "nbconvert_exporter": "python",
   "pygments_lexer": "ipython3",
   "version": "3.10.9"
  },
  "orig_nbformat": 4
 },
 "nbformat": 4,
 "nbformat_minor": 2
}
