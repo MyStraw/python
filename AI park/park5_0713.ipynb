{
 "cells": [
  {
   "cell_type": "code",
   "execution_count": null,
   "metadata": {},
   "outputs": [],
   "source": [
    "def isTripleConsecutive(word):\n",
    "    word = word.upper()  # 대소문자 구분 없이 처리하기 위해 모두 대문자로 변환\n",
    "    for i in range(len(word)-2):  # 단어의 각 문자를 순회\n",
    "        # ord 함수를 이용해 각 문자의 ASCII 값을 얻고, 연속된 3개의 문자가 알파벳 순서대로 배치되어 있는지 확인\n",
    "        if ord(word[i]) + 1 == ord(word[i+1]) and ord(word[i+1]) + 1 == ord(word[i+2]):\n",
    "            return True  # 연속된 3개의 문자가 알파벳 순서대로 있다면 True를 반환\n",
    "    return False  # 반복문을 모두 수행한 뒤에도 찾지 못했다면 False를 반환\n",
    "\n",
    "# 테스트\n",
    "word = input(\"단어를 입력하세요: \")\n",
    "print(isTripleConsecutive(word))\n"
   ]
  },
  {
   "cell_type": "code",
   "execution_count": 12,
   "metadata": {},
   "outputs": [
    {
     "name": "stdout",
     "output_type": "stream",
     "text": [
      "The Gettysburg Address contains 268 words.\n",
      "The Gettysburg Address contains 139 different words.\n",
      "\n",
      "The most common words and their frequencies are:\n",
      "    that: 13\n",
      "    the: 11\n",
      "    we: 10\n",
      "    to: 8\n",
      "    here: 8\n",
      "    a: 7\n",
      "    and: 6\n"
     ]
    }
   ],
   "source": [
    "#pdf 77p\n",
    "\n",
    "def main():\n",
    "    listOfWords = formListOfWords(\"AIP_05_Data Processing and File Access_data/Gettysburg.txt\")\n",
    "    freq = createFrequencyDictionary(listOfWords)\n",
    "    displayWordCount(listOfWords, freq)\n",
    "    displayMostCommonWords(freq)\n",
    "\n",
    "def formListOfWords(fileName):\n",
    "    infile=open(fileName)\n",
    "    originalLine=infile.readline().lower()\n",
    "    line=\"\"\n",
    "    for ch in originalLine: #알파벳범위, 빈칸인가, 띄어쓰기는 보존(단어) 컴마, 점, 콜론은 없애고.\n",
    "        if('a' <= ch <='z') or (ch==\" \"):\n",
    "            line += ch\n",
    "    listOfWords = line.split()\n",
    "    return listOfWords\n",
    "\n",
    "def createFrequencyDictionary(listOfWords):\n",
    "    freq = {} #빈 딕셔너리\n",
    "    # for word in listOfWords: #각 단어마다 다 0으로. 초기값 없으면 키 에러 난다. 이거 대비해서 get(). 키가 없으면 0으로.\n",
    "        # freq[word] = 0\n",
    "    # for word in listOfWords:\n",
    "        # freq[word] = freq[word] + 1 #각 단어의 값을 또 돌면서 1씩 증가. \n",
    "    for word in listOfWords: #이 코드로 위의 for 2개 말고 이거 하나로 가능\n",
    "        freq[word] = freq.get(word,0) +1\n",
    "    return freq\n",
    "\n",
    "def displayWordCount(listOfWords, freq):\n",
    "    print(\"The Gettysburg Address contains\", len(listOfWords), \"words.\")\n",
    "    print(\"The Gettysburg Address contains\", len(freq), \"different words.\") #len(freq) 키의 개수\n",
    "    print()\n",
    "    \n",
    "def displayMostCommonWords(freq):\n",
    "    print(\"The most common words and their frequencies are:\")\n",
    "    # listOfMostCommonWords = []\n",
    "    # for word in freq.keys():\n",
    "    #     if freq[word] >=6:\n",
    "    #         listOfMostCommonWords.append((word,freq[word]))\n",
    "            \n",
    "    # 더 멋있게 해보자. 리스트 만들때. 컴프리헨션(한줄로 간단히)\n",
    "    listOfMostCommonWords = [(word,freq[word]) for word in freq.keys() if freq[word] >=6]\n",
    "    listOfMostCommonWords.sort(key=lambda x: x[1],\n",
    "                               reverse=True)\n",
    "    for item in listOfMostCommonWords:\n",
    "        print(\"   \", item[0] + \":\", item[1])\n",
    "    \n",
    "main()"
   ]
  },
  {
   "cell_type": "code",
   "execution_count": 20,
   "metadata": {},
   "outputs": [
    {
     "data": {
      "text/plain": [
       "34.8"
      ]
     },
     "execution_count": 20,
     "metadata": {},
     "output_type": "execute_result"
    }
   ],
   "source": [
    "#UNDict.dat 이런건 hexeditor 같은거 있어야한다. 안읽혀. 추가설치로 hex editor 깔고 열어봐.\n",
    "import pickle\n",
    "\n",
    "\n",
    "infile = open(\"AIP_05_Data Processing and File Access_data/UNDict.dat\", 'rb') #딕셔너리를 저장한거구나   \n",
    "countries = pickle.load(infile)\n",
    "infile.close()\n",
    "   \n",
    "type(countries)\n",
    "\n",
    "countries['Canada']\n",
    "\n",
    "countries['Canada']['popl']"
   ]
  },
  {
   "cell_type": "code",
   "execution_count": 24,
   "metadata": {},
   "outputs": [
    {
     "data": {
      "text/plain": [
       "dict"
      ]
     },
     "execution_count": 24,
     "metadata": {},
     "output_type": "execute_result"
    }
   ],
   "source": [
    "#79p 각 나라의 대륙정보가 16진수로. 딕셔너리 키 찾아가면 안에 정보가 있다.\n",
    "#80튜플을 키로 쓸수있다\n",
    "\n",
    "infile = open(\"AIP_05_Data Processing and File Access_data/USpresStatesDict.dat\", 'rb') #딕셔너리를 저장한거구나   \n",
    "countries = pickle.load(infile)\n",
    "infile.close()\n",
    "type(countries)\n",
    "\n"
   ]
  },
  {
   "cell_type": "code",
   "execution_count": null,
   "metadata": {},
   "outputs": [],
   "source": [
    "d  = {(1,2):'a'}\n",
    "d2 = {[1,2]:'a'}\n",
    "#튜플은 되고 리스트는 왜 안돼? 리스트는 mutable\n",
    "\n",
    "#딕셔너리는 키가 immutable이어야 한다. 튜플은 immutable 이니까 키로 사용가능.\n"
   ]
  },
  {
   "cell_type": "code",
   "execution_count": 26,
   "metadata": {},
   "outputs": [
    {
     "data": {
      "text/plain": [
       "{'0': 0,\n",
       " '1': 5,\n",
       " '2': 10,\n",
       " '3': 15,\n",
       " '4': 20,\n",
       " '5': 25,\n",
       " '6': 30,\n",
       " '7': 35,\n",
       " '8': 40,\n",
       " '9': 45}"
      ]
     },
     "execution_count": 26,
     "metadata": {},
     "output_type": "execute_result"
    }
   ],
   "source": [
    "#딕셔너리 컴프리헨션\n",
    "\n",
    "{x:5*x for x in range(10)}\n",
    "\n",
    "{str(x):5*x for x in range(10)}"
   ]
  },
  {
   "cell_type": "code",
   "execution_count": 31,
   "metadata": {},
   "outputs": [],
   "source": [
    "#딕셔너리는 바이너리로 읽고 썼는데, txt 파일은?\n",
    "\n",
    "file1 = open('file1.txt', 'w') #이건 텍스트\n",
    "file1.write(\"100\")\n",
    "file1.close()\n",
    "\n",
    "file2 = open('file2.dat', 'wb') #이건 바이너리\n",
    "#file2.write('100') #이건 에러가 나네. #TypeError: a bytes-like object is required, not 'str'\n",
    "file2.write('100'.encode()) #들어가는 데이터를 맞춰줘야 한다.\n",
    "file2.close()\n",
    "\n",
    "#파일 2개 생성."
   ]
  },
  {
   "cell_type": "code",
   "execution_count": null,
   "metadata": {},
   "outputs": [],
   "source": [
    "#잡다한 토픽. Exception 들어가기 전에 문제풀이"
   ]
  },
  {
   "cell_type": "markdown",
   "metadata": {},
   "source": [
    "5. Alphabetical Order   \n",
    "The following words have three consecutive letters that     \n",
    "are also consecutive letters in the alphabet: THIRSTY, NOPE,   \n",
    "AFGHANISTAN, STUDENT. Write a program that accepts a word as input   \n",
    "and determines whether or not it has three consecutive letters that are  \n",
    "consecutive letters in the alphabet. The program should use a Boolean-valued  \n",
    "function named isTripleConsecutive that accepts an entire word as input. Hint:  \n",
    "Use the ord function.  \n"
   ]
  },
  {
   "cell_type": "code",
   "execution_count": 68,
   "metadata": {},
   "outputs": [
    {
     "name": "stdout",
     "output_type": "stream",
     "text": [
      "asdf\n",
      "asdf\n",
      "asdf Does NOT contain\n"
     ]
    }
   ],
   "source": [
    "def main():\n",
    "    word = input(\"Enter a word\")\n",
    "    isTripleConsecutive(word)\n",
    "    if isTripleConsecutive(word):\n",
    "        print(f\"{word} CONTAINS three successive letters in consecutive alphabetical order\")\n",
    "    else:\n",
    "        print(f\"{word} Does NOT contain\")\n",
    "\n",
    "def isTripleConsecutive(word):\n",
    "    word = word.lower()       \n",
    "    print(word)\n",
    "    for i in range(len(word)-2):\n",
    "        if ord(word[i]) + 1 ==  ord(word[i+1]) and ord(word[i+1]) + 1 == ord(word[i+2]):\n",
    "            return True        \n",
    "    return False\n",
    "        \n",
    "main()    \n",
    "    "
   ]
  },
  {
   "cell_type": "code",
   "execution_count": 69,
   "metadata": {},
   "outputs": [
    {
     "name": "stdout",
     "output_type": "stream",
     "text": [
      "abcd CONTAINS three successive letters in consecutive alphabetical order\n"
     ]
    }
   ],
   "source": [
    "#교수님버전\n",
    "def main():    \n",
    "    if isTripleConsecutive(word.lower()):\n",
    "        print(f\"{word} CONTAINS three successive letters in consecutive alphabetical order\")\n",
    "    else:\n",
    "        print(f\"{word} Does NOT contain\")\n",
    "        \n",
    "def getInput():\n",
    "    word = input(\"Enter a word\") \n",
    "    return word\n",
    "\n",
    "def isTripleConsecutive(word):\n",
    "    for i in range(len(word)-2):\n",
    "         #아스키코드에 해당하는 :;< 이것도 연속으로 인식한다.\n",
    "        if word[i].isalpha() and ord(word[i]) +1 == ord(word[i+1]) and ord(word[i+1]) +1 == ord(word[i+2]):\n",
    "            return True\n",
    "    return False\n",
    "main()"
   ]
  },
  {
   "cell_type": "markdown",
   "metadata": {},
   "source": [
    "1. Unit Conversions  \n",
    "The following table contains some lengths in terms of feet.  \n",
    "Write a program that displays the nine different units of measure; requests the  \n",
    "unit to convert from, the unit to convert to, and the quantity to be converted;  \n",
    "and then displays the converted quantity. A typical outcome is shown in the  \n",
    "shaded box below. Use the file Units.txt to create a dictionary that  \n",
    "provides the number of feet for a given unit of length. The first two lines of  \n",
    "the file are inches,.083333; furlongs,660."
   ]
  },
  {
   "cell_type": "code",
   "execution_count": 74,
   "metadata": {},
   "outputs": [
    {
     "name": "stdout",
     "output_type": "stream",
     "text": [
      "UNITS OF LENGTH\n",
      "inches          furlongs        yards           \n",
      "fathoms         feet            kilometers      \n",
      "meters          miles           rods            \n",
      "Length in miles: 0.3153\n"
     ]
    }
   ],
   "source": [
    "def main():\n",
    "    dict_unit = readUnits()\n",
    "    print(\"UNITS OF LENGTH\")   \n",
    "    \n",
    "    # count = 0 #프린트 3개씩 한칸 밑으로\n",
    "    # for unit in dict_unit: #키값에서 나오니까...\n",
    "    #     print(\"{:<15}\".format(unit), end=' ')\n",
    "    #     count +=1\n",
    "    #     if count == 3:\n",
    "    #         print()\n",
    "    #         count = 0\n",
    "    #좀더 이쁘게\n",
    "    for i, unit in enumerate(dict_unit): #키값에서 나오니까... enumerate는 index도 반환해준다.\n",
    "        print(\"{:<15}\".format(unit), end=' ')\n",
    "        if (i+1) % 3 == 0: #% 모듈로??? modulo\n",
    "            print()  \n",
    "            \n",
    "        \n",
    "    Unit_from, Unit_to, length = getInput()\n",
    "    \n",
    "    length_converted = convertUnits(Unit_from, Unit_to, length, dict_unit)\n",
    "    \n",
    "    print('Length in {}: {:.4f}'.format(Unit_to, length_converted))\n",
    "\n",
    "\n",
    "def convertUnits(Unit_from, Unit_to, length, dict_unit):\n",
    "    return length*dict_unit[Unit_from] / dict_unit[Unit_to]\n",
    "    #return length*dict_unit.get(Unit_from,0) / dict_unit.get(Unit_to,1) #이러면 다른값이...\n",
    "    #그럼 이거 에러나면 뭘로? try catch\n",
    "    # 두 코드 사이에 있는 차이는 다음과 같습니다:\n",
    "\n",
    "    # 첫 번째 코드: length*dict_unit[Unit_from] / dict_unit[Unit_to]\n",
    "\n",
    "    # 이 코드는 dict_unit 딕셔너리에서 Unit_from과 Unit_to에 해당하는 값을 직접 참조하려 합니다. 만약 딕셔너리에 해당 키가 없다면, 이 코드는 KeyError 예외를 발생시킵니다.\n",
    "\n",
    "    # 두 번째 코드: length*dict_unit.get(Unit_from,0) / dict_unit.get(Unit_to,1)\n",
    "\n",
    "    # 이 코드는 get 메소드를 사용하여 Unit_from과 Unit_to에 해당하는 값을 딕셔너리에서 찾습니다. get 메소드의 특징은, 딕셔너리에 찾는 키가 없을 경우에는 두 번째 매개변수로 제공된 기본값을 반환한다는 것입니다. 즉, Unit_from 키가 없으면 0을 반환하고, Unit_to 키가 없으면 1을 반환합니다. 따라서 이 코드는 KeyError를 발생시키지 않습니다.\n",
    "\n",
    "    # get 메소드를 사용하는 것은 딕셔너리에서 키를 안전하게 참조할 수 있는 방법입니다. 특히, 키가 존재하지 않을 수도 있는 경우에 유용합니다.\n",
    "    \n",
    "    \n",
    "    \n",
    "    \n",
    "    \n",
    "    \n",
    "def readUnits():\n",
    "    file_unit = open('h3 data files/Units.txt', 'r') #csv 파일이네. 콤마로 나뉘어져 있는 파일.\n",
    "    \n",
    "    dict_unit={}\n",
    "    for line in file_unit:\n",
    "        name, value = line.split(\",\")\n",
    "        dict_unit[name] = float(value)\n",
    "    file_unit.close()\n",
    "   \n",
    "    return dict_unit\n",
    "\n",
    "def getInput():\n",
    "    Unit_from = input(\"Unit to convert from: \")\n",
    "    Unit_to = input(\"Unit to convert to: \")\n",
    "    length = float(input(f\"Enter length in {Unit_from}\"))\n",
    "    return Unit_from, Unit_to, length\n",
    "\n",
    "\n",
    "\n",
    "main()"
   ]
  },
  {
   "cell_type": "markdown",
   "metadata": {},
   "source": [
    "# Exception  "
   ]
  },
  {
   "cell_type": "code",
   "execution_count": 78,
   "metadata": {},
   "outputs": [
    {
     "name": "stdout",
     "output_type": "stream",
     "text": [
      "Error!\n",
      "Error message: invalid literal for int() with base 10: 'asdfadsf'\n"
     ]
    }
   ],
   "source": [
    "try:\n",
    "    numDependents = int(input(\"Enter a number: \"))\n",
    "    print(f\"Entered number: {numDependents}\")\n",
    "#except: #모든 에러 잡기. 무슨에러인지 알면 뒤에 직접 적어줘\n",
    "except ValueError as exp:\n",
    "    print(\"Error!\")    \n",
    "    print(f\"Error message: {exp}\") #에러 메세지를 바로 출력.\n",
    "#     numDependents = 0\n",
    "# texCredit = 1000 * numDependents\n",
    "# print(\"Tax credit:\", texCredit)\n",
    "    "
   ]
  },
  {
   "cell_type": "code",
   "execution_count": 80,
   "metadata": {},
   "outputs": [
    {
     "name": "stdout",
     "output_type": "stream",
     "text": [
      "0.01\n"
     ]
    }
   ],
   "source": [
    "#에러가 여러개 나면? except 여러개 하면 된다\n",
    "\n",
    "def main():\n",
    "    try:\n",
    "        fileName = input(\"Enter the name of a file: \")\n",
    "        infile = open(fileName, 'r')\n",
    "        num = float(infile.readline()) #읽어서 타입을 float로 바꾸고\n",
    "        print(1/num) #읽은 파일을 1/num을 해줘\n",
    "    except FileNotFoundError as exc1:\n",
    "        print(exc1)\n",
    "    except TypeError as exc2: #file1.txt 안에 100 이 들어있는데 str을 넣으면....\n",
    "        print(exc2)\n",
    "    except ZeroDivisionError as exc3: #파일안의 숫자가 0이라면 0으로 나누게 되니 이에러가 나옴.\n",
    "        print(exc3)\n",
    "        \n",
    "main()"
   ]
  }
 ],
 "metadata": {
  "kernelspec": {
   "display_name": "Python 3",
   "language": "python",
   "name": "python3"
  },
  "language_info": {
   "codemirror_mode": {
    "name": "ipython",
    "version": 3
   },
   "file_extension": ".py",
   "mimetype": "text/x-python",
   "name": "python",
   "nbconvert_exporter": "python",
   "pygments_lexer": "ipython3",
   "version": "3.10.9"
  },
  "orig_nbformat": 4
 },
 "nbformat": 4,
 "nbformat_minor": 2
}
