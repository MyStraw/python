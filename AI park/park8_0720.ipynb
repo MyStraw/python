{
 "cells": [
  {
   "cell_type": "code",
   "execution_count": null,
   "metadata": {},
   "outputs": [],
   "source": [
    "def print_num(a, b, c):\n",
    "     print(a)\n",
    "     print(b)\n",
    "     print(c)\n",
    "\n",
    "nums = [10, 20, 30]\n",
    "\n",
    "print_num(*nums)"
   ]
  },
  {
   "cell_type": "code",
   "execution_count": null,
   "metadata": {},
   "outputs": [],
   "source": [
    "def print_num(*args):\n",
    "    for arg in args:\n",
    "        print(arg)\n",
    "\n",
    "nums = [10, 20, 30]\n",
    "\n",
    "# print_num(nums[0], nums[1], nums[2])\n",
    "print_num(*nums)\n",
    "print_num(*(1,2,3,4,5))"
   ]
  },
  {
   "cell_type": "code",
   "execution_count": null,
   "metadata": {},
   "outputs": [],
   "source": [
    "def personal_info(name, age, address):\n",
    "    print(name)\n",
    "    print(age)\n",
    "    print(address)\n",
    "    \n",
    "data = {'name' : 'JS', 'age':10, 'address':'서울시 용산구 이촌동'}\n",
    "\n",
    "personal_info(name=data['name'],\n",
    "              age=data['age'],\n",
    "              address=['address']\n",
    "              )"
   ]
  },
  {
   "cell_type": "code",
   "execution_count": null,
   "metadata": {},
   "outputs": [],
   "source": [
    "personal_info('홍길동', 30, '서울시 용산구 이촌동')"
   ]
  },
  {
   "cell_type": "code",
   "execution_count": null,
   "metadata": {},
   "outputs": [],
   "source": [
    "personal_info(**data)"
   ]
  },
  {
   "cell_type": "code",
   "execution_count": null,
   "metadata": {},
   "outputs": [],
   "source": [
    "def personal_info(name,address, age=20):\n",
    "    print(name)\n",
    "    print(age)\n",
    "    print(address)\n",
    "    \n",
    "data = {'name' : 'JS', 'address':'서울시 용산구 이촌동'}\n",
    "\n",
    "personal_info(**data)\n",
    "\n",
    "#age 안넣어도 초기값을 함수에서 지정해주면 된다.\n",
    "\n"
   ]
  },
  {
   "cell_type": "code",
   "execution_count": null,
   "metadata": {},
   "outputs": [],
   "source": [
    "def personal_info(name, age, address):\n",
    "    print(name)\n",
    "    print(age)\n",
    "    print(address)\n",
    "    \n",
    "data = {'name' : 'JS', 'age':10, 'address':'서울시 용산구 이촌동'}\n",
    "personal_info(*data)\n",
    "\n",
    "#별표 한개만 하니까 키값만 나오네"
   ]
  },
  {
   "cell_type": "code",
   "execution_count": null,
   "metadata": {},
   "outputs": [],
   "source": [
    "def personal_info(**kwargs):\n",
    "     for kw, arg in kwargs.items(): #키랑 value 둘다 for 돌릴라면 .items()까지.\n",
    "         print(kw, ': ', arg, sep='')\n",
    "data = {'name' : 'sg', 'age':36, 'address':'부산시 금정구'}\n",
    "data2={'name':\"냐하하\"}\n",
    "personal_info(**data)\n",
    "personal_info(**data2) #키보드가 다 없어도, 즉 가변이어도 가능"
   ]
  },
  {
   "cell_type": "code",
   "execution_count": null,
   "metadata": {},
   "outputs": [],
   "source": [
    "def personal_info(**kwargs):\n",
    "    if 'name' in kwargs:    # in으로 딕셔너리 안에 특정 키가 있는지 확인\n",
    "        print('이름: ', kwargs['name'])\n",
    "    if 'age' in kwargs:\n",
    "        print('나이: ', kwargs['age'])\n",
    "    if 'address' in kwargs:\n",
    "        print('주소: ', kwargs['address'])"
   ]
  },
  {
   "cell_type": "code",
   "execution_count": null,
   "metadata": {},
   "outputs": [],
   "source": [
    "AttributeError"
   ]
  },
  {
   "cell_type": "code",
   "execution_count": null,
   "metadata": {},
   "outputs": [],
   "source": [
    "#나만의 예외 클래스 만들어보기\n",
    "\n",
    "class GGException(Exception):\n",
    "    def __init__(self):\n",
    "        super().__init__(\"GGil's Exception\")\n",
    "        \n",
    "def main():\n",
    "    try:\n",
    "        print('Hello')\n",
    "        raise GGException\n",
    "    except GGException as e:\n",
    "        print(e)\n",
    "main()"
   ]
  },
  {
   "cell_type": "code",
   "execution_count": null,
   "metadata": {},
   "outputs": [],
   "source": [
    "def func1():\n",
    "    try:\n",
    "        print('func1')\n",
    "        raise ZeroDivisionError('여기서 에러메세지 입력') #ValueError #FileNotFoundError(이거하면 이제 핸들링 할게 없어서 프린트된다)\n",
    "    except AttributeError as e:\n",
    "        print(e)\n",
    "        \n",
    "def func2():\n",
    "    try:\n",
    "        print('func2')\n",
    "        func1()\n",
    "    except ZeroDivisionError as e:\n",
    "        print(e)\n",
    "    \n",
    "def main():\n",
    "    try:\n",
    "        func2()\n",
    "    except ValueError as e:       #Exception 넣으면 다된다.\n",
    "        print(e)        \n",
    "main()\n",
    "\n",
    "#func1에 일부러 raise를 강제로 일으켰는데 왜 에러가 안나고\n",
    "#결과값이 func2 func1 이렇게 나오냐\n",
    "#func1에서 ZeroDivisionError이 왜 안나? 처리해줄게 없으면\n",
    "#위로 올라가서 나를 부른녀석으로 올라가\n",
    "#func2로 가서 ZeroDivisionError로 가니까 여기서 핸들링 됨\n",
    "#그 함수내에서 처리가 안되면 그 상위, 부른애로 간다.\n",
    "\n",
    "#결과에 func2 func1만 나오는것처럼 보이겠지만 사실 ZeroDivisionError로 처리된 print(e)로 빈칸한줄이 출력되어 있다. 드래그 해보셈.\n"
   ]
  },
  {
   "cell_type": "code",
   "execution_count": null,
   "metadata": {},
   "outputs": [],
   "source": [
    "dir([1, 2, 3])"
   ]
  },
  {
   "cell_type": "code",
   "execution_count": null,
   "metadata": {},
   "outputs": [],
   "source": [
    "class Counter:  # 반복문의 range와 같은녀석 만들어보자\n",
    "    def __init__(self, *args):\n",
    "        if len(args) == 1:\n",
    "            self.current = 0\n",
    "            self.stop = args[0]\n",
    "            self.interval = 1\n",
    "        elif len(args) == 2:\n",
    "            self.current = args[0]\n",
    "            self.stop = args[1]\n",
    "            self.interval = 1\n",
    "        elif len(args) == 3:\n",
    "            self.current = 1\n",
    "            self.stop = args[1]\n",
    "            self.interval = args[2]\n",
    "        else :\n",
    "            raise NotImplementedError\n",
    "\n",
    "    def __iter__(self):\n",
    "        return self         # 현재 인스턴스를 반환\n",
    "\n",
    "    def __next__(self):\n",
    "        \"\"\"\n",
    "        3의 배수일때는 \"짝\"이 나오게\n",
    "      \n",
    "        \"\"\"        \n",
    "        if self.current < self.stop:    # 현재 숫자가 반복을 끝낼 숫자보다 작을 때\n",
    "            r = self.current            # 반환할 숫자를 변수에 저장\n",
    "            self.current += self.interval           # 현재 숫자를 1 증가시킴\n",
    "\n",
    "            if r >0 and  r%3 == 0:\n",
    "                r = '짝'\n",
    "           \n",
    "            return r                    # 숫자를 반환\n",
    "        else:                           # 현재 숫자가 반복을 끝낼 숫자보다 크거나 같을 때\n",
    "            raise StopIteration         # 예외 발생\n",
    "\n",
    "\n",
    "# range와 똑같이 동작을 한다. 근데 레인지처럼 (2,5) 이런건 안되네? 가변인자를 바꾸면 되겠지. init를.\n",
    "for i in Counter(5):\n",
    "    print(i, end=' ')\n",
    "print()\n",
    "for i in Counter(2, 8):\n",
    "    print(i, end=' ')\n",
    "print()    \n",
    "for i in Counter(2, 10, 2):\n",
    "    print(i, end=' ')\n",
    "print()\n",
    "\n",
    "for i in Counter(20):\n",
    "    print(i, end=' ')\n",
    "print()"
   ]
  },
  {
   "cell_type": "code",
   "execution_count": null,
   "metadata": {},
   "outputs": [],
   "source": [
    "class Counter:\n",
    "    def __init__(self, stop):\n",
    "        self.stop = stop\n",
    " \n",
    "    def __getitem__(self, index):\n",
    "        if index < self.stop:\n",
    "            return index\n",
    "        else:\n",
    "            raise IndexError\n",
    " \n",
    "print(Counter(3)[0], Counter(3)[1], Counter(3)[2])\n",
    " \n",
    "for i in Counter(3):\n",
    "    print(i, end=' ')"
   ]
  },
  {
   "cell_type": "code",
   "execution_count": 31,
   "metadata": {},
   "outputs": [
    {
     "name": "stdout",
     "output_type": "stream",
     "text": [
      "hello 함수 시작\n",
      "hello\n",
      "hello 함수 끝\n",
      "world 함수 시작\n",
      "world\n",
      "world 함수 끝\n",
      "hello\n",
      "world\n"
     ]
    }
   ],
   "source": [
    "def trace(func):                             # 호출할 함수를 매개변수로 받음\n",
    "    def wrapper():                           # 호출할 함수를 감싸는 함수\n",
    "        print(func.__name__, '함수 시작')    # __name__으로 함수 이름 출력\n",
    "        func()                               # 매개변수로 받은 함수를 호출\n",
    "        print(func.__name__, '함수 끝')\n",
    "    return wrapper                           # wrapper 함수 반환\n",
    " \n",
    "def hello():\n",
    "    print('hello')\n",
    " \n",
    "def world():\n",
    "    print('world')\n",
    " \n",
    "trace_hello = trace(hello)    # 데코레이터에 호출할 함수를 넣음\n",
    "trace_hello()                 # 반환된 함수를 호출\n",
    "trace_world = trace(world)    # 데코레이터에 호출할 함수를 넣음\n",
    "trace_world()                 # 반환된 함수를 호출\n",
    "\n",
    "hello()\n",
    "world()"
   ]
  },
  {
   "cell_type": "code",
   "execution_count": 33,
   "metadata": {},
   "outputs": [
    {
     "name": "stdout",
     "output_type": "stream",
     "text": [
      "hello 함수 시작\n",
      "hello\n",
      "hello 함수 끝\n",
      "world 함수 시작\n",
      "world\n",
      "world 함수 끝\n"
     ]
    }
   ],
   "source": [
    "def trace(func):                             # 호출할 함수를 매개변수로 받음\n",
    "    def wrapper():                           # 호출할 함수를 감싸는 함수\n",
    "        print(func.__name__, '함수 시작')    # __name__으로 함수 이름 출력\n",
    "        func()                               # 매개변수로 받은 함수를 호출\n",
    "        print(func.__name__, '함수 끝')\n",
    "    return wrapper                           # wrapper 함수 반환\n",
    "\n",
    "@trace\n",
    "def hello():\n",
    "    print('hello')\n",
    "@trace\n",
    "def world():\n",
    "    print('world')\n",
    "\n",
    "\n",
    "# trace_hello = trace(hello)    # 데코레이터에 호출할 함수를 넣음\n",
    "# trace_hello()                 # 반환된 함수를 호출\n",
    "# trace_world = trace(world)    # 데코레이터에 호출할 함수를 넣음\n",
    "# trace_world()                 # 반환된 함수를 호출\n",
    "\n",
    "hello()\n",
    "world()"
   ]
  },
  {
   "cell_type": "code",
   "execution_count": 36,
   "metadata": {},
   "outputs": [
    {
     "name": "stdout",
     "output_type": "stream",
     "text": [
      "add(a=10, b=20) -> 30\n",
      "30\n"
     ]
    }
   ],
   "source": [
    "def trace(func):          # 호출할 함수를 매개변수로 받음\n",
    "    def wrapper(a, b):    # 호출할 함수 add(a, b)의 매개변수와 똑같이 지정\n",
    "        r = func(a, b)    # func에 매개변수 a, b를 넣어서 호출하고 반환값을 변수에 저장\n",
    "        print('{0}(a={1}, b={2}) -> {3}'.format(func.__name__, a, b, r))  # 매개변수와 반환값 출력\n",
    "        return r          # func의 반환값을 반환. 원래함수에도 리턴이 있었다면 데코레이터에도 리턴이 있어야한다\n",
    "    return wrapper        # wrapper 함수 반환\n",
    " \n",
    "@trace              # @데코레이터\n",
    "def add(a, b):      # 매개변수는 두 개\n",
    "    return a + b    # 매개변수 두 개를 더해서 반환\n",
    " \n",
    "print(add(10, 20))\n",
    "\n",
    "#return r이 없다면 여기서 30이 표시되지 않고 None이 나온다. add가 wrapper이기때문에.\n",
    "#print(wrapper(10,20)) 이거나 마찬가지...?"
   ]
  },
  {
   "cell_type": "code",
   "execution_count": 38,
   "metadata": {},
   "outputs": [
    {
     "name": "stdout",
     "output_type": "stream",
     "text": [
      "get_max(args=(10, 20), kwargs={}) -> 20\n",
      "20\n",
      "get_min(args=(), kwargs={'x': 10, 'y': 20}) -> 10\n",
      "10\n"
     ]
    }
   ],
   "source": [
    "def trace(func):                     # 호출할 함수를 매개변수로 받음\n",
    "    def wrapper(*args, **kwargs):    # 가변 인수 함수로 만듦\n",
    "        r = func(*args, **kwargs)    # func에 args, kwargs를 언패킹하여 넣어줌\n",
    "        print('{0}(args={1}, kwargs={2}) -> {3}'.format(func.__name__, args, kwargs, r))\n",
    "                                     # 매개변수와 반환값 출력\n",
    "        return r                     # func의 반환값을 반환\n",
    "    return wrapper                   # wrapper 함수 반환\n",
    " \n",
    "@trace                   # @데코레이터\n",
    "def get_max(*args):      # 위치 인수를 사용하는 가변 인수 함수\n",
    "    return max(args)\n",
    " \n",
    "@trace                   # @데코레이터\n",
    "def get_min(**kwargs):   # 키워드 인수를 사용하는 가변 인수 함수\n",
    "    return min(kwargs.values())\n",
    " \n",
    "print(get_max(10, 20))\n",
    "print(get_min(x=10, y=20, z=30))"
   ]
  },
  {
   "cell_type": "code",
   "execution_count": 39,
   "metadata": {},
   "outputs": [
    {
     "name": "stdout",
     "output_type": "stream",
     "text": [
      "add의 반환값은 3의 배수입니다.\n",
      "30\n",
      "add의 반환값은 3의 배수가 아닙니다.\n",
      "7\n"
     ]
    }
   ],
   "source": [
    "def is_multiple(x):              # 데코레이터가 사용할 매개변수를 지정\n",
    "    def real_decorator(func):    # 호출할 함수를 매개변수로 받음\n",
    "        def wrapper(a, b):       # 호출할 함수의 매개변수와 똑같이 지정\n",
    "            r = func(a, b)       # func를 호출하고 반환값을 변수에 저장\n",
    "            if r % x == 0:       # func의 반환값이 x의 배수인지 확인\n",
    "                print('{0}의 반환값은 {1}의 배수입니다.'.format(func.__name__, x))\n",
    "            else:\n",
    "                print('{0}의 반환값은 {1}의 배수가 아닙니다.'.format(func.__name__, x))\n",
    "            return r             # func의 반환값을 반환\n",
    "        return wrapper           # wrapper 함수 반환\n",
    "    return real_decorator        # real_decorator 함수 반환\n",
    " \n",
    "@is_multiple(3)     # @데코레이터(인수)\n",
    "def add(a, b):\n",
    "    return a + b\n",
    " \n",
    "print(add(10, 20))\n",
    "print(add(2, 5))"
   ]
  },
  {
   "cell_type": "code",
   "execution_count": 1,
   "metadata": {},
   "outputs": [
    {
     "name": "stderr",
     "output_type": "stream",
     "text": [
      "INFO:root:30\n"
     ]
    },
    {
     "data": {
      "text/plain": [
       "30"
      ]
     },
     "execution_count": 1,
     "metadata": {},
     "output_type": "execute_result"
    }
   ],
   "source": [
    "import logging\n",
    "logging.basicConfig(level=logging.INFO)\n",
    "\n",
    "def add(a,b):\n",
    "    ret = a + b\n",
    "    # print(a,b,ret)\n",
    "    logging.info(ret)\n",
    "    return ret\n",
    "\n",
    "add(10,20)\n"
   ]
  },
  {
   "cell_type": "code",
   "execution_count": 1,
   "metadata": {},
   "outputs": [
    {
     "name": "stderr",
     "output_type": "stream",
     "text": [
      "ERROR:root:Error:30\n",
      "CRITICAL:root:Critical:30\n"
     ]
    },
    {
     "data": {
      "text/plain": [
       "30"
      ]
     },
     "execution_count": 1,
     "metadata": {},
     "output_type": "execute_result"
    }
   ],
   "source": [
    "import logging\n",
    "logging.basicConfig(level=logging.ERROR)\n",
    "\n",
    "def add(a,b):\n",
    "    ret = a + b\n",
    "    # print(a,b,ret)\n",
    "    logging.debug(f'Debug:{ret}')    \n",
    "    logging.info(f'Info:{ret}')\n",
    "    logging.warning(f'Warning:{ret}')\n",
    "    logging.error(f'Error:{ret}')\n",
    "    logging.critical(f'Critical:{ret}')\n",
    "    \n",
    "    return ret\n",
    "\n",
    "add(10,20)\n"
   ]
  },
  {
   "cell_type": "code",
   "execution_count": 1,
   "metadata": {},
   "outputs": [
    {
     "data": {
      "text/plain": [
       "30"
      ]
     },
     "execution_count": 1,
     "metadata": {},
     "output_type": "execute_result"
    }
   ],
   "source": [
    "import logging\n",
    "logging.basicConfig(filename=\"mylog.txt\", level =logging.ERROR)\n",
    "\n",
    "def add(a,b):\n",
    "    ret = a + b\n",
    "    # print(a,b,ret)\n",
    "    logging.debug(f'Debug:{ret}')    \n",
    "    logging.info(f'Info:{ret}')\n",
    "    logging.warning(f'Warning:{ret}')\n",
    "    logging.error(f'Error:{ret}')\n",
    "    logging.critical(f'Critical:{ret}')\n",
    "    \n",
    "    return ret\n",
    "\n",
    "add(10,20)\n"
   ]
  },
  {
   "cell_type": "code",
   "execution_count": 2,
   "metadata": {},
   "outputs": [
    {
     "name": "stdout",
     "output_type": "stream",
     "text": [
      "MainProcess\n",
      "12728\n",
      "MainProcess End\n"
     ]
    }
   ],
   "source": [
    "import multiprocessing as mp\n",
    "import time\n",
    "\n",
    "def worker():\n",
    "    proc = mp.current_process()\n",
    "    print(proc.name)\n",
    "    print(proc.pid)\n",
    "    time.sleep(5)\n",
    "    print(\"SubProcess End\")\n",
    "\n",
    "\n",
    "if __name__ == \"__main__\":\n",
    "    # main process\n",
    "    proc = mp.current_process()\n",
    "    print(proc.name)\n",
    "    print(proc.pid) #운영체제서 정해준 아이디\n",
    "\n",
    "    # process spawning\n",
    "    p = mp.Process(name=\"SubProcess\", target=worker) #프로세스 만들고 이름지어주고, 무슨일 할건지 worker에. 함수네?\n",
    "    p.start()\n",
    "\n",
    "    print(\"MainProcess End\")\n",
    "\n",
    "#py파일로 봐"
   ]
  }
 ],
 "metadata": {
  "kernelspec": {
   "display_name": "Python 3",
   "language": "python",
   "name": "python3"
  },
  "language_info": {
   "codemirror_mode": {
    "name": "ipython",
    "version": 3
   },
   "file_extension": ".py",
   "mimetype": "text/x-python",
   "name": "python",
   "nbconvert_exporter": "python",
   "pygments_lexer": "ipython3",
   "version": "3.10.10"
  },
  "orig_nbformat": 4
 },
 "nbformat": 4,
 "nbformat_minor": 2
}
