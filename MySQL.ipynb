{
 "cells": [
  {
   "cell_type": "code",
   "execution_count": 1,
   "metadata": {},
   "outputs": [
    {
     "name": "stdout",
     "output_type": "stream",
     "text": [
      "Requirement already satisfied: mysql-connector-python in c:\\users\\kikon\\appdata\\local\\programs\\python\\python310\\lib\\site-packages (8.0.33)\n",
      "Collecting protobuf<=3.20.3,>=3.11.0 (from mysql-connector-python)\n",
      "  Downloading protobuf-3.20.3-cp310-cp310-win_amd64.whl (904 kB)\n",
      "                                              0.0/904.0 kB ? eta -:--:--\n",
      "     -                                       30.7/904.0 kB 1.4 MB/s eta 0:00:01\n",
      "     ---                                   81.9/904.0 kB 919.0 kB/s eta 0:00:01\n",
      "     -------                                174.1/904.0 kB 1.3 MB/s eta 0:00:01\n",
      "     -------------------------------------- 904.0/904.0 kB 5.7 MB/s eta 0:00:00\n",
      "Installing collected packages: protobuf\n",
      "  Attempting uninstall: protobuf\n",
      "    Found existing installation: protobuf 4.23.3\n",
      "    Uninstalling protobuf-4.23.3:\n",
      "      Successfully uninstalled protobuf-4.23.3\n",
      "Successfully installed protobuf-3.20.3\n",
      "Note: you may need to restart the kernel to use updated packages.\n"
     ]
    },
    {
     "name": "stderr",
     "output_type": "stream",
     "text": [
      "\n",
      "[notice] A new release of pip is available: 23.1.2 -> 23.2.1\n",
      "[notice] To update, run: python.exe -m pip install --upgrade pip\n"
     ]
    }
   ],
   "source": [
    "%pip install mysql-connector-python"
   ]
  },
  {
   "cell_type": "code",
   "execution_count": 2,
   "metadata": {},
   "outputs": [],
   "source": [
    "import mysql.connector\n",
    "\n",
    "mydb = mysql.connector.connect(\n",
    "  host=\"localhost\",\n",
    "  port = 3306,\n",
    "  user=\"metro\",\n",
    "  password=\"abcd\",\n",
    "  database=\"metro\"\n",
    ")"
   ]
  },
  {
   "cell_type": "code",
   "execution_count": 3,
   "metadata": {},
   "outputs": [],
   "source": [
    "import pandas as pd\n",
    "\n",
    "mycursor = mydb.cursor()\n",
    "\n",
    "mycursor.execute(\"SELECT * FROM timeinfo\")\n",
    "\n",
    "myresult = mycursor.fetchall()\n",
    "\n",
    "df = pd.DataFrame(myresult, columns=[i[0] for i in mycursor.description])\n"
   ]
  },
  {
   "cell_type": "code",
   "execution_count": 6,
   "metadata": {},
   "outputs": [
    {
     "data": {
      "text/html": [
       "<div>\n",
       "<style scoped>\n",
       "    .dataframe tbody tr th:only-of-type {\n",
       "        vertical-align: middle;\n",
       "    }\n",
       "\n",
       "    .dataframe tbody tr th {\n",
       "        vertical-align: top;\n",
       "    }\n",
       "\n",
       "    .dataframe thead th {\n",
       "        text-align: right;\n",
       "    }\n",
       "</style>\n",
       "<table border=\"1\" class=\"dataframe\">\n",
       "  <thead>\n",
       "    <tr style=\"text-align: right;\">\n",
       "      <th></th>\n",
       "      <th>Seq</th>\n",
       "      <th>TrainNo</th>\n",
       "      <th>StationName</th>\n",
       "      <th>ArriveTime</th>\n",
       "      <th>DepartTime</th>\n",
       "    </tr>\n",
       "  </thead>\n",
       "  <tbody>\n",
       "    <tr>\n",
       "      <th>0</th>\n",
       "      <td>1</td>\n",
       "      <td>1</td>\n",
       "      <td>노포</td>\n",
       "      <td>5:08</td>\n",
       "      <td>5:08\\r</td>\n",
       "    </tr>\n",
       "    <tr>\n",
       "      <th>1</th>\n",
       "      <td>2</td>\n",
       "      <td>1</td>\n",
       "      <td>범어사</td>\n",
       "      <td>5:09</td>\n",
       "      <td>5:10\\r</td>\n",
       "    </tr>\n",
       "    <tr>\n",
       "      <th>2</th>\n",
       "      <td>3</td>\n",
       "      <td>1</td>\n",
       "      <td>남산</td>\n",
       "      <td>5:11</td>\n",
       "      <td>5:12\\r</td>\n",
       "    </tr>\n",
       "    <tr>\n",
       "      <th>3</th>\n",
       "      <td>4</td>\n",
       "      <td>1</td>\n",
       "      <td>두실</td>\n",
       "      <td>5:13</td>\n",
       "      <td>5:13\\r</td>\n",
       "    </tr>\n",
       "    <tr>\n",
       "      <th>4</th>\n",
       "      <td>5</td>\n",
       "      <td>1</td>\n",
       "      <td>구서</td>\n",
       "      <td>5:15</td>\n",
       "      <td>5:15\\r</td>\n",
       "    </tr>\n",
       "  </tbody>\n",
       "</table>\n",
       "</div>"
      ],
      "text/plain": [
       "   Seq  TrainNo StationName ArriveTime DepartTime\n",
       "0    1        1          노포       5:08     5:08\\r\n",
       "1    2        1         범어사       5:09     5:10\\r\n",
       "2    3        1          남산       5:11     5:12\\r\n",
       "3    4        1          두실       5:13     5:13\\r\n",
       "4    5        1          구서       5:15     5:15\\r"
      ]
     },
     "execution_count": 6,
     "metadata": {},
     "output_type": "execute_result"
    }
   ],
   "source": [
    "df.head()"
   ]
  },
  {
   "cell_type": "code",
   "execution_count": 7,
   "metadata": {},
   "outputs": [
    {
     "ename": "TypeError",
     "evalue": "DataFrame.isnull() got an unexpected keyword argument 'axis'",
     "output_type": "error",
     "traceback": [
      "\u001b[1;31m---------------------------------------------------------------------------\u001b[0m",
      "\u001b[1;31mTypeError\u001b[0m                                 Traceback (most recent call last)",
      "Cell \u001b[1;32mIn[7], line 1\u001b[0m\n\u001b[1;32m----> 1\u001b[0m df\u001b[39m.\u001b[39;49misnull(axis \u001b[39m=\u001b[39;49m \u001b[39m1\u001b[39;49m)\n",
      "\u001b[1;31mTypeError\u001b[0m: DataFrame.isnull() got an unexpected keyword argument 'axis'"
     ]
    }
   ],
   "source": [
    "df.isnull(axis = 1)"
   ]
  },
  {
   "cell_type": "code",
   "execution_count": 8,
   "metadata": {},
   "outputs": [],
   "source": [
    "mycursor = mydb.cursor()\n",
    "\n",
    "query = \"\"\"\n",
    "UPDATE timeinfo\n",
    "SET StationName = '노포'\n",
    "WHERE StationName = '134'\n",
    "\"\"\"\n",
    "\n",
    "mycursor.execute(query)\n",
    "mydb.commit()\n"
   ]
  }
 ],
 "metadata": {
  "kernelspec": {
   "display_name": "Python 3",
   "language": "python",
   "name": "python3"
  },
  "language_info": {
   "codemirror_mode": {
    "name": "ipython",
    "version": 3
   },
   "file_extension": ".py",
   "mimetype": "text/x-python",
   "name": "python",
   "nbconvert_exporter": "python",
   "pygments_lexer": "ipython3",
   "version": "3.10.8"
  },
  "orig_nbformat": 4
 },
 "nbformat": 4,
 "nbformat_minor": 2
}
