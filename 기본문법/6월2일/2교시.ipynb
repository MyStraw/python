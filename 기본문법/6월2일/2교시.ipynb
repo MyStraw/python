{
 "cells": [
  {
   "attachments": {},
   "cell_type": "markdown",
   "metadata": {},
   "source": [
    "# break, continue, pass\n",
    "\n",
    "-break\n",
    "\n",
    "+ 현재 반복문을 즉시 종료하고, 그 밖의 코드를 수행하도록 하는 예약어입니다. 반복문에서 특정 조건이 만족될 때 break를 사용하면 프로그램이 정상적으로 종료되는 것을 보장할 수 있습니다.  \n",
    "\n",
    "-continue\n",
    "\n",
    "+ 현재 반복의 나머지 부분을 생략하고, 다음 반복으로 넘어가는 예약어입니다. 즉, continue를 사용하면 현재 반복에서 건너뛰고, 다음 반복으로 넘어가는 것입니다.  \n",
    "\n",
    "-pass\n",
    "\n",
    "+ 특별한 작업이 없는 경우에는 pass를 사용하여, 빈 문장을 만들 수 있습니다. 즉, pass는 아무것도 하지 않고 넘어가는 표현입니다.  \n"
   ]
  },
  {
   "cell_type": "code",
   "execution_count": null,
   "metadata": {},
   "outputs": [],
   "source": [
    "#모음제거\n",
    "vowels = ['a', 'e', 'i', 'o', 'u']\n",
    "input_str = input(\"Enter a string: \")\n",
    "\n",
    "output_str = \"\"\n",
    "for char in input_str:\n",
    "    if char in vowels:\n",
    "        pass\n",
    "    else:\n",
    "        output_str += char\n",
    "\n",
    "print(\"Modified string:\", output_str)\n"
   ]
  },
  {
   "cell_type": "code",
   "execution_count": 3,
   "metadata": {},
   "outputs": [
    {
     "name": "stdout",
     "output_type": "stream",
     "text": [
      "주사위1: 6, 주사위2: 4\n",
      "님 짐\n"
     ]
    }
   ],
   "source": [
    "#주사위 게임\n",
    "import random\n",
    "\n",
    "dice1 = random.randint(1,6)\n",
    "dice2 = random.randint(1,6)\n",
    "\n",
    "print(f\"주사위1: {dice1}, 주사위2: {dice2}\")\n",
    "\n",
    "if dice1 + dice2 == 7:\n",
    "    print(\"님이 이김\")    \n",
    "else:\n",
    "    print(\"님 짐\")\n",
    "    \n",
    "    \n"
   ]
  },
  {
   "cell_type": "code",
   "execution_count": 2,
   "metadata": {},
   "outputs": [
    {
     "name": "stdout",
     "output_type": "stream",
     "text": [
      "주사위1: 2, w주사위2: 5\n",
      "이겼습니다.\n"
     ]
    }
   ],
   "source": [
    "#교수님\n",
    "\n",
    "import random\n",
    "\n",
    "dice1 = random.randint(1,6)\n",
    "dice2 = random.randint(1,6)\n",
    "\n",
    "print(f\"주사위1: {dice1}, w주사위2: {dice2}\")\n",
    "\n",
    "if dice1 + dice2 ==7:\n",
    "    print(\"이겼습니다.\")\n",
    "else:\n",
    "    print(\"졌습니다.\")    "
   ]
  },
  {
   "attachments": {},
   "cell_type": "markdown",
   "metadata": {},
   "source": [
    "# 계산기 프로그램\n",
    "사용자로부터 두 개의 정수와 연산자를 입력받아, 입력된 연산자에 따라 두 수의 사칙연산 결과를 출력하는 계산기 프로그램을 작성하세요. 프로그램은 사용자가 \"exit\"을 입력할 때까지 계속해서 작동합니다.\n",
    "입력받은 숫자는 어떠한 값이든 상관없습니다.\n",
    "입력받은 연산자는 +, -, *, / 중 하나입니다.\n",
    "나눗셈 연산 결과는 실수형으로 출력하세요.\n",
    "분모가 0일 경우, \"0으로 나눌 수 없습니다.\"를 출력하세요.\n",
    "사용자가 \"exit\"을 입력할 경우, 프로그램을 종료하세요.\n"
   ]
  },
  {
   "cell_type": "code",
   "execution_count": 13,
   "metadata": {},
   "outputs": [
    {
     "name": "stdout",
     "output_type": "stream",
     "text": [
      "4 와 5와 연산자 +의 결과는 9\n"
     ]
    }
   ],
   "source": [
    "while True:    \n",
    "    num1 = input(\"첫번째 정수 입력하셈, (exit 입력시 종료)\")\n",
    "    num2 = input(\"두번째 정수 입력하셈, (exit 입력시 종료)\")\n",
    "    op = input(\"연산자 입력하셈(+,-,*,/), (exit 입력시 종료)\")\n",
    "\n",
    "    if num1== \"exit\" or num2== \"exit\" or op == \"exit\":\n",
    "        break\n",
    "    \n",
    "    a=int(num1)\n",
    "    b=int(num2)\n",
    "\n",
    "    if op == \"+\":\n",
    "        print(f\"{a} 와 {b}와 연산자 {op}의 결과는 {a+b}\")        \n",
    "        break      \n",
    "    elif op == \"-\":\n",
    "        print(f\"{a} 와 {b}와 연산자 {op}의 결과는 {a-b}\")       \n",
    "        break \n",
    "    elif op == \"*\":\n",
    "        print(f\"{a} 와 {b}와 연산자 {op}의 결과는 {a*b}\")        \n",
    "        break \n",
    "    elif op == \"/\":   \n",
    "        if b==0: \n",
    "           print(\"0으로 나누지 마\")            \n",
    "           break  \n",
    "        else:         \n",
    "           print(f\"{a} 와 {b}와 연산자 {op}의 결과는 {a/b:.2f}\")          \n",
    "           break           \n"
   ]
  },
  {
   "cell_type": "code",
   "execution_count": 18,
   "metadata": {},
   "outputs": [
    {
     "name": "stdout",
     "output_type": "stream",
     "text": [
      "3.33\n"
     ]
    }
   ],
   "source": [
    "# 교수님\n",
    "while True:    \n",
    "    num1 = input(\"첫번째 정수 입력하셈, (exit 입력시 종료)\")\n",
    "    \n",
    "    if num1== \"exit\":\n",
    "        break\n",
    "    \n",
    "    num2 = input(\"두번째 정수 입력하셈\")\n",
    "    op = input(\"연산자 입력하셈(+,-,*,/)\")\n",
    "\n",
    "    if not a.isdigit() or not b.isdigit():\n",
    "        print(\"올바른 값을 입력하세요.\")\n",
    "        continue\n",
    "        \n",
    "    \n",
    "    a=int(num1)\n",
    "    b=int(num2)\n",
    "    result = 0\n",
    "\n",
    "    if op == \"+\":\n",
    "        result = a + b    \n",
    "        output=f\"{result}\"\n",
    "        break      \n",
    "    elif op == \"-\":\n",
    "        result = a - b       \n",
    "        output=f\"{result}\"       \n",
    "        break \n",
    "    elif op == \"*\":\n",
    "        result = a*b       \n",
    "        output= f\"{result}\"\n",
    "        break \n",
    "    elif op == \"/\":   \n",
    "        if b==0: \n",
    "           print(\"0으로 나누지 마\")            \n",
    "           break  \n",
    "        else:         \n",
    "             result = a / b       \n",
    "             output=f\"{result:.2f}\"\n",
    "             break           \n",
    "    else:\n",
    "     print(\"잘못된 연산자입니다\")\n",
    "       \n",
    "print(output)       "
   ]
  }
 ],
 "metadata": {
  "kernelspec": {
   "display_name": "Python 3",
   "language": "python",
   "name": "python3"
  },
  "language_info": {
   "codemirror_mode": {
    "name": "ipython",
    "version": 3
   },
   "file_extension": ".py",
   "mimetype": "text/x-python",
   "name": "python",
   "nbconvert_exporter": "python",
   "pygments_lexer": "ipython3",
   "version": "3.10.9"
  },
  "orig_nbformat": 4
 },
 "nbformat": 4,
 "nbformat_minor": 2
}
