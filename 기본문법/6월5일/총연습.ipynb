{
 "cells": [
  {
   "cell_type": "code",
   "execution_count": 1,
   "metadata": {},
   "outputs": [
    {
     "name": "stdout",
     "output_type": "stream",
     "text": [
      "buffa\n",
      "lo\n"
     ]
    }
   ],
   "source": [
    "word = input(\"단어를 입력하세요\")\n",
    "\n",
    "print(word.replace('a', 'a\\n'))\n"
   ]
  },
  {
   "cell_type": "code",
   "execution_count": 2,
   "metadata": {},
   "outputs": [
    {
     "name": "stdout",
     "output_type": "stream",
     "text": [
      "13501\n"
     ]
    }
   ],
   "source": [
    "total = 0\n",
    "\n",
    "for num in range(1,1001):\n",
    "    digits_sum = 0\n",
    "    for digit in str(num):\n",
    "        digits_sum += int(digit)\n",
    "\n",
    "    total += digits_sum\n",
    "print(total)    "
   ]
  },
  {
   "cell_type": "code",
   "execution_count": 3,
   "metadata": {},
   "outputs": [],
   "source": [
    "matrix = [\n",
    "    [1,2,3],\n",
    "    [4,5,6],\n",
    "    [7,8,9]\n",
    "]"
   ]
  },
  {
   "cell_type": "code",
   "execution_count": 4,
   "metadata": {},
   "outputs": [
    {
     "data": {
      "text/plain": [
       "['Frank', 'Alice', 'Grace', 'Bob', 'Charlie', 'Dave', 'Emma', 'Hannah']"
      ]
     },
     "execution_count": 4,
     "metadata": {},
     "output_type": "execute_result"
    }
   ],
   "source": [
    "f = ['Alice', 'Bob', 'Charlie', 'Dave', 'Emma']\n",
    "\n",
    "f.insert(0,'Frank')\n",
    "f.insert(2, 'Grace')\n",
    "f.append('Hannah')\n",
    "f"
   ]
  }
 ],
 "metadata": {
  "kernelspec": {
   "display_name": "Python 3",
   "language": "python",
   "name": "python3"
  },
  "language_info": {
   "codemirror_mode": {
    "name": "ipython",
    "version": 3
   },
   "file_extension": ".py",
   "mimetype": "text/x-python",
   "name": "python",
   "nbconvert_exporter": "python",
   "pygments_lexer": "ipython3",
   "version": "3.11.3"
  },
  "orig_nbformat": 4
 },
 "nbformat": 4,
 "nbformat_minor": 2
}
