{
 "cells": [
  {
   "cell_type": "code",
   "execution_count": 6,
   "metadata": {},
   "outputs": [
    {
     "name": "stdout",
     "output_type": "stream",
     "text": [
      "This is an example file.\n",
      "We will use it to demonstrate file reading in Python.\n",
      "This is an example file.\n",
      "\n",
      "['We will use it to demonstrate file reading in Python.']\n"
     ]
    }
   ],
   "source": [
    "file = open(\"example.txt\", \"r\")\n",
    "\n",
    "# 파일 내용 전체를 읽습니다.\n",
    "content = file.read()\n",
    "print(content)\n",
    "\n",
    "file.seek(0) #파일 포인터를 처음으로 돌린다.\n",
    "\n",
    "# 파일에서 한 줄을 읽습니다.\n",
    "line = file.readline()\n",
    "print(line)\n",
    "\n",
    "# 파일 전체를 읽고 각 줄을 리스트로 반환합니다.\n",
    "lines = file.readlines()\n",
    "print(lines)\n",
    "\n",
    "file.close()  # 파일을 닫습니다.\n"
   ]
  },
  {
   "cell_type": "code",
   "execution_count": 9,
   "metadata": {},
   "outputs": [],
   "source": [
    "file = open(\"example.txt\", \"w\")\n",
    "\n",
    "# 파일에 문자열을 씁니다. //기존꺼 지우고 싹다 다시 넣네\n",
    "file.write(\"Hello, world!\\n\") \n",
    "file.write(\"This is an example file.\\n\")\n",
    "\n",
    "# 파일에 문자열의 리스트를 씁니다.\n",
    "lines = [\"We will use it to demonstrate file writing in Python.\\n\",\n",
    "         \"We can write multiple lines at once.\\n\"]\n",
    "file.writelines(lines)\n",
    "\n",
    "file.close()  # 파일을 닫습니다.\n"
   ]
  },
  {
   "cell_type": "code",
   "execution_count": 12,
   "metadata": {},
   "outputs": [],
   "source": [
    "with open(\"example.txt\", \"w\") as file:\n",
    "\n",
    "# 파일에 문자열을 씁니다. //기존꺼 지우고 싹다 다시 넣네\n",
    "    file.write(\"Hello, world!\\n\") \n",
    "    file.write(\"This is an example file.\\n\")\n",
    "\n",
    "# 파일에 문자열의 리스트를 씁니다.\n",
    "    lines = [\"We will use it to demonstrate file writing in Python.\\n\",\n",
    "         \"We can write multiple lines at once.\\n\"]\n",
    "    file.writelines(lines)\n",
    "\n",
    "\n",
    "\n",
    "#with 구문으로 파일 열고 바로 닫기"
   ]
  },
  {
   "cell_type": "code",
   "execution_count": 13,
   "metadata": {},
   "outputs": [
    {
     "name": "stdout",
     "output_type": "stream",
     "text": [
      "읽기 모드 예시:\n",
      "Hello, world!\n",
      "This is an example file.\n",
      "We will use it to demonstrate file writing in Python.\n",
      "We can write multiple lines at once.\n",
      "\n",
      "쓰기 모드 예시:\n",
      "파일이 생성되었습니다.\n",
      "추가 모드 예시:\n",
      "파일이 열렸고 내용이 추가되었습니다.\n",
      "배타적 생성 모드 예시:\n",
      "새로운 파일이 생성되었습니다.\n",
      "이진 모드 예시:\n",
      "바이너리 파일이 생성되었습니다.\n",
      "읽기와 쓰기를 지원하는 모드 예시:\n",
      "파일 내용:\n",
      "This is an example.\n",
      "We are writing to a file.\n",
      "We are appending to a file.\n",
      "\n"
     ]
    }
   ],
   "source": [
    "#모드에 따른 파일 열기. 이 모드를 쓰면 이 행위만 가능\n",
    "\n",
    "# 읽기 모드로 파일을 엽니다.\n",
    "file = open(\"example.txt\", \"r\") #r이 읽기\n",
    "content = file.read()\n",
    "print(\"읽기 모드 예시:\")\n",
    "print(content)\n",
    "file.close()\n",
    "\n",
    "# 쓰기 모드로 파일을 엽니다.\n",
    "file = open(\"example.txt\", \"w\") #w 이 쓰기\n",
    "file.write(\"This is an example.\\n\")\n",
    "file.write(\"We are writing to a file.\\n\")\n",
    "print(\"쓰기 모드 예시:\")\n",
    "print(\"파일이 생성되었습니다.\")\n",
    "file.close()\n",
    "\n",
    "# 추가 모드로 파일을 엽니다.\n",
    "file = open(\"example.txt\", \"a\")\n",
    "file.write(\"We are appending to a file.\\n\")\n",
    "print(\"추가 모드 예시:\")\n",
    "print(\"파일이 열렸고 내용이 추가되었습니다.\")\n",
    "file.close()\n",
    "\n",
    "\n",
    "\n",
    "# 배타적 생성 모드로 파일을 엽니다. 새로운 파일을 생성. 이미 존재하면 오류\n",
    "file = open(\"example2.txt\", \"x\")\n",
    "file.write(\"This is a new file.\\n\")\n",
    "print(\"배타적 생성 모드 예시:\")\n",
    "print(\"새로운 파일이 생성되었습니다.\")\n",
    "file.close()\n",
    "\n",
    "# 이진 모드로 파일을 엽니다.\n",
    "file = open(\"example.bin\", \"wb\")\n",
    "file.write(b\"This is binary data.\")\n",
    "print(\"이진 모드 예시:\")\n",
    "print(\"바이너리 파일이 생성되었습니다.\")\n",
    "file.close()\n",
    "\n",
    "# 읽기와 쓰기를 지원하는 모드로 파일을 엽니다.\n",
    "file = open(\"example.txt\", \"r+\")\n",
    "content = file.read()\n",
    "print(\"읽기와 쓰기를 지원하는 모드 예시:\")\n",
    "print(\"파일 내용:\")\n",
    "print(content)\n",
    "file.write(\"\\nWe are writing to the file again.\")\n",
    "file.close()\n",
    "\n"
   ]
  },
  {
   "cell_type": "code",
   "execution_count": null,
   "metadata": {},
   "outputs": [],
   "source": [
    "#다양한 파일 읽기 함수\n",
    "\n",
    "with open(\"example.txt\", \"r\") as file:\n",
    "    # 파일 내용 전체를 읽습니다.\n",
    "    content = file.read()\n",
    "    print(\"read() 함수 예시:\")\n",
    "    print(content)\n",
    "\n",
    "    # 파일에서 한 줄을 읽습니다.\n",
    "    file.seek(0)  # 파일 포인터를 처음으로 돌립니다.\n",
    "    line = file.readline()\n",
    "    print(\"\\nreadline() 함수 예시:\")\n",
    "    print(line)\n",
    "\n",
    "    # 파일 전체를 읽고 각 줄을 리스트로 반환합니다.\n",
    "    file.seek(0)  # 파일 포인터를 처음으로 돌립니다.\n",
    "    lines = file.readlines()\n",
    "    print(\"\\nreadlines() 함수 예시:\")\n",
    "    print(lines)\n"
   ]
  },
  {
   "attachments": {},
   "cell_type": "markdown",
   "metadata": {},
   "source": [
    "# 정규표현식\n",
    "\n",
    "- 문자열 찾을때  \n",
    "\n",
    "a도 찾고싶고  \n",
    "aa도 찾고싶고  \n",
    "aaa도 찾고싶을때  \n",
    "\n",
    "이걸 쉽게 표현해주는게 정규표현식\n",
    "\n",
    "a{1,3} 이렇게 표현.  \n",
    "\n",
    "- a가 1개 이상인 문자를 찾고싶을때  \n",
    "\n",
    "a+ 이렇게 표현  \n",
    "\n",
    "a  \n",
    "aa  \n",
    "aaa  \n",
    "aaaa  \n",
    "이걸 저 하나로 끝  \n",
    "\n",
    "리터럴과 메타로 구성되어있다  \n",
    "a가 리터럴, +가 메타  "
   ]
  },
  {
   "cell_type": "code",
   "execution_count": 15,
   "metadata": {},
   "outputs": [
    {
     "name": "stdout",
     "output_type": "stream",
     "text": [
      "매칭된 문자열: python\n",
      "매칭되지 않음\n",
      "매칭되지 않음\n"
     ]
    }
   ],
   "source": [
    "import re\n",
    "\n",
    "# 문자열의 시작부터 정규표현식과 매칭되는 패턴 찾기\n",
    "pattern = r\"python\" #r은 정규표현식을 쓸때 사용한다. 원시(raw)문자열 임을 뜻함.\n",
    "string1 = \"python is easy\" #제일 앞에 있으니 찾는다\n",
    "string2 = \"I love python\" #뒤에 있어도 못찾는다. Research는 찾는다\n",
    "string3 = \"Python is fun\"\n",
    "\n",
    "match1 = re.match(pattern, string1) #리턴값이 문자열로 바로 나오는게 아냐\n",
    "match2 = re.match(pattern, string2) #트루 false로 반환된다\n",
    "match3 = re.match(pattern, string3)\n",
    "\n",
    "if match1:\n",
    "    print(\"매칭된 문자열:\", match1.group())  # 매칭된 문자열: python\n",
    "else:\n",
    "    print(\"매칭되지 않음\")\n",
    "\n",
    "if match2:\n",
    "    print(\"매칭된 문자열:\", match2.group())\n",
    "else:\n",
    "    print(\"매칭되지 않음\")\n",
    "\n",
    "if match3:\n",
    "    print(\"매칭된 문자열:\", match3.group())\n",
    "else:\n",
    "    print(\"매칭되지 않음\")\n"
   ]
  },
  {
   "cell_type": "code",
   "execution_count": 16,
   "metadata": {},
   "outputs": [
    {
     "name": "stdout",
     "output_type": "stream",
     "text": [
      "매칭된 문자열: python\n",
      "매칭된 문자열: python\n",
      "매칭되지 않음\n"
     ]
    }
   ],
   "source": [
    "import re\n",
    "\n",
    "# 문자열 전체에서 정규표현식과 매칭되는 패턴 찾기\n",
    "pattern = r\"python\"\n",
    "string1 = \"python is easy\"\n",
    "string2 = \"I love python\"\n",
    "string3 = \"Python is fun\"\n",
    "\n",
    "match1 = re.search(pattern, string1)\n",
    "match2 = re.search(pattern, string2)\n",
    "match3 = re.search(pattern, string3)\n",
    "\n",
    "if match1:\n",
    "    print(\"매칭된 문자열:\", match1.group())  # 매칭된 문자열: python\n",
    "else:\n",
    "    print(\"매칭되지 않음\")\n",
    "\n",
    "if match2:\n",
    "    print(\"매칭된 문자열:\", match2.group())  # 매칭된 문자열: python\n",
    "else:\n",
    "    print(\"매칭되지 않음\")\n",
    "\n",
    "if match3:\n",
    "    print(\"매칭된 문자열:\", match3.group())\n",
    "else:\n",
    "    print(\"매칭되지 않음\")\n"
   ]
  },
  {
   "cell_type": "code",
   "execution_count": 17,
   "metadata": {},
   "outputs": [
    {
     "name": "stdout",
     "output_type": "stream",
     "text": [
      "['2', '3']\n",
      "['1', '5']\n",
      "['12345678']\n"
     ]
    }
   ],
   "source": [
    "import re\n",
    "\n",
    "# 문자열에서 정규표현식과 매칭되는 모든 패턴 찾기\n",
    "pattern = r\"\\d+\"\n",
    "string1 = \"I have 2 apples and 3 oranges\"\n",
    "string2 = \"The temperature is -1.5 degrees Celsius\"\n",
    "string3 = \"The password is 12345678\"\n",
    "\n",
    "matches1 = re.findall(pattern, string1)\n",
    "matches2 = re.findall(pattern, string2)\n",
    "matches3 = re.findall(pattern, string3)\n",
    "\n",
    "print(matches1)  # ['2', '3']\n",
    "print(matches2)  # ['-1', '5']\n",
    "print(matches3)  # ['12345678']\n",
    "\n",
    "\n",
    "#모든 매칭되는걸 다 찾아.\n",
    "#r은 정규표현식을 쓸때 사용한다. 원시(raw)문자열 임을 뜻함."
   ]
  },
  {
   "cell_type": "code",
   "execution_count": 18,
   "metadata": {},
   "outputs": [
    {
     "name": "stdout",
     "output_type": "stream",
     "text": [
      "I have 10 apples and 10 oranges\n",
      "The temperature is -0.0 degrees Celsius\n",
      "The password is ***\n"
     ]
    }
   ],
   "source": [
    "import re\n",
    "\n",
    "# 문자열에서 정규표현식과 매칭되는 모든 패턴을 다른 문자열로 대체하기\n",
    "pattern = r\"\\d+\"\n",
    "string1 = \"I have 2 apples and 3 oranges\"\n",
    "string2 = \"The temperature is -1.5 degrees Celsius\"\n",
    "string3 = \"The password is 12345678\"\n",
    "\n",
    "result1 = re.sub(pattern, \"10\", string1)\n",
    "result2 = re.sub(pattern, \"0\", string2)\n",
    "result3 = re.sub(pattern, \"***\", string3)\n",
    "\n",
    "print(result1)  # I have 10 apples and 10 oranges\n",
    "print(result2)  # The temperature is -0.0 degrees Celsius\n",
    "print(result3)  # The password is ***\n"
   ]
  },
  {
   "cell_type": "code",
   "execution_count": 19,
   "metadata": {},
   "outputs": [
    {
     "name": "stdout",
     "output_type": "stream",
     "text": [
      "010\n",
      "1234-5678\n"
     ]
    }
   ],
   "source": [
    "import re\n",
    "\n",
    "phone_number = \"010-1234-5678\"\n",
    "pattern = r\"(\\d{2,3})-(\\d{3,4})-(\\d{4})\"\n",
    "result = re.match(pattern, phone_number)\n",
    "\n",
    "area_code = result.group(1) #인덱스가 1번부터네. 1번그룹은 (\\d{2,3}) 이걸말함\n",
    "phone_number_without_area_code = result.group(2) + \"-\" + result.group(3)\n",
    "#2번 그룹은 (\\d{3,4})\n",
    "print(area_code)  # 010\n",
    "print(phone_number_without_area_code)  # 1234-5678\n"
   ]
  },
  {
   "cell_type": "code",
   "execution_count": null,
   "metadata": {},
   "outputs": [],
   "source": [
    "#날짜 표기법이 YYYY-MM-DD 형태로 되어 있을 때 이를 MM/DD/YYYY 형태로 바꾸고 싶다면\n",
    "import re\n",
    "\n",
    "date = \"2022-03-18\"\n",
    "pattern = r\"(\\d{4})-(\\d{2})-(\\d{2})\"\n",
    "result = re.sub(pattern, r\"\\2/\\3/\\1\", date)\n",
    "#(\\d{4}) 이게 첫번째 그룹 -> \\1 이걸 뒤로 보냈네\n",
    "print(result)  # \"03/18/2022\"\n"
   ]
  },
  {
   "cell_type": "code",
   "execution_count": null,
   "metadata": {},
   "outputs": [],
   "source": [
    "import re\n",
    "\n",
    "# 이름 순서 바꾸기\n",
    "string = \"Kim, Yuna\"\n",
    "pattern = r\"(\\w+),\\s*(\\w+)\" #* 0개이상. 공백이 없을수도 있고. 공백이 없을수도 있고 있을수도 있으니.\n",
    "result = re.sub(pattern, r\"\\2 \\1\", string)\n",
    "print(result)  # \"Yuna Kim\"\n"
   ]
  },
  {
   "attachments": {},
   "cell_type": "markdown",
   "metadata": {},
   "source": [
    "# 패턴 옵션  \n",
    "정규표현식에서 사용되는 패턴 옵션은 대소문자 무시, 다중행 모드 등이 있습니다.  \n",
    "  \n",
    "\n",
    "re.IGNORECASE 또는 re.I 옵션  \n",
    "re.IGNORECASE 옵션은 대소문자를 무시합니다. 예를 들어, re.findall(r\"a\", \"AbCdAaA\", re.IGNORECASE)는 ['A', 'a', 'A', 'a', 'A']와 같은 리스트를 반환합니다.  \n",
    "\n",
    "re.MULTILINE 또는 re.M 옵션  \n",
    "re.MULTILINE 옵션은 다중행 모드를 사용합니다.  \n",
    "예를 들어, \"abc\\ndef\\nghi\"라는 문자열에서 r\"^g\"를 검색할 때, re.MULTILINE 옵션이  \n",
    "적용되면 \"g\"와 매칭됩니다.\n",
    "\n"
   ]
  },
  {
   "cell_type": "code",
   "execution_count": null,
   "metadata": {},
   "outputs": [],
   "source": [
    "string = \"Python is an interpreted language\"\n",
    "\n",
    "import re\n",
    "\n",
    "pattern = 'python'\n",
    "result = re.findall(pattern, string)\n",
    "print(result)  # []\n",
    "\n",
    "result = re.findall(pattern, string, re.IGNORECASE)\n",
    "print(result)  # ['Python']\n"
   ]
  },
  {
   "cell_type": "code",
   "execution_count": 20,
   "metadata": {},
   "outputs": [
    {
     "name": "stdout",
     "output_type": "stream",
     "text": [
      "['Python', 'typed']\n"
     ]
    }
   ],
   "source": [
    "string = \"\"\"Python is an interpreted language\n",
    "It is dynamically typed\n",
    "And it is easy to learn\"\"\"\n",
    "\n",
    "\n",
    "import re\n",
    "\n",
    "pattern = '^Python|typed$'\n",
    "result = re.findall(pattern, string, re.MULTILINE)\n",
    "print(result)  # ['Python', 'typed']\n"
   ]
  },
  {
   "cell_type": "code",
   "execution_count": null,
   "metadata": {},
   "outputs": [],
   "source": [
    "import re\n",
    "\n",
    "def extract_email(string):\n",
    "    pattern = r'\\b[A-Za-z0-9._%+-]+@[A-Za-z0-9.-]+\\.[A-Z|a-z]{2,}\\b'\n",
    "    emails = re.findall(pattern, string)\n",
    "    return emails\n",
    "\n",
    "\n",
    "string = \"John's email is john.doe123@example.com. Jane can be reached at jane@example.co.uk.\"\n",
    "\n",
    "emails = extract_email(string)\n",
    "print(emails)  # ['john.doe123@example.com', 'jane@example.co.uk']\n"
   ]
  },
  {
   "cell_type": "code",
   "execution_count": 22,
   "metadata": {},
   "outputs": [
    {
     "name": "stdout",
     "output_type": "stream",
     "text": [
      "True\n",
      "False\n",
      "False\n"
     ]
    }
   ],
   "source": [
    "import re\n",
    "\n",
    "def is_valid_phone_number(phone_number):\n",
    "    pattern = r'^\\d{3}-\\d{3,4}-\\d{4}$'\n",
    "#숫자3개 – 3~4개 - 4개 에 매칭. \\d 는 숫자\n",
    "    if re.match(pattern, phone_number):\n",
    "        return True\n",
    "    else:\n",
    "        return False\n",
    "\n",
    "phone_number1 = '010-1234-5678'\n",
    "phone_number2 = '02-123-4567'\n",
    "phone_number3 = '123-4567'\n",
    "\n",
    "print(is_valid_phone_number(phone_number1))  # True\n",
    "print(is_valid_phone_number(phone_number2))  # False\n",
    "print(is_valid_phone_number(phone_number3))  # False\n"
   ]
  },
  {
   "cell_type": "code",
   "execution_count": 4,
   "metadata": {},
   "outputs": [
    {
     "name": "stdout",
     "output_type": "stream",
     "text": [
      "3\n"
     ]
    }
   ],
   "source": [
    "N = input()\n",
    "bear = input()\n",
    "bearcopy = bear\n",
    "count = 0\n",
    "count2 = 0\n",
    "gae = 0\n",
    "gae2 = 0\n",
    "\n",
    "while bear:\n",
    "    gae = len(bear)\n",
    "    bear = bear.replace(\"()\", \"O\")\n",
    "    bear = bear.replace(\")(\", \"X\")\n",
    "    bear = bear.replace(\"O\", \"\")\n",
    "    bear = bear.replace(\"X\", \"\")\n",
    "    count += 1\n",
    "    if gae == len(bear):\n",
    "        break\n",
    "\n",
    "while bearcopy:\n",
    "    gae2 = len(bearcopy)\n",
    "    bearcopy = bearcopy.replace(\")(\", \"X\")\n",
    "    bearcopy = bearcopy.replace(\"()\", \"O\")\n",
    "    bearcopy = bearcopy.replace(\"X\", \"\")\n",
    "    bearcopy = bearcopy.replace(\"O\", \"\")\n",
    "    count2 += 1\n",
    "    if gae2 == len(bearcopy):\n",
    "        break\n",
    "\n",
    "if gae == len(bear) and gae2 == len(bearcopy):\n",
    "    print(\"-1\")\n",
    "\n",
    "if not bear or not bearcopy:\n",
    "    if count > count2:\n",
    "        print(count2)\n",
    "    elif count < count2:\n",
    "        print(count)\n",
    "    elif count == count2:\n",
    "        print(count)\n"
   ]
  }
 ],
 "metadata": {
  "kernelspec": {
   "display_name": "Python 3",
   "language": "python",
   "name": "python3"
  },
  "language_info": {
   "codemirror_mode": {
    "name": "ipython",
    "version": 3
   },
   "file_extension": ".py",
   "mimetype": "text/x-python",
   "name": "python",
   "nbconvert_exporter": "python",
   "pygments_lexer": "ipython3",
   "version": "3.11.3"
  },
  "orig_nbformat": 4
 },
 "nbformat": 4,
 "nbformat_minor": 2
}
