{
 "cells": [
  {
   "attachments": {},
   "cell_type": "markdown",
   "metadata": {},
   "source": [
    "# 8958번. OX퀴즈"
   ]
  },
  {
   "cell_type": "code",
   "execution_count": null,
   "metadata": {},
   "outputs": [],
   "source": [
    "num = int(input())\n",
    "\n",
    "for i in range(0,num):\n",
    "    ox = str(input())\n",
    "    count = 0\n",
    "    total = 0   \n",
    "    for ch in ox:      \n",
    "        if ch == 'O':\n",
    "            count += 1\n",
    "            total += count             \n",
    "        elif ch=='X':\n",
    "            count = 0\n",
    "    print(total)      \n",
    "\n",
    "\n",
    "          \n"
   ]
  },
  {
   "attachments": {},
   "cell_type": "markdown",
   "metadata": {},
   "source": [
    "# 1157번. 단어공부"
   ]
  },
  {
   "cell_type": "code",
   "execution_count": 24,
   "metadata": {},
   "outputs": [],
   "source": [
    "alpa = str(input())\n",
    "beta = list(alpa)\n",
    "\n",
    "max = 0\n",
    "double = 0\n",
    "\n",
    "for i in (0, len(beta)-2):\n",
    "    count = 0\n",
    "    for j in (1, len(beta)-1):\n",
    "        if beta[i] == beta[j]:\n",
    "            count += 1                   \n",
    "            if max < count:\n",
    "                max = count\n",
    "                print(max)\n",
    "\n",
    "\n"
   ]
  }
 ],
 "metadata": {
  "kernelspec": {
   "display_name": "Python 3",
   "language": "python",
   "name": "python3"
  },
  "language_info": {
   "codemirror_mode": {
    "name": "ipython",
    "version": 3
   },
   "file_extension": ".py",
   "mimetype": "text/x-python",
   "name": "python",
   "nbconvert_exporter": "python",
   "pygments_lexer": "ipython3",
   "version": "3.10.8"
  },
  "orig_nbformat": 4
 },
 "nbformat": 4,
 "nbformat_minor": 2
}
